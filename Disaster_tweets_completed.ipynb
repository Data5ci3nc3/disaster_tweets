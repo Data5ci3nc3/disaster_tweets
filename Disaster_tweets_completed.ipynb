{
  "nbformat": 4,
  "nbformat_minor": 0,
  "metadata": {
    "colab": {
      "name": "Disaster_tweets_completed.ipynb",
      "provenance": []
    },
    "kernelspec": {
      "name": "python3",
      "display_name": "Python 3"
    },
    "language_info": {
      "name": "python"
    },
    "accelerator": "GPU"
  },
  "cells": [
    {
      "cell_type": "markdown",
      "metadata": {
        "id": "WF8n0bs2Lp43"
      },
      "source": [
        "# **Deep learning project : real or not real disaster tweets ?**"
      ]
    },
    {
      "cell_type": "markdown",
      "metadata": {
        "id": "oVjkmlqwNBYH"
      },
      "source": [
        "##### **Importing appropriate librairies**"
      ]
    },
    {
      "cell_type": "code",
      "metadata": {
        "id": "8QzszDLXNARn"
      },
      "source": [
        "# Import Tensorflow & Pathlib librairies\n",
        "import tensorflow as tf \n",
        "import pathlib \n",
        "import pandas as pd\n",
        "import numpy as np \n",
        "import os\n",
        "import io\n",
        "import re\n",
        "import warnings\n",
        "warnings.filterwarnings('ignore')\n",
        "import matplotlib.pyplot as plt\n",
        "import seaborn as sns"
      ],
      "execution_count": 2,
      "outputs": []
    },
    {
      "cell_type": "markdown",
      "metadata": {
        "id": "o6PtENB_NRjr"
      },
      "source": [
        "##### **Loading the train and test data in a Pandas dataframe**"
      ]
    },
    {
      "cell_type": "code",
      "metadata": {
        "id": "UavjIP5QLqjy"
      },
      "source": [
        "tweets_train = pd.read_csv(\"twitter_train.csv\", error_bad_lines=False, encoding=\"utf-8\")"
      ],
      "execution_count": 3,
      "outputs": []
    },
    {
      "cell_type": "markdown",
      "metadata": {
        "id": "Wtud9C2CN3l3"
      },
      "source": [
        "##### **Getting a sense of the data**"
      ]
    },
    {
      "cell_type": "code",
      "metadata": {
        "colab": {
          "base_uri": "https://localhost:8080/",
          "height": 204
        },
        "id": "FhhGLIaUNnbf",
        "outputId": "301948f0-77a6-4771-ac87-16a01e8a6630"
      },
      "source": [
        "tweets_train.head()"
      ],
      "execution_count": 4,
      "outputs": [
        {
          "output_type": "execute_result",
          "data": {
            "text/html": [
              "<div>\n",
              "<style scoped>\n",
              "    .dataframe tbody tr th:only-of-type {\n",
              "        vertical-align: middle;\n",
              "    }\n",
              "\n",
              "    .dataframe tbody tr th {\n",
              "        vertical-align: top;\n",
              "    }\n",
              "\n",
              "    .dataframe thead th {\n",
              "        text-align: right;\n",
              "    }\n",
              "</style>\n",
              "<table border=\"1\" class=\"dataframe\">\n",
              "  <thead>\n",
              "    <tr style=\"text-align: right;\">\n",
              "      <th></th>\n",
              "      <th>id</th>\n",
              "      <th>keyword</th>\n",
              "      <th>location</th>\n",
              "      <th>text</th>\n",
              "      <th>target</th>\n",
              "    </tr>\n",
              "  </thead>\n",
              "  <tbody>\n",
              "    <tr>\n",
              "      <th>0</th>\n",
              "      <td>1</td>\n",
              "      <td>NaN</td>\n",
              "      <td>NaN</td>\n",
              "      <td>Our Deeds are the Reason of this #earthquake M...</td>\n",
              "      <td>1</td>\n",
              "    </tr>\n",
              "    <tr>\n",
              "      <th>1</th>\n",
              "      <td>4</td>\n",
              "      <td>NaN</td>\n",
              "      <td>NaN</td>\n",
              "      <td>Forest fire near La Ronge Sask. Canada</td>\n",
              "      <td>1</td>\n",
              "    </tr>\n",
              "    <tr>\n",
              "      <th>2</th>\n",
              "      <td>5</td>\n",
              "      <td>NaN</td>\n",
              "      <td>NaN</td>\n",
              "      <td>All residents asked to 'shelter in place' are ...</td>\n",
              "      <td>1</td>\n",
              "    </tr>\n",
              "    <tr>\n",
              "      <th>3</th>\n",
              "      <td>6</td>\n",
              "      <td>NaN</td>\n",
              "      <td>NaN</td>\n",
              "      <td>13,000 people receive #wildfires evacuation or...</td>\n",
              "      <td>1</td>\n",
              "    </tr>\n",
              "    <tr>\n",
              "      <th>4</th>\n",
              "      <td>7</td>\n",
              "      <td>NaN</td>\n",
              "      <td>NaN</td>\n",
              "      <td>Just got sent this photo from Ruby #Alaska as ...</td>\n",
              "      <td>1</td>\n",
              "    </tr>\n",
              "  </tbody>\n",
              "</table>\n",
              "</div>"
            ],
            "text/plain": [
              "   id keyword  ...                                               text target\n",
              "0   1     NaN  ...  Our Deeds are the Reason of this #earthquake M...      1\n",
              "1   4     NaN  ...             Forest fire near La Ronge Sask. Canada      1\n",
              "2   5     NaN  ...  All residents asked to 'shelter in place' are ...      1\n",
              "3   6     NaN  ...  13,000 people receive #wildfires evacuation or...      1\n",
              "4   7     NaN  ...  Just got sent this photo from Ruby #Alaska as ...      1\n",
              "\n",
              "[5 rows x 5 columns]"
            ]
          },
          "metadata": {},
          "execution_count": 4
        }
      ]
    },
    {
      "cell_type": "code",
      "metadata": {
        "colab": {
          "base_uri": "https://localhost:8080/"
        },
        "id": "F0wb9LQWN1SL",
        "outputId": "0566dfee-621b-4179-9907-93ce40b2e41c"
      },
      "source": [
        "tweets_train.shape"
      ],
      "execution_count": 5,
      "outputs": [
        {
          "output_type": "execute_result",
          "data": {
            "text/plain": [
              "(7613, 5)"
            ]
          },
          "metadata": {},
          "execution_count": 5
        }
      ]
    },
    {
      "cell_type": "code",
      "metadata": {
        "colab": {
          "base_uri": "https://localhost:8080/"
        },
        "id": "Eu0wPnQyOExi",
        "outputId": "000daf03-52c5-463b-d13c-44a6120da330"
      },
      "source": [
        "tweets_train.info()"
      ],
      "execution_count": 6,
      "outputs": [
        {
          "output_type": "stream",
          "name": "stdout",
          "text": [
            "<class 'pandas.core.frame.DataFrame'>\n",
            "RangeIndex: 7613 entries, 0 to 7612\n",
            "Data columns (total 5 columns):\n",
            " #   Column    Non-Null Count  Dtype \n",
            "---  ------    --------------  ----- \n",
            " 0   id        7613 non-null   int64 \n",
            " 1   keyword   7552 non-null   object\n",
            " 2   location  5080 non-null   object\n",
            " 3   text      7613 non-null   object\n",
            " 4   target    7613 non-null   int64 \n",
            "dtypes: int64(2), object(3)\n",
            "memory usage: 297.5+ KB\n"
          ]
        }
      ]
    },
    {
      "cell_type": "code",
      "metadata": {
        "colab": {
          "base_uri": "https://localhost:8080/"
        },
        "id": "vyXxeAF7OLnx",
        "outputId": "616b5864-4499-4efd-a37b-f3f509935130"
      },
      "source": [
        "len(tweets_train[\"keyword\"].unique())"
      ],
      "execution_count": 7,
      "outputs": [
        {
          "output_type": "execute_result",
          "data": {
            "text/plain": [
              "222"
            ]
          },
          "metadata": {},
          "execution_count": 7
        }
      ]
    },
    {
      "cell_type": "code",
      "metadata": {
        "colab": {
          "base_uri": "https://localhost:8080/"
        },
        "id": "0F_1sFmNOUyo",
        "outputId": "03670fe1-a5b1-463e-d760-b0705ac18c5c"
      },
      "source": [
        "len(tweets_train[\"location\"].unique())"
      ],
      "execution_count": 8,
      "outputs": [
        {
          "output_type": "execute_result",
          "data": {
            "text/plain": [
              "3342"
            ]
          },
          "metadata": {},
          "execution_count": 8
        }
      ]
    },
    {
      "cell_type": "markdown",
      "metadata": {
        "id": "wR1d1tKLOn5S"
      },
      "source": [
        "##### **Checking the composition of the \"target\" column**"
      ]
    },
    {
      "cell_type": "code",
      "metadata": {
        "colab": {
          "base_uri": "https://localhost:8080/",
          "height": 296
        },
        "id": "oogR-uElOdi0",
        "outputId": "ffb6f186-6da8-49ce-f709-b7da4e1538ed"
      },
      "source": [
        "sns.countplot(\"target\", data =tweets_train)"
      ],
      "execution_count": 9,
      "outputs": [
        {
          "output_type": "execute_result",
          "data": {
            "text/plain": [
              "<matplotlib.axes._subplots.AxesSubplot at 0x7ff687956790>"
            ]
          },
          "metadata": {},
          "execution_count": 9
        },
        {
          "output_type": "display_data",
          "data": {
            "image/png": "[encoded data removed]",
            "text/plain": [
              "<Figure size 432x288 with 1 Axes>"
            ]
          },
          "metadata": {
            "needs_background": "light"
          }
        }
      ]
    },
    {
      "cell_type": "code",
      "metadata": {
        "colab": {
          "base_uri": "https://localhost:8080/"
        },
        "id": "R8rYmZMXjNkU",
        "outputId": "66f75491-88aa-4d2c-95b5-f687f5f219f1"
      },
      "source": [
        "tweets_train[\"target\"].value_counts()"
      ],
      "execution_count": 10,
      "outputs": [
        {
          "output_type": "execute_result",
          "data": {
            "text/plain": [
              "0    4342\n",
              "1    3271\n",
              "Name: target, dtype: int64"
            ]
          },
          "metadata": {},
          "execution_count": 10
        }
      ]
    },
    {
      "cell_type": "code",
      "metadata": {
        "colab": {
          "base_uri": "https://localhost:8080/",
          "height": 204
        },
        "id": "bzgBnpZKW4DH",
        "outputId": "ce4dc0e0-f985-4e57-e429-076cd46acc88"
      },
      "source": [
        "tweets = tweets_train[[\"text\", \"target\"]]\n",
        "tweets.head()"
      ],
      "execution_count": 11,
      "outputs": [
        {
          "output_type": "execute_result",
          "data": {
            "text/html": [
              "<div>\n",
              "<style scoped>\n",
              "    .dataframe tbody tr th:only-of-type {\n",
              "        vertical-align: middle;\n",
              "    }\n",
              "\n",
              "    .dataframe tbody tr th {\n",
              "        vertical-align: top;\n",
              "    }\n",
              "\n",
              "    .dataframe thead th {\n",
              "        text-align: right;\n",
              "    }\n",
              "</style>\n",
              "<table border=\"1\" class=\"dataframe\">\n",
              "  <thead>\n",
              "    <tr style=\"text-align: right;\">\n",
              "      <th></th>\n",
              "      <th>text</th>\n",
              "      <th>target</th>\n",
              "    </tr>\n",
              "  </thead>\n",
              "  <tbody>\n",
              "    <tr>\n",
              "      <th>0</th>\n",
              "      <td>Our Deeds are the Reason of this #earthquake M...</td>\n",
              "      <td>1</td>\n",
              "    </tr>\n",
              "    <tr>\n",
              "      <th>1</th>\n",
              "      <td>Forest fire near La Ronge Sask. Canada</td>\n",
              "      <td>1</td>\n",
              "    </tr>\n",
              "    <tr>\n",
              "      <th>2</th>\n",
              "      <td>All residents asked to 'shelter in place' are ...</td>\n",
              "      <td>1</td>\n",
              "    </tr>\n",
              "    <tr>\n",
              "      <th>3</th>\n",
              "      <td>13,000 people receive #wildfires evacuation or...</td>\n",
              "      <td>1</td>\n",
              "    </tr>\n",
              "    <tr>\n",
              "      <th>4</th>\n",
              "      <td>Just got sent this photo from Ruby #Alaska as ...</td>\n",
              "      <td>1</td>\n",
              "    </tr>\n",
              "  </tbody>\n",
              "</table>\n",
              "</div>"
            ],
            "text/plain": [
              "                                                text  target\n",
              "0  Our Deeds are the Reason of this #earthquake M...       1\n",
              "1             Forest fire near La Ronge Sask. Canada       1\n",
              "2  All residents asked to 'shelter in place' are ...       1\n",
              "3  13,000 people receive #wildfires evacuation or...       1\n",
              "4  Just got sent this photo from Ruby #Alaska as ...       1"
            ]
          },
          "metadata": {},
          "execution_count": 11
        }
      ]
    },
    {
      "cell_type": "markdown",
      "metadata": {
        "id": "9NpYrneUToQT"
      },
      "source": [
        "## **Data preprocessing and basic exploratory data analysis**\n"
      ]
    },
    {
      "cell_type": "markdown",
      "metadata": {
        "id": "ON-uDWdKj7r6"
      },
      "source": [
        "##### **Downloading a preprocessing package**"
      ]
    },
    {
      "cell_type": "markdown",
      "metadata": {
        "id": "v9D7FncaTQgn"
      },
      "source": [
        "##### **Installing preprocess_kgptalkie available [here](https://github.com/laxmimerit/preprocess_kgptalkie)**"
      ]
    },
    {
      "cell_type": "code",
      "metadata": {
        "colab": {
          "base_uri": "https://localhost:8080/"
        },
        "id": "CKYz-SjrkGqD",
        "outputId": "39f689a0-496a-4d59-deab-39bfe7d8d14f"
      },
      "source": [
        " !pip install git+https://github.com/laxmimerit/preprocess_kgptalkie.git --upgrade --force-reinstall"
      ],
      "execution_count": 12,
      "outputs": [
        {
          "output_type": "stream",
          "name": "stdout",
          "text": [
            "Collecting git+https://github.com/laxmimerit/preprocess_kgptalkie.git\n",
            "  Cloning https://github.com/laxmimerit/preprocess_kgptalkie.git to /tmp/pip-req-build-tdz_9pb5\n",
            "  Running command git clone -q https://github.com/laxmimerit/preprocess_kgptalkie.git /tmp/pip-req-build-tdz_9pb5\n",
            "Building wheels for collected packages: preprocess-kgptalkie\n",
            "  Building wheel for preprocess-kgptalkie (setup.py) ... \u001b[?25l\u001b[?25hdone\n",
            "  Created wheel for preprocess-kgptalkie: filename=preprocess_kgptalkie-0.1.3-py3-none-any.whl size=11754 sha256=5cdca10ae73c1ce51f0f81ce17d879d1bbd9d42c45251b216aec2cdde203f3d9\n",
            "  Stored in directory: /tmp/pip-ephem-wheel-cache-2qph6t8n/wheels/0d/b3/29/bfe3deffda68980088d17b81331be6667e837ffb4a071bae82\n",
            "Successfully built preprocess-kgptalkie\n",
            "Installing collected packages: preprocess-kgptalkie\n",
            "Successfully installed preprocess-kgptalkie-0.1.3\n"
          ]
        }
      ]
    },
    {
      "cell_type": "code",
      "metadata": {
        "id": "vX32vozVkWDJ"
      },
      "source": [
        "import preprocess_kgptalkie as ps"
      ],
      "execution_count": 13,
      "outputs": []
    },
    {
      "cell_type": "code",
      "metadata": {
        "id": "99blRClQkquL"
      },
      "source": [
        "tweet = ps.get_basic_features(tweets)"
      ],
      "execution_count": 14,
      "outputs": []
    },
    {
      "cell_type": "code",
      "metadata": {
        "colab": {
          "base_uri": "https://localhost:8080/",
          "height": 598
        },
        "id": "HWotTaqMmLsU",
        "outputId": "1e8a433c-0b27-41c7-e9ad-0b88e641c20c"
      },
      "source": [
        "tweet.head()"
      ],
      "execution_count": 15,
      "outputs": [
        {
          "output_type": "execute_result",
          "data": {
            "text/html": [
              "<div>\n",
              "<style scoped>\n",
              "    .dataframe tbody tr th:only-of-type {\n",
              "        vertical-align: middle;\n",
              "    }\n",
              "\n",
              "    .dataframe tbody tr th {\n",
              "        vertical-align: top;\n",
              "    }\n",
              "\n",
              "    .dataframe thead th {\n",
              "        text-align: right;\n",
              "    }\n",
              "</style>\n",
              "<table border=\"1\" class=\"dataframe\">\n",
              "  <thead>\n",
              "    <tr style=\"text-align: right;\">\n",
              "      <th></th>\n",
              "      <th>text</th>\n",
              "      <th>target</th>\n",
              "      <th>char_counts</th>\n",
              "      <th>word_counts</th>\n",
              "      <th>avg_wordlength</th>\n",
              "      <th>stopwords_counts</th>\n",
              "      <th>hashtag_counts</th>\n",
              "      <th>mentions_counts</th>\n",
              "      <th>digits_counts</th>\n",
              "      <th>uppercase_counts</th>\n",
              "    </tr>\n",
              "  </thead>\n",
              "  <tbody>\n",
              "    <tr>\n",
              "      <th>0</th>\n",
              "      <td>Our Deeds are the Reason of this #earthquake M...</td>\n",
              "      <td>1</td>\n",
              "      <td>57</td>\n",
              "      <td>13</td>\n",
              "      <td>4.384615</td>\n",
              "      <td>6</td>\n",
              "      <td>1</td>\n",
              "      <td>0</td>\n",
              "      <td>0</td>\n",
              "      <td>1</td>\n",
              "    </tr>\n",
              "    <tr>\n",
              "      <th>1</th>\n",
              "      <td>Forest fire near La Ronge Sask. Canada</td>\n",
              "      <td>1</td>\n",
              "      <td>32</td>\n",
              "      <td>7</td>\n",
              "      <td>4.571429</td>\n",
              "      <td>0</td>\n",
              "      <td>0</td>\n",
              "      <td>0</td>\n",
              "      <td>1</td>\n",
              "      <td>0</td>\n",
              "    </tr>\n",
              "    <tr>\n",
              "      <th>2</th>\n",
              "      <td>All residents asked to 'shelter in place' are ...</td>\n",
              "      <td>1</td>\n",
              "      <td>112</td>\n",
              "      <td>22</td>\n",
              "      <td>5.090909</td>\n",
              "      <td>9</td>\n",
              "      <td>0</td>\n",
              "      <td>0</td>\n",
              "      <td>1</td>\n",
              "      <td>0</td>\n",
              "    </tr>\n",
              "    <tr>\n",
              "      <th>3</th>\n",
              "      <td>13,000 people receive #wildfires evacuation or...</td>\n",
              "      <td>1</td>\n",
              "      <td>57</td>\n",
              "      <td>8</td>\n",
              "      <td>7.125000</td>\n",
              "      <td>1</td>\n",
              "      <td>1</td>\n",
              "      <td>0</td>\n",
              "      <td>1</td>\n",
              "      <td>0</td>\n",
              "    </tr>\n",
              "    <tr>\n",
              "      <th>4</th>\n",
              "      <td>Just got sent this photo from Ruby #Alaska as ...</td>\n",
              "      <td>1</td>\n",
              "      <td>72</td>\n",
              "      <td>16</td>\n",
              "      <td>4.500000</td>\n",
              "      <td>6</td>\n",
              "      <td>2</td>\n",
              "      <td>0</td>\n",
              "      <td>0</td>\n",
              "      <td>0</td>\n",
              "    </tr>\n",
              "  </tbody>\n",
              "</table>\n",
              "</div>"
            ],
            "text/plain": [
              "                                                text  ...  uppercase_counts\n",
              "0  Our Deeds are the Reason of this #earthquake M...  ...                 1\n",
              "1             Forest fire near La Ronge Sask. Canada  ...                 0\n",
              "2  All residents asked to 'shelter in place' are ...  ...                 0\n",
              "3  13,000 people receive #wildfires evacuation or...  ...                 0\n",
              "4  Just got sent this photo from Ruby #Alaska as ...  ...                 0\n",
              "\n",
              "[5 rows x 10 columns]"
            ]
          },
          "metadata": {},
          "execution_count": 15
        }
      ]
    },
    {
      "cell_type": "markdown",
      "metadata": {
        "id": "iKbJG7HLmkO1"
      },
      "source": [
        "##### **Kernel density plots of the character counts of tweets when there is a disaster and when there is no disaster**"
      ]
    },
    {
      "cell_type": "code",
      "metadata": {
        "colab": {
          "base_uri": "https://localhost:8080/",
          "height": 298
        },
        "id": "hDkPYIghmkwY",
        "outputId": "fffee163-9aea-4247-b2a1-ab4c0c0e4014"
      },
      "source": [
        "sns.kdeplot(tweet[tweet[\"target\"]==1][\"char_counts\"], color = \"orange\", shade=True)\n",
        "sns.kdeplot(tweet[tweet[\"target\"]==0][\"char_counts\"], color = \"blue\", shade=True)"
      ],
      "execution_count": 16,
      "outputs": [
        {
          "output_type": "execute_result",
          "data": {
            "text/plain": [
              "<matplotlib.axes._subplots.AxesSubplot at 0x7ff5f9b3e4d0>"
            ]
          },
          "metadata": {},
          "execution_count": 16
        },
        {
          "output_type": "display_data",
          "data": {
            "image/png": "[encoded data removed]",
            "text/plain": [
              "<Figure size 432x288 with 1 Axes>"
            ]
          },
          "metadata": {
            "needs_background": "light"
          }
        }
      ]
    },
    {
      "cell_type": "markdown",
      "metadata": {
        "id": "gMH2pefknra5"
      },
      "source": [
        "*This implies that the number of characters in tweets tend to be longer when there is a disaster.*"
      ]
    },
    {
      "cell_type": "markdown",
      "metadata": {
        "id": "4a_ZU9xWoyFs"
      },
      "source": [
        "##### **Kernel density plots of the average word length of tweets when there is a disaster and when there is no disaster**"
      ]
    },
    {
      "cell_type": "code",
      "metadata": {
        "colab": {
          "base_uri": "https://localhost:8080/",
          "height": 297
        },
        "id": "i6HPXQqjoyif",
        "outputId": "fcf99aaa-4b1d-40b0-bead-2453abf1a320"
      },
      "source": [
        "sns.kdeplot(tweet[tweet[\"target\"]==1][\"avg_wordlength\"], color = \"orange\", shade=True)\n",
        "sns.kdeplot(tweet[tweet[\"target\"]==0][\"avg_wordlength\"], color = \"blue\", shade=True)"
      ],
      "execution_count": 17,
      "outputs": [
        {
          "output_type": "execute_result",
          "data": {
            "text/plain": [
              "<matplotlib.axes._subplots.AxesSubplot at 0x7ff5f9ad9590>"
            ]
          },
          "metadata": {},
          "execution_count": 17
        },
        {
          "output_type": "display_data",
          "data": {
            "image/png": "[encoded data removed]",
            "text/plain": [
              "<Figure size 432x288 with 1 Axes>"
            ]
          },
          "metadata": {
            "needs_background": "light"
          }
        }
      ]
    },
    {
      "cell_type": "markdown",
      "metadata": {
        "id": "7RpUtzs3pFLn"
      },
      "source": [
        "*This implies that the average length of words in tweets tend to be longer when there is a disaster.*"
      ]
    },
    {
      "cell_type": "markdown",
      "metadata": {
        "id": "7Vnz8pxsppNn"
      },
      "source": [
        "##### **Kernel density plots of the number of stop words contained in tweets when there is a disaster and when there is no disaster**"
      ]
    },
    {
      "cell_type": "code",
      "metadata": {
        "colab": {
          "base_uri": "https://localhost:8080/",
          "height": 297
        },
        "id": "JMuDP3jrppqk",
        "outputId": "4ea56dde-d971-43bb-c751-e76af056935c"
      },
      "source": [
        "sns.kdeplot(tweet[tweet[\"target\"]==1][\"stopwords_counts\"], color = \"orange\", shade=True)\n",
        "sns.kdeplot(tweet[tweet[\"target\"]==0][\"stopwords_counts\"], color = \"blue\", shade=True)"
      ],
      "execution_count": 18,
      "outputs": [
        {
          "output_type": "execute_result",
          "data": {
            "text/plain": [
              "<matplotlib.axes._subplots.AxesSubplot at 0x7ff5f968e110>"
            ]
          },
          "metadata": {},
          "execution_count": 18
        },
        {
          "output_type": "display_data",
          "data": {
            "image/png": "[encoded data removed]",
            "text/plain": [
              "<Figure size 432x288 with 1 Axes>"
            ]
          },
          "metadata": {
            "needs_background": "light"
          }
        }
      ]
    },
    {
      "cell_type": "markdown",
      "metadata": {
        "id": "bDvKwACCprG2"
      },
      "source": [
        "*This implies that there are less stop words in tweets when there is a disaster. Twittos try to give maximum information by reducing stop words.*"
      ]
    },
    {
      "cell_type": "markdown",
      "metadata": {
        "id": "TSPl7o_asqga"
      },
      "source": [
        "##### **Data cleaning in one go with the preprocess_kgptalkie library**"
      ]
    },
    {
      "cell_type": "code",
      "metadata": {
        "id": "LqW37amIsqu1"
      },
      "source": [
        "def get_clean(x):\n",
        "    x = str(x).lower().replace('\\\\', '').replace('_', ' ')\n",
        "    x = ps.cont_exp(x)\n",
        "    x = ps.remove_emails(x)\n",
        "    x = ps.remove_urls(x)\n",
        "    x = ps.remove_html_tags(x)\n",
        "    x = ps.remove_rt(x)\n",
        "    x = ps.remove_accented_chars(x)\n",
        "    x = ps.remove_special_chars(x)\n",
        "    x = re.sub(\"(.)\\\\1{2,}\", \"\\\\1\", x)\n",
        "    return x"
      ],
      "execution_count": 19,
      "outputs": []
    },
    {
      "cell_type": "code",
      "metadata": {
        "colab": {
          "base_uri": "https://localhost:8080/",
          "height": 598
        },
        "id": "cx2euNpBwDY_",
        "outputId": "3d7d77b6-1e76-464e-d3ee-7a661294d432"
      },
      "source": [
        "tweet.head()"
      ],
      "execution_count": 20,
      "outputs": [
        {
          "output_type": "execute_result",
          "data": {
            "text/html": [
              "<div>\n",
              "<style scoped>\n",
              "    .dataframe tbody tr th:only-of-type {\n",
              "        vertical-align: middle;\n",
              "    }\n",
              "\n",
              "    .dataframe tbody tr th {\n",
              "        vertical-align: top;\n",
              "    }\n",
              "\n",
              "    .dataframe thead th {\n",
              "        text-align: right;\n",
              "    }\n",
              "</style>\n",
              "<table border=\"1\" class=\"dataframe\">\n",
              "  <thead>\n",
              "    <tr style=\"text-align: right;\">\n",
              "      <th></th>\n",
              "      <th>text</th>\n",
              "      <th>target</th>\n",
              "      <th>char_counts</th>\n",
              "      <th>word_counts</th>\n",
              "      <th>avg_wordlength</th>\n",
              "      <th>stopwords_counts</th>\n",
              "      <th>hashtag_counts</th>\n",
              "      <th>mentions_counts</th>\n",
              "      <th>digits_counts</th>\n",
              "      <th>uppercase_counts</th>\n",
              "    </tr>\n",
              "  </thead>\n",
              "  <tbody>\n",
              "    <tr>\n",
              "      <th>0</th>\n",
              "      <td>Our Deeds are the Reason of this #earthquake M...</td>\n",
              "      <td>1</td>\n",
              "      <td>57</td>\n",
              "      <td>13</td>\n",
              "      <td>4.384615</td>\n",
              "      <td>6</td>\n",
              "      <td>1</td>\n",
              "      <td>0</td>\n",
              "      <td>0</td>\n",
              "      <td>1</td>\n",
              "    </tr>\n",
              "    <tr>\n",
              "      <th>1</th>\n",
              "      <td>Forest fire near La Ronge Sask. Canada</td>\n",
              "      <td>1</td>\n",
              "      <td>32</td>\n",
              "      <td>7</td>\n",
              "      <td>4.571429</td>\n",
              "      <td>0</td>\n",
              "      <td>0</td>\n",
              "      <td>0</td>\n",
              "      <td>1</td>\n",
              "      <td>0</td>\n",
              "    </tr>\n",
              "    <tr>\n",
              "      <th>2</th>\n",
              "      <td>All residents asked to 'shelter in place' are ...</td>\n",
              "      <td>1</td>\n",
              "      <td>112</td>\n",
              "      <td>22</td>\n",
              "      <td>5.090909</td>\n",
              "      <td>9</td>\n",
              "      <td>0</td>\n",
              "      <td>0</td>\n",
              "      <td>1</td>\n",
              "      <td>0</td>\n",
              "    </tr>\n",
              "    <tr>\n",
              "      <th>3</th>\n",
              "      <td>13,000 people receive #wildfires evacuation or...</td>\n",
              "      <td>1</td>\n",
              "      <td>57</td>\n",
              "      <td>8</td>\n",
              "      <td>7.125000</td>\n",
              "      <td>1</td>\n",
              "      <td>1</td>\n",
              "      <td>0</td>\n",
              "      <td>1</td>\n",
              "      <td>0</td>\n",
              "    </tr>\n",
              "    <tr>\n",
              "      <th>4</th>\n",
              "      <td>Just got sent this photo from Ruby #Alaska as ...</td>\n",
              "      <td>1</td>\n",
              "      <td>72</td>\n",
              "      <td>16</td>\n",
              "      <td>4.500000</td>\n",
              "      <td>6</td>\n",
              "      <td>2</td>\n",
              "      <td>0</td>\n",
              "      <td>0</td>\n",
              "      <td>0</td>\n",
              "    </tr>\n",
              "  </tbody>\n",
              "</table>\n",
              "</div>"
            ],
            "text/plain": [
              "                                                text  ...  uppercase_counts\n",
              "0  Our Deeds are the Reason of this #earthquake M...  ...                 1\n",
              "1             Forest fire near La Ronge Sask. Canada  ...                 0\n",
              "2  All residents asked to 'shelter in place' are ...  ...                 0\n",
              "3  13,000 people receive #wildfires evacuation or...  ...                 0\n",
              "4  Just got sent this photo from Ruby #Alaska as ...  ...                 0\n",
              "\n",
              "[5 rows x 10 columns]"
            ]
          },
          "metadata": {},
          "execution_count": 20
        }
      ]
    },
    {
      "cell_type": "code",
      "metadata": {
        "id": "5J3ed1vXtcIB"
      },
      "source": [
        "tweet[\"text\"] = tweet[\"text\"].apply(lambda x :get_clean(x))"
      ],
      "execution_count": 21,
      "outputs": []
    },
    {
      "cell_type": "code",
      "metadata": {
        "colab": {
          "base_uri": "https://localhost:8080/",
          "height": 598
        },
        "id": "dJUr8gpUsrkZ",
        "outputId": "b687d49f-8991-42d2-be22-8d53b6da9917"
      },
      "source": [
        "tweet.head()"
      ],
      "execution_count": 22,
      "outputs": [
        {
          "output_type": "execute_result",
          "data": {
            "text/html": [
              "<div>\n",
              "<style scoped>\n",
              "    .dataframe tbody tr th:only-of-type {\n",
              "        vertical-align: middle;\n",
              "    }\n",
              "\n",
              "    .dataframe tbody tr th {\n",
              "        vertical-align: top;\n",
              "    }\n",
              "\n",
              "    .dataframe thead th {\n",
              "        text-align: right;\n",
              "    }\n",
              "</style>\n",
              "<table border=\"1\" class=\"dataframe\">\n",
              "  <thead>\n",
              "    <tr style=\"text-align: right;\">\n",
              "      <th></th>\n",
              "      <th>text</th>\n",
              "      <th>target</th>\n",
              "      <th>char_counts</th>\n",
              "      <th>word_counts</th>\n",
              "      <th>avg_wordlength</th>\n",
              "      <th>stopwords_counts</th>\n",
              "      <th>hashtag_counts</th>\n",
              "      <th>mentions_counts</th>\n",
              "      <th>digits_counts</th>\n",
              "      <th>uppercase_counts</th>\n",
              "    </tr>\n",
              "  </thead>\n",
              "  <tbody>\n",
              "    <tr>\n",
              "      <th>0</th>\n",
              "      <td>our deeds are the reason of this earthquake ma...</td>\n",
              "      <td>1</td>\n",
              "      <td>57</td>\n",
              "      <td>13</td>\n",
              "      <td>4.384615</td>\n",
              "      <td>6</td>\n",
              "      <td>1</td>\n",
              "      <td>0</td>\n",
              "      <td>0</td>\n",
              "      <td>1</td>\n",
              "    </tr>\n",
              "    <tr>\n",
              "      <th>1</th>\n",
              "      <td>forest fire near la ronge sask canada</td>\n",
              "      <td>1</td>\n",
              "      <td>32</td>\n",
              "      <td>7</td>\n",
              "      <td>4.571429</td>\n",
              "      <td>0</td>\n",
              "      <td>0</td>\n",
              "      <td>0</td>\n",
              "      <td>1</td>\n",
              "      <td>0</td>\n",
              "    </tr>\n",
              "    <tr>\n",
              "      <th>2</th>\n",
              "      <td>all residents asked to shelter in place are be...</td>\n",
              "      <td>1</td>\n",
              "      <td>112</td>\n",
              "      <td>22</td>\n",
              "      <td>5.090909</td>\n",
              "      <td>9</td>\n",
              "      <td>0</td>\n",
              "      <td>0</td>\n",
              "      <td>1</td>\n",
              "      <td>0</td>\n",
              "    </tr>\n",
              "    <tr>\n",
              "      <th>3</th>\n",
              "      <td>130 people receive wildfires evacuation orders...</td>\n",
              "      <td>1</td>\n",
              "      <td>57</td>\n",
              "      <td>8</td>\n",
              "      <td>7.125000</td>\n",
              "      <td>1</td>\n",
              "      <td>1</td>\n",
              "      <td>0</td>\n",
              "      <td>1</td>\n",
              "      <td>0</td>\n",
              "    </tr>\n",
              "    <tr>\n",
              "      <th>4</th>\n",
              "      <td>just got sent this photo from ruby alaska as s...</td>\n",
              "      <td>1</td>\n",
              "      <td>72</td>\n",
              "      <td>16</td>\n",
              "      <td>4.500000</td>\n",
              "      <td>6</td>\n",
              "      <td>2</td>\n",
              "      <td>0</td>\n",
              "      <td>0</td>\n",
              "      <td>0</td>\n",
              "    </tr>\n",
              "  </tbody>\n",
              "</table>\n",
              "</div>"
            ],
            "text/plain": [
              "                                                text  ...  uppercase_counts\n",
              "0  our deeds are the reason of this earthquake ma...  ...                 1\n",
              "1              forest fire near la ronge sask canada  ...                 0\n",
              "2  all residents asked to shelter in place are be...  ...                 0\n",
              "3  130 people receive wildfires evacuation orders...  ...                 0\n",
              "4  just got sent this photo from ruby alaska as s...  ...                 0\n",
              "\n",
              "[5 rows x 10 columns]"
            ]
          },
          "metadata": {},
          "execution_count": 22
        }
      ]
    },
    {
      "cell_type": "markdown",
      "metadata": {
        "id": "DRk3FV5WwVwa"
      },
      "source": [
        "##### **Download all language elements related to the English language**"
      ]
    },
    {
      "cell_type": "code",
      "metadata": {
        "colab": {
          "base_uri": "https://localhost:8080/"
        },
        "id": "BRNfDkNYwWDQ",
        "outputId": "e441fd14-fe58-4f33-e356-fcd490997ef4"
      },
      "source": [
        "!python -m spacy download en_core_web_sm"
      ],
      "execution_count": 23,
      "outputs": [
        {
          "output_type": "stream",
          "name": "stdout",
          "text": [
            "Collecting en_core_web_sm==2.2.5\n",
            "  Downloading https://github.com/explosion/spacy-models/releases/download/en_core_web_sm-2.2.5/en_core_web_sm-2.2.5.tar.gz (12.0 MB)\n",
            "\u001b[K     |████████████████████████████████| 12.0 MB 351 kB/s \n",
            "\u001b[?25hRequirement already satisfied: spacy>=2.2.2 in /usr/local/lib/python3.7/dist-packages (from en_core_web_sm==2.2.5) (2.2.4)\n",
            "Requirement already satisfied: murmurhash<1.1.0,>=0.28.0 in /usr/local/lib/python3.7/dist-packages (from spacy>=2.2.2->en_core_web_sm==2.2.5) (1.0.6)\n",
            "Requirement already satisfied: setuptools in /usr/local/lib/python3.7/dist-packages (from spacy>=2.2.2->en_core_web_sm==2.2.5) (57.4.0)\n",
            "Requirement already satisfied: thinc==7.4.0 in /usr/local/lib/python3.7/dist-packages (from spacy>=2.2.2->en_core_web_sm==2.2.5) (7.4.0)\n",
            "Requirement already satisfied: catalogue<1.1.0,>=0.0.7 in /usr/local/lib/python3.7/dist-packages (from spacy>=2.2.2->en_core_web_sm==2.2.5) (1.0.0)\n",
            "Requirement already satisfied: cymem<2.1.0,>=2.0.2 in /usr/local/lib/python3.7/dist-packages (from spacy>=2.2.2->en_core_web_sm==2.2.5) (2.0.6)\n",
            "Requirement already satisfied: wasabi<1.1.0,>=0.4.0 in /usr/local/lib/python3.7/dist-packages (from spacy>=2.2.2->en_core_web_sm==2.2.5) (0.8.2)\n",
            "Requirement already satisfied: requests<3.0.0,>=2.13.0 in /usr/local/lib/python3.7/dist-packages (from spacy>=2.2.2->en_core_web_sm==2.2.5) (2.23.0)\n",
            "Requirement already satisfied: numpy>=1.15.0 in /usr/local/lib/python3.7/dist-packages (from spacy>=2.2.2->en_core_web_sm==2.2.5) (1.19.5)\n",
            "Requirement already satisfied: blis<0.5.0,>=0.4.0 in /usr/local/lib/python3.7/dist-packages (from spacy>=2.2.2->en_core_web_sm==2.2.5) (0.4.1)\n",
            "Requirement already satisfied: plac<1.2.0,>=0.9.6 in /usr/local/lib/python3.7/dist-packages (from spacy>=2.2.2->en_core_web_sm==2.2.5) (1.1.3)\n",
            "Requirement already satisfied: preshed<3.1.0,>=3.0.2 in /usr/local/lib/python3.7/dist-packages (from spacy>=2.2.2->en_core_web_sm==2.2.5) (3.0.6)\n",
            "Requirement already satisfied: srsly<1.1.0,>=1.0.2 in /usr/local/lib/python3.7/dist-packages (from spacy>=2.2.2->en_core_web_sm==2.2.5) (1.0.5)\n",
            "Requirement already satisfied: tqdm<5.0.0,>=4.38.0 in /usr/local/lib/python3.7/dist-packages (from spacy>=2.2.2->en_core_web_sm==2.2.5) (4.62.3)\n",
            "Requirement already satisfied: importlib-metadata>=0.20 in /usr/local/lib/python3.7/dist-packages (from catalogue<1.1.0,>=0.0.7->spacy>=2.2.2->en_core_web_sm==2.2.5) (4.8.1)\n",
            "Requirement already satisfied: zipp>=0.5 in /usr/local/lib/python3.7/dist-packages (from importlib-metadata>=0.20->catalogue<1.1.0,>=0.0.7->spacy>=2.2.2->en_core_web_sm==2.2.5) (3.6.0)\n",
            "Requirement already satisfied: typing-extensions>=3.6.4 in /usr/local/lib/python3.7/dist-packages (from importlib-metadata>=0.20->catalogue<1.1.0,>=0.0.7->spacy>=2.2.2->en_core_web_sm==2.2.5) (3.10.0.2)\n",
            "Requirement already satisfied: chardet<4,>=3.0.2 in /usr/local/lib/python3.7/dist-packages (from requests<3.0.0,>=2.13.0->spacy>=2.2.2->en_core_web_sm==2.2.5) (3.0.4)\n",
            "Requirement already satisfied: idna<3,>=2.5 in /usr/local/lib/python3.7/dist-packages (from requests<3.0.0,>=2.13.0->spacy>=2.2.2->en_core_web_sm==2.2.5) (2.10)\n",
            "Requirement already satisfied: certifi>=2017.4.17 in /usr/local/lib/python3.7/dist-packages (from requests<3.0.0,>=2.13.0->spacy>=2.2.2->en_core_web_sm==2.2.5) (2021.10.8)\n",
            "Requirement already satisfied: urllib3!=1.25.0,!=1.25.1,<1.26,>=1.21.1 in /usr/local/lib/python3.7/dist-packages (from requests<3.0.0,>=2.13.0->spacy>=2.2.2->en_core_web_sm==2.2.5) (1.24.3)\n",
            "\u001b[38;5;2m✔ Download and installation successful\u001b[0m\n",
            "You can now load the model via spacy.load('en_core_web_sm')\n"
          ]
        }
      ]
    },
    {
      "cell_type": "markdown",
      "metadata": {
        "id": "LvqnwB6SwrmR"
      },
      "source": [
        "##### **Importing spacy and loading \"en_core_web_sm\"**"
      ]
    },
    {
      "cell_type": "code",
      "metadata": {
        "id": "5fhS21iQwk6A"
      },
      "source": [
        "import spacy\n",
        "import en_core_web_sm\n",
        "nlp = en_core_web_sm.load()"
      ],
      "execution_count": 24,
      "outputs": []
    },
    {
      "cell_type": "markdown",
      "metadata": {
        "id": "1PAPl0zwxIar"
      },
      "source": [
        "##### **Removing stop words**"
      ]
    },
    {
      "cell_type": "code",
      "metadata": {
        "id": "hyuN7vAX0xz_"
      },
      "source": [
        " from spacy.lang.en.stop_words import STOP_WORDS"
      ],
      "execution_count": 25,
      "outputs": []
    },
    {
      "cell_type": "code",
      "metadata": {
        "id": "zT3Mouzc09BB"
      },
      "source": [
        "test = tweet.iloc[0,0]"
      ],
      "execution_count": 26,
      "outputs": []
    },
    {
      "cell_type": "code",
      "metadata": {
        "colab": {
          "base_uri": "https://localhost:8080/",
          "height": 35
        },
        "id": "uGbneJVax37w",
        "outputId": "c11d72af-daf6-4147-c0e3-70c878b8ca25"
      },
      "source": [
        "test"
      ],
      "execution_count": 27,
      "outputs": [
        {
          "output_type": "execute_result",
          "data": {
            "application/vnd.google.colaboratory.intrinsic+json": {
              "type": "string"
            },
            "text/plain": [
              "'our deeds are the reason of this earthquake may allah forgive us all'"
            ]
          },
          "metadata": {},
          "execution_count": 27
        }
      ]
    },
    {
      "cell_type": "code",
      "metadata": {
        "id": "ucHZbs54yIhA"
      },
      "source": [
        "def remove_stop_words(text):\n",
        "  text = \" \".join([token.lemma_ for token in nlp(text) if token.text not in STOP_WORDS and token.lemma_ not in STOP_WORDS])\n",
        "  return text"
      ],
      "execution_count": 28,
      "outputs": []
    },
    {
      "cell_type": "code",
      "metadata": {
        "colab": {
          "base_uri": "https://localhost:8080/",
          "height": 35
        },
        "id": "5IDITtIM1xWZ",
        "outputId": "702c8408-8d8a-4dd5-f439-0de0abc77499"
      },
      "source": [
        "remove_stop_words(test)"
      ],
      "execution_count": 29,
      "outputs": [
        {
          "output_type": "execute_result",
          "data": {
            "application/vnd.google.colaboratory.intrinsic+json": {
              "type": "string"
            },
            "text/plain": [
              "'deed reason earthquake allah forgive'"
            ]
          },
          "metadata": {},
          "execution_count": 29
        }
      ]
    },
    {
      "cell_type": "code",
      "metadata": {
        "id": "jju5BNO50GeB"
      },
      "source": [
        "tweet[\"text_wostop\"] = tweet[\"text\"].apply(lambda x: remove_stop_words(x))"
      ],
      "execution_count": 30,
      "outputs": []
    },
    {
      "cell_type": "code",
      "metadata": {
        "colab": {
          "base_uri": "https://localhost:8080/",
          "height": 598
        },
        "id": "1RN4mcEu1jCL",
        "outputId": "bda528ad-2860-4674-d682-f7e6b025f527"
      },
      "source": [
        "tweet.head()"
      ],
      "execution_count": 31,
      "outputs": [
        {
          "output_type": "execute_result",
          "data": {
            "text/html": [
              "<div>\n",
              "<style scoped>\n",
              "    .dataframe tbody tr th:only-of-type {\n",
              "        vertical-align: middle;\n",
              "    }\n",
              "\n",
              "    .dataframe tbody tr th {\n",
              "        vertical-align: top;\n",
              "    }\n",
              "\n",
              "    .dataframe thead th {\n",
              "        text-align: right;\n",
              "    }\n",
              "</style>\n",
              "<table border=\"1\" class=\"dataframe\">\n",
              "  <thead>\n",
              "    <tr style=\"text-align: right;\">\n",
              "      <th></th>\n",
              "      <th>text</th>\n",
              "      <th>target</th>\n",
              "      <th>char_counts</th>\n",
              "      <th>word_counts</th>\n",
              "      <th>avg_wordlength</th>\n",
              "      <th>stopwords_counts</th>\n",
              "      <th>hashtag_counts</th>\n",
              "      <th>mentions_counts</th>\n",
              "      <th>digits_counts</th>\n",
              "      <th>uppercase_counts</th>\n",
              "      <th>text_wostop</th>\n",
              "    </tr>\n",
              "  </thead>\n",
              "  <tbody>\n",
              "    <tr>\n",
              "      <th>0</th>\n",
              "      <td>our deeds are the reason of this earthquake ma...</td>\n",
              "      <td>1</td>\n",
              "      <td>57</td>\n",
              "      <td>13</td>\n",
              "      <td>4.384615</td>\n",
              "      <td>6</td>\n",
              "      <td>1</td>\n",
              "      <td>0</td>\n",
              "      <td>0</td>\n",
              "      <td>1</td>\n",
              "      <td>deed reason earthquake allah forgive</td>\n",
              "    </tr>\n",
              "    <tr>\n",
              "      <th>1</th>\n",
              "      <td>forest fire near la ronge sask canada</td>\n",
              "      <td>1</td>\n",
              "      <td>32</td>\n",
              "      <td>7</td>\n",
              "      <td>4.571429</td>\n",
              "      <td>0</td>\n",
              "      <td>0</td>\n",
              "      <td>0</td>\n",
              "      <td>1</td>\n",
              "      <td>0</td>\n",
              "      <td>forest fire near la ronge sask canada</td>\n",
              "    </tr>\n",
              "    <tr>\n",
              "      <th>2</th>\n",
              "      <td>all residents asked to shelter in place are be...</td>\n",
              "      <td>1</td>\n",
              "      <td>112</td>\n",
              "      <td>22</td>\n",
              "      <td>5.090909</td>\n",
              "      <td>9</td>\n",
              "      <td>0</td>\n",
              "      <td>0</td>\n",
              "      <td>1</td>\n",
              "      <td>0</td>\n",
              "      <td>resident ask shelter place notify officer evac...</td>\n",
              "    </tr>\n",
              "    <tr>\n",
              "      <th>3</th>\n",
              "      <td>130 people receive wildfires evacuation orders...</td>\n",
              "      <td>1</td>\n",
              "      <td>57</td>\n",
              "      <td>8</td>\n",
              "      <td>7.125000</td>\n",
              "      <td>1</td>\n",
              "      <td>1</td>\n",
              "      <td>0</td>\n",
              "      <td>1</td>\n",
              "      <td>0</td>\n",
              "      <td>130 people receive wildfire evacuation order c...</td>\n",
              "    </tr>\n",
              "    <tr>\n",
              "      <th>4</th>\n",
              "      <td>just got sent this photo from ruby alaska as s...</td>\n",
              "      <td>1</td>\n",
              "      <td>72</td>\n",
              "      <td>16</td>\n",
              "      <td>4.500000</td>\n",
              "      <td>6</td>\n",
              "      <td>2</td>\n",
              "      <td>0</td>\n",
              "      <td>0</td>\n",
              "      <td>0</td>\n",
              "      <td>send photo ruby alaska smoke wildfire pour school</td>\n",
              "    </tr>\n",
              "  </tbody>\n",
              "</table>\n",
              "</div>"
            ],
            "text/plain": [
              "                                                text  ...                                        text_wostop\n",
              "0  our deeds are the reason of this earthquake ma...  ...               deed reason earthquake allah forgive\n",
              "1              forest fire near la ronge sask canada  ...              forest fire near la ronge sask canada\n",
              "2  all residents asked to shelter in place are be...  ...  resident ask shelter place notify officer evac...\n",
              "3  130 people receive wildfires evacuation orders...  ...  130 people receive wildfire evacuation order c...\n",
              "4  just got sent this photo from ruby alaska as s...  ...  send photo ruby alaska smoke wildfire pour school\n",
              "\n",
              "[5 rows x 11 columns]"
            ]
          },
          "metadata": {},
          "execution_count": 31
        }
      ]
    },
    {
      "cell_type": "markdown",
      "metadata": {
        "id": "RaMkWNOAsr0q"
      },
      "source": [
        "##### **Visualizing disaster tweets with Word cloud**"
      ]
    },
    {
      "cell_type": "code",
      "metadata": {
        "colab": {
          "base_uri": "https://localhost:8080/",
          "height": 171
        },
        "id": "8k_54OblssDF",
        "outputId": "d7d758e2-6993-4ec5-bd84-730f9c156186"
      },
      "source": [
        " real_disaster = ps.get_word_freqs(tweet[tweet[\"target\"] == 1], \"text_wostop\")\n",
        " real_disaster =\" \".join(real_disaster.index)\n",
        " real_disaster"
      ],
      "execution_count": 32,
      "outputs": [
        {
          "output_type": "execute_result",
          "data": {
            "application/vnd.google.colaboratory.intrinsic+json": {
              "type": "string"
            },
            "text/plain": [
              "'fire kill news disaster people crash california suicide bomb police family attack train like home storm building flood hiroshima year burn wildfire 2 emergency video car accident mh370 bombing nuclear collapse new minister death northern prime report cause dead legionnaire watch bomber man war evacuate confirm atomic obama find fatal come city look late today s life retweet forest debris malaysia live time japan near water mass miss derail thunderstorm earthquake severe wound migrant suspect issue wave fear hostage oil day world spill damage evacuation army die warning charge old rescue casualty work 70 area outbreak house derailment injure detonate murder wreckage plan terrorist weapon weather saudi save 40 3 service big rain bridge bus u update affect wind island know state destroy mosque 4 official body boy truck hit refugee release yous shoot set air rescuer anniversary drought sign hour reunion 2015 swallow wild help school county raze search officer hurricane 1 pkk typhoon uo 5 survivor airplane flooding heat airport plane declare fall minute fatality project need displace drown think 15 flame violent good collide boat road 16yr israeli photo break explosion turkey sandstorm calgary injury way leave mile natural sue survive hail sinkhole case volcano food failure pick post group happen close helicopter devastation mp structural dust tornado collision massacre stop saipan head km conclusively child land crew abc possible woman iran bad high horror street india catastrophic run august soudelor bestnaijamade fight terrorism riot story order ambulance aircraft village 10 right point manslaughter victim site tragedy lightning landslide costlier north reuters catch traffic youtube south famine la west hear tell trench m refugio past national crisis 11yearold hot pic security expert 8 amid oh york end hope expect bioterror government mount fedex militant hazardous god st lab drive force cyclone thunder isis 60 typhoondevastate american investigators rise power line movie disea flag feel wake coach black shit trauma murderer memory follow quarantine arson 30 declaration want virgin begin temple youth engulf east sink change christian military passenger action second thing strike heavy blast muslims flight ok myanmar bush rainstorm loud read lose country outrage great hijacker learn tree 50 blow theater explode little hailstorm place nagasaki rd midday exchange million investigator 20 send river pakistan fukushima wreck transport pradesh hold tonight civilian madhya claim flash 70th nws vehicle allow face rioting galactic start hijack ago half grow scream global continue capture trap pakistani giant 120 love inside 25 alarm 6 far firefighter arrest chemical major center thank escape times large central hijacking demolish warn avoid link bioterrorism provoke mishap anthrax effect electrocute carry ebola geller summer use medium shot gunman rly aug pamela responder cdt horrible threaten landing t person longer return crane christ struggle nigerian china best terror baby taiwan smoke sound whirlwind ship remember libya recount 05 toddler town nearly crematoria early b w seismic mark history marian prebreak scene udhampur huge russia fuck let israel eyewitness alabama nearby support white russian investigate gun siren result coast health driver disease tsunami windstorm 12 reactor pilot thursday airlines try unit estimate peace level information red parole girl human thousand open fan light away deal deluge plunge cameroon gas business battle act germ cut outside turn lead roosevelt market ablaze rock washington view usa poor 7 talk mudslide texas morning crime uiwhen night 19 repatriate record member camp laugh bring france long prepare believe indian express ban spring strong richmond control heart tomorrow japanese denver play downtown palestinian utc20150805 islamic cop destruction capsize week block climate lane wait event 600 wednesday 16 med british track philippines governor mediterranean cliff care image specially municipal stadium hazard stay yyc 9 eye colorado patience sh pull canada soldier free usgs piece incident risk snowstorm forget blood universal america real spaceship modify approach freak ass target dog metro region govt rocky guy jonathan danger hawaii oklahoma wash c130 month student annihilate ap bayelsa actually visit crazy daily 1980 increase examine western mean 13 rubble cool respond catastrophe delay abandon bicyclist lot office rule zone game motorcyclist number cnn abstorm safety french sismo drone e tram spos worldnews travel cost main hwy demolition manchester include sea fast blaze time20150806 2nd walk green genocide sick check 0 united annihilation detonation nc rail lake deadly canyon response bin uk drop problem wing property team mountain research marks true arrive turkish moment wall couple young dozen kidnap leader ocean brooklyn bay blame highway board 90 public loss literally science agree trent afghanistan chicago company satellite africa parent legacy reddit forecast malaysian lift till mumbai shooting reduce build spark obliterate win shake map phone fly situation mediterran iraq pass shift afternoon content sad involve 17 ar kid reason worry ground steal 31 laden ready message yeah training apocalypse hill 2013 centre ridge resident pray apc remain acre angry edt coordinate friend advisory cross internally outlook 911 hard hate meet insurance budget money bit panic fail hand wwii arabia sky mention vietnam stab crush powerline small bloody totally d slow degree rage roll word relative beach eruption relief 11 md arsonist devastate disrupt dude bc low pdp faan condition potential gust wmata middle gaza dr seek review knock system syria account aid instead squad deliver brown guardian park okwx islam wx toll township cancer president repair p parley horse beautiful document stock later create riunion season pandemonium film microlight hwo bang damn hospital trfc broadway tension 06 mad chance el fucking stand runway activate occur i5 spend troop evening wa program apartment fund lack user lie london test 1945 alert beu wonder strategy threat usatoday currently enugu total predict wow hollywood reach cold brake computer 24 pathogen application 100 quickly gunfire criminal inundate tropical tv fully star foxnews jet guillermo amsterdam tent dc sure hell maybe lowndes upset protest cinema boulevard prosecute focus owner guide shut box complex miner population distance portland picture bank twitter fact parker gem phoenix calif room false sinjar executive share plain brazil zionist o copilot motorcycle course comment twister yes date rohingya un shelter entire industry safe nashville exit refuse kisii commit idea insurer job law datum info pain g va radiation potus meltdown standard add pay humanity notice hellfire route australia recall nuke lion fwy economic cleanup vote maximum chinese theatre typhoondevastated southern avert impact base interesting massive socialnew abuse yobe department study nytime mma ask animal streak bjp funtenna av deep pretty sac flatten price sport residential anchorage boston trouble gold wanna lady sittwe seattle article belong desolate yrs port usagov surge class remove fine source ignition p.m. church pipeline breaking wife salt structure avalanche scary mexico okay reno hero suppose dramatic 2014 gov san reopen msf press lorry upheaval smithsonian plug afghan snow sharp general somalia single christmas metal f court trial hat bind treat closed different sir shadow grateful soon drunk sicily incredible concern lava italian aba plant experiment individual floods italy policy desolation palestine mop australian question 500 protect alaska 22 window bell disappear mansehra scare allah i77 matter railway rip gang effort -PRON- loose freaky deputy sit friday truly simulate reality nasahurricane trigger elevated unlock hunt alleged warship murderous preparedness potu sunday c cyclist exploration online americauas authority kaduna ofu trolley bar ahead fuel japans 731 rider slip 18 antioch mansion speak curfew operation greece co glad mt maryland local intensity cover aware grenade political ferguson australias florida m194 surround answer related waimate ebike abbswinston shop horrific philly apollo enjoy idp jamaica note inj path eq homeless percent conflict 130 alberta yr drug coffee landfall financial 97georgia valley walmart dtn tennessee extreme iranian cancel stir tweet olympic radio fake auth dallas buffalo internet bleed triple okanagan karachi pump fatalities depth daughter burst tune double van nasa robert ally worker reportedly demand hereuas salem justice odeon sanction sacramento 010401 sw 133 ashe sister equipment bulletin reveal ash rally al cruz michigan wrap plus v party drill mission veteran 1st injuryi495 uganda july states material hi fun avenuesilver discovery loop brother international carryi closure haunting cdc pacific bounty mister killer mom monsoon calamity knee raid overnight californias mod griefua eastern engine 26 station whao grant tank jewish kit prabhu consider strategicpatience kurdish arabian usually 800 yazidis sunset copycat eb statement loot sydney nu donuat gbbo wht listen de upolitic strand foot georgia detail 3d debt 852015 370 sense accord medical lamp 29072015 lesson citizen jam sandiego epic haha rate previously mix su 166 appear draw guess nd produce tear putin dry float truthnewsbefore blk imagine 27 experience dress harm special dan chinas rockyfire september newyork massacreantioch field sadly radar flee remind buy feed extend gusty pedestrian feeling trust muslim mourning stupid th tube measurement responsibility alps 35 nation se subject serial edinburgh christcnnislamtruthgodisisterrorismquranlie plague precipitation miami harbor short senator syrian advance palestinians navy mitigation direction nigeria irandeal japi prison gabon smell alive trafford majority robot england download tripledigit prior blue spot santa jst photography receive pak analysis sensorsenso forever hunter pond tcot host nature sentinel er ruin relate detectado suffer dad unsuckdcmetro 29 congress 1030 throw memories idfire 80 armageddon chile ben feature annual chaos inner egypt teen 150401 worth fox contain rainfall prediction jean urgent emmerdale i405 anymore challenge reshape unconfirme kinda warming burning l nave realize iphone uihatchet 375 blah stream condolence outflow honestly skinny construction fat kick hmm ignore scott sorry cave mike trs 2011 ex stretcher roof brush neighbour blog ag activity ut union warfighte hamilton dollar koin6news tax nigga battlefield 14 michael5sos player traumatise idis teach progress agent marker footage exercise specialist shape haram enrt motor join prompt dublin amazon realise localu ny atu modiministry bronx invest yesterday collision1141 machine sleep nyt dig invasion thought apply chunk fort asia dutch magic theu spread sittingu revenue nri trump hello dock uirichmond meek kuwait kurtschlichter cleared underway foreign bear crowd waste lglorg hostage2 book vs direct leak secret basic pool batter careful 150foot tonto tr powerful af 90blks8whts sympathy tunnel fishing encounter csx historic komen usual time20150805 johannesburg apparently sex left jan wealth wholesale female daesh stuff pipe tracking croatian latestnews patient quiz egged cta hearing services nail prevent ride 0104 spin swell abcnews unfold collisionno electrical probably university villager controlu housing list braking museum location curb 23 hey southbound dundee survival reminder match clash salvation hamas 43rd donate value music shelby vulnerable page kca acute moscow desert premature yazidi grace upgrade ultimate unsafe irish iu mind tampa replace discover space illegal indonesia reward lesbian cm clearly suspend viralspell recovery solar bp respect recover sweden capital quarter intersection everyday hide favorite yorker palm angel bend civil mall settlement votejkt48id tflbusalert hinton runner cbcca stacey sigalert repeat casper series cos sun 33 blizzard especially shoe pit innocent certain plot gop term sb ball cloud economy overturn hiroshima70 email weekend sweep mlb quake doctor solve step multiple provide senior speed sharethis queen rome dangerous scientist chief cabin nb tribal energy obliteration occupant toilet noaa object ferry google cricket ma cree clear bagging terrible eventually wy ton seven northeast hole withbioterrorismuse tdp 86 wedaug5th earlier schiphol alien deny acid simple store mnpdnashville beat son 18wheeler briefing launch tech decision striker poland lord collude accuse condemn croat circuit witness 300 pisgah foxnew bangladesh consequence community nema 55 brutally ts ii pressure probe redlight episode bag melt bed concert looping final btwn 69 afraid cow jacksonville illinois ukraine chart germany armed cuban youuave weird walker insane 361 extra ram tip enemy radioactive yugvani violence design mo able apt tie serve cryptic arwx beforeitsnews rapidly refer drake initial interview dam decade 1030pm haiyan dat atlanta southampton biker boko washingtonpost shock shoulder ihhen psychological understand perspective swiss politic factory slate calm ne blind libyaindia tryout shame wood columbia twin vermont 10th traditional rape memorial morgan 150 mid commute library rare react europe yemen grabber womens accidentally size normal announce whale nepal push usnwsgov unlocking concerned key fix sturgis alternative task hella sneak lavenderpoetrycafe surf ibooklove dinner 90th ks94 hunk stormchase aussie lone 180 hiker vet pepper trusty bother ke utter yougov pkwy birmingham count thick humanconsumption esp combust chernobyl volunteer social rutherford petition californian sheet pledge policerun bookboost recap 015025 com impulse extremely vegetable rubber pileup swarm 118 marijuana nah seize vine barrier hotel ushe widespread knoxville pour subreddit connector apple option editorial greg address prompts weaken tweetlikeitsseptember11th2001 ptsd blitz cape dem bullet pulwama aogashima mon breakingnews woodlawn riyadh manmade journey attend frontline ear troubling legio travis festival snowden mercados bicycle carr jihadi andor offensive tide childhood baltimore swansea jamaicaobserver aka endorse recommend meg maintenance ohh nice visibility 0016 renew911health impose r michael improve fr 99 contruction faster njturnpike nfpa explain et brighton 10401 mooresville iuam elem spray charity chp dolphin logan briton countless campus glink pizza blutz10 import peterjuke gridlock ignite hatchetwielding offers2go wicked constant bat youand evanston krefeld particularly dear guatemala auckland headline mate relentless rossum fewmoretweet mukilteo transit himalaya abe franklin banerjee oregon rioter unknown billing dw themagickidrap neil surrender cas 48 killing midwest insubcontinent minor fruit thankfully fighter suddenly ipod neighborhood dealbreaker college football parenthood hyderabad commonwealth humble cleric honor phase restive sustainability indoor twentynine eastbound tricky thirsty 6th drift steve paramedic asian moral blight us101 slam liveonk2 ep tattoo bankstown rn compound pound palermo 1916 father completely emsc dye wordpressdotcom audio nonlife collection rogue raung 075 utterly obispo harper district epicenter jail aviation dijkua uituas adult dirk reu gm ivanberroa lung pre charles pot telegraph medic insomnia attitude smoky ntsb warne soul exist leo abomb monitor equate ef5 corner eudrylantiqua nazi gawx bago olap likely sj abia kurd wrong helpline limit lowlye browser shipwreck bore classic 1145 countrys hire sts shout thyroid pennington orange hampshire growth bath en ptbo iredell tch estate northland website extinguish private recognize halt carpet surui crossborder stick mini poverty ns midsouth yycstorm 3rd topstorie sheer 8th erode 12news cjoyner offroad bbcnews correction band door scared management 8615 portugal virgil factor fraction legendary martinmj22 pro ud boise definitely tor blacklivesmatter sheriff 235409 luis cawx twitt transfer environment fuels newswatch doc glimpse lollapalooza sideline restore rover anza miyagi jerry 56 self bs considerelem hatchet migrantsu 360wisenews 200 wire deploy planet drinking anu interstate vicinity taxi sassy lock dothraki context cheyenne shell heroin starter rpic suck harwich 21 offr willing foodscare happy geneva restaurant promise common pantherattack require ssw snap 0800 omfg northwest boundary art reporting swimming insas invade lt arnhem venice disorder houston royal battery knight hurry oso maj clinton illness rio previous cocaine peacefully ahrary punjab opinion meteoearth medieval nv outdoor indi desire pakpattan rworldnew happening indiannews actress golem media kotaweather charlotte bengal thriller zayn walerga vanish whitbourne debatequestionswewanttohear federal ryan behavior broadcasting overlook bail inu najib afp 900 downpour aquarium i65 suruc associated charger playlist investigation goulburn tuesday janaq biological mum sm traverse bethlehem oops novel elijah autistic fbi pan ky journal unaware 125 register korea halifax salvador ae assist humidity mi17 talibans finally difficult redhande whitehouse sunk wattle unity beard awareness riversiskiyou newz earth 070 greenwich acquire display elephant tremor ypres simply angeles dlh blackpool faroeisland watertown decor male george time5 forgive madison unrelenting terrifying ga resource trash gay click confirmation medal billy aa cbs linkury chiefs song ugood aria winston summary 61st backyard rdhorndale nnw muzzamil mhtw4fnetofficials 1100 marine farrakhan measle roanoke foxnewu tornados client nankana kashmir ashayo tribune southeast aom net fleet ay asylum psychiatric grab affiliation network isil toronto coahuila awful upper fish 1616 cheese encouragement toe wfp ornament opp idiot english volleyball treatment frontpage pmharper mess malik cdcgov fd advise prophet david bathroom vladimir patna form 96 fresh race christians renison physical cosponsor richard recycle newyorker strict dvc mchenry countynews met frog uihannaphu rickperry reject manufacture vashon detour trailer turkmen glass ttes surely victory mail fatally journalist cnewslive follower automatic violation destroyer random ituas greenharvard exc nbcnew samaritansua march ante ian uia king ability uplot i95 battleship americans supreme ani vice 95 helene minimehh director bee irvine magginoodle retract ee evidence bullseye jkl twice motherfucker madinah offer ig gift coat barack prince thankful yellow juror 78 fighting rapidcity jordan livelihood twia winter 1965 unr cite dt expose gofundme lubbock japton 20k fireu develop bolster greet simultaneous error grove 928 awesome eurotunnel venezuela murfreesboro routecomplex cairo positioning gain oun complication cr lebanon nestleindia raw efak youngheroesid beclearoncancer selmo counter goal timelapse expand baruch hoax suv wish avenueofframp deserve priority pa 582 sting livingsafely hungry londonfire 45 panel prophetmuhammad temp evil non 143 weak firefighte weathernetwork leg stun comparison mill thetawniest yo suryaray njenga moderate cast zionism pickens conference langley enact scheduleu bill cup 1970 buddys norman pinpoint canoe 101 stockton seriously cockpit homs responsible dame letter 1974 decline chattanooga billneelynbc fool household chris evansville twovehicle meeting apocalyptic nixon tony brave cafire handle opposite homerescuer enroute coordinated poss intensifie lighten lansdowne seeker inec justmarrie range ameenshaikh3 running cry haveu selfimage rest premonition yahoonew min ross freakiest future globe welfare custer sahib kerricktrial bird league wocowae dental oklahomaok pendleton cadfor dream taco recently perfect gordon todays crude score yonews eastward losdelsonido sailing drain prob royalcarribean signup funny divert elkhorn border niggas ab prisoner arsenal marin spontaneously belief exhibition okinawa bust feinstein weekold absolutely donald engage 28 continually sexual looter strikesstrike latimes super execute jack voice i580 racist swim worried solitude 548 correspondent eu citys reid ghost primarily ironic mamata pack upgrading osborn slide teenager 9newsgoldcoast mph participate naval mandatory justify kowe crater consent prom salvadoran llf pile stem exp sixmeter apparent goldstein appropriation mi14sica wmur9 hoe pickerel destructive dark gpm version rating anxious pls boot sandy liability cyprus omar a5 hazmat john personal saving northwesternu cousin atmospheric evolve backup clearedincident cage fireman yep climatechange diver iceland cityofcalgary 1943 uranium newsintweet los emotionally disown 2082676773 calumet caution weston tough device slightly rcmp yea samanthaturne19 montgomery garfield pakistannews neighbor seal ctd exposure wedn verdict 3alarm rai14l feat emerg purple trip bobcat dance fkn propose 1038pm jax tragic unawares cycle voluntary piner digit nowplaye pomo vale piracy neglect gape specimen garage fraud 513 estateirish bailout karnakarank invite hoisting ckec consume scriptettesar mccainenl thr warningwild mpp shoalstraffic abc3340 thucydiplease ds stury emergencymgtmag disappearance lash gemini pet mideast seeweed fjords mdt creative hiroshimas bona 8515 decomposition grind neon 40w necessary letuas newcity csaresu cislady age lisowski shakingcatche contd abc7chicago ibrahimmisau arrival 15th detain nativehuman prayforsaipan indie orchestrate apcaepdp integrity jawans cqnow abcnew flint kansas rightwaystan talent benitezs uwe 1935 oifoef northerncalifornia 5050 7p supporter rockingham engulfs tconnellyru hijackerturnedsattutor ssp thu luke5sos recordand sgc72 codycarnes weloveyoulouis violentfeminazi katiecool447 brighten southwest bb4sp lolly fa07af174a71408 bokuto smartnews nick olympia depression cyber opportunity pyrbliss forestfire notify philippi weed rooftop dougmartin17 condemnationrevelation meal museawayfic freeallfour ana oppose wednes drag mygc theconspiracytheory decisionsondecision a1 myfitnesspal cantwont fence practically split reator ski mainline export timeworld ypg href contactenergy donjazzy fightaeterrorism e112 deadstory boulder gansey libyan bowling overcharge manuel hatred corleonedaboss lmfao unexercised tunisia yelowheather yankees bottle prefer henry latime oct sis revitup kapokekito rico mht gns newep 96355 angelriveralibu healthinsurance psd arizonadot tianta asburyparkpress gilmanrocks7 patientreporte swayback vimvith fury reoccur meatloving uglyamesocialaction elanorofrohan wraith signin bric convention hersvp andu rp 063424 bug mm cor48 fox5newsdc hilversum 2for1lapdance flow expresident nh bhome anger define cgi abes 7amdollela guamonce 1895 1986 862015108 vivianunhcr hannahkauthor unsurprisingly uglypeople markoturner customer yamaguchi kabul membuahkan jorrynja montalbanony kindermorgan skaggs yahoonewsdigest co2 bummer windit pox florin stree prodemocracy indistinguishable november coverup socialwots profittothepeople nude beam rebelmage2 submitt fiya disclose hisu ideal ceo gfzs chestwind tnn coloradoavalanche workers zergele wew taufikcj spinnellii firewise myth romania outage sanfrancisco walter procedure toyota caue cou alaskauas sustainourearth racer midgesno 14028 straight lightningcaused offender dannyoneil accepte freekashmir 150270653 opseaworld cndpoli ezidigenocide fandom entity camilacabello97 uexceptionalua na lately cote kfvs12 holes 9newsmornings choke webinar mosh banquet byadaniel fredosantana300 guoqiang mgm yycweather kc5kh bmx thursd description harlan tumble jesuss nochilukehammingsim depot foreman maker vern sweet2young roose daniels otrametlife junction 1940 represent xp sakhalintribune collided tablet remedial stuck trafficalert 1726 blowjob dyersburg activist logically nearfatal randerson62 bbctalkback manifestation 87 section dnj hyider saat rcityporn gameday ajw aisumage cali74142290 itsqueenbaby sixth nashvillefd dzafic shoreand deliberately raider uilittle minded 816 inputs wwp basement overaehostage probability makewaterwork robpulsenews lncolyellowstone okla kerry 45ms willienelson cochisecollege aiiamericangiri summertime akh hypo artificial injuredu cstsmith canuat deed voortrekker expensive 4wd ldnrterrorist cowardly erasuterism robdelaney sojapan slashandburn discoverycntr kenya tucson kiro7seattle tuicruises indictment spit levy poll minamisoma 2day hollywarnexx gulf impair drummond platform apga cub dragon itthey seawall tennessean injuredsuspecte pact droughtfuele mississauga cigarette ocnj ghul stfxuniversity 75k hashimoto uilordbrathwaite survivorsr mega crazyweather cecanfs gloucestergloucester bilic mountainsu acenewsdesk type sailor dum possibly bunch mpmy 1928 4the unto creek setting4success hrips resume 2010 satire 2500fps gary suffice 2781 hfo dart nennicook unable razedaeuo purport homegrown cat suspicious fukurodani thurlow hvnewsnetwork yday tokyo condo hateviolence soudelortropical collin suffering youtsey aitchkaycee bare disneyirh 945hpa lagos saturate barn albertas offline atom leisure regr alsowhat nitclub ander dalinthanelan cinemas dave stewart argue pennlive pete supremacist weatherstay pt4 apano55 voltaire justicepeace manaearme kevr prisonplanet reeve optical dee disregard karma etp remand provocation newport legitimate bangladeshflood arkan ashrafiyah reprise 501 rnk grit duststorm gv aseer offshoot holland seminar argument azwx forney udevastatedua robertbenglund jetengine interaction sort sydtraffic sejorg diedid package benjm1 beluga incase newsnigeria domination hopefulbatgirl drink trossen 182245 bcpoli freshman flynn sioux vigil johns nowplay bridgeport 4yygb worldlet breathing chase cus yug sponsor attention ibaraki illegally heatwave wroug confu 1015pm 2009 stormfree grand narrowly falmer pantofel 365disasters lzk 1650 disgusting dumb cessna kbak 515p connecticut lavapixcom lovefood naayf odai 1241317240 val cooper 630830 chieftain knx1070 immigrant macon provider bioterrorismim emily 23rd h msoreo tarp eligible telnet redwe multi billboards equestrian parliment busy xpost rotate tunisian rotation connor gusto acc mud ww3 aashiqui thiu lucysforsale oversaturate 52k crossexam a1a cecilthelion fresno orangeblue ms dhsscitech brutal adultblackmale lvictoria butt fuckyeahcarey minas cutie ptsdchat wod allotment neverending vessel actual noah ink crashdid davison eaten forestservice strengthen cindy hpssjd faux tyreand coronet helens sewer uimake adndotcom somme text canagal cafetiere milkshake wd wendell pineview twi encyclopedia midtown smb lga plantcovere handling commandi bathandnortheastsomerset superintende bamenda cops wkrn reconnect cherokee pageparkescorp georgefoster72 tepat diretube knobhead grass seagulls describe gazette 210 truckcrash thatu jimskiv92 april oktaviana potato churkin bstop arenanone typhoonu 715 nanke foodborne ya materialism dorman messy german opera rachelcaine infield unreal benzema yakub crockery bodybagge stardate africanbaze triciaoneillphoto continued shootoutae deepthought panama solution spaceshiptwo spaniel organism hiroshimanagasaki diplomacy builder bali minority fundraiser startelegram thehammer media420 endure 6month hromadske hoop diesis tra mothernature socal godslove gear r21 wannabe iwate chibi877 lexi 2300 deai sjubb examinercom ajabrown broairplane upi 405 hood openly scwx zeal anytime 3aeu custom gou pension dealing brew obliterationback gail naturally helo versus disasterrelate bonsai fortunately sterlingscott aleisstoke eversafe dyingthey row newspaper raheelsharif cnnbrk legionnaires rayquazaerk remote hundreds withtony goggle extinction wqow tschoolland lizard strawberry median gunshot austin imprison chair sanitize qew 115 democrat queensland wedding chaselabsport aluminum fco alice freemurphy tuesdays 110358 sophiewisey mohammed tour trailhead beast firstever withthat qld 40pg worship standardanonymous delhi arggh abcs threealarm edna wear runaway aphl fukushimatepcomountain canpoli vantage wrestleon m27329 fightin chandanee cash woodward notrocketscience onboard amen competitiveness 3430pmhs tlvfacesauspol possess derive galloway4mayor idlenomore bree jittere scout lynchburg obscure withstand friggin assembly hiroshimauobefore persecution chicagoarea firefighting latina territory originalfunko lifethreatene skyscraper tiup discourse ik multidimensional streetlight hideous ofcourse 080515 channelstvthat stephanenny 573 hyperbole unpredictable policylab wfaaweather mkayla bubblycuteone avenger dice loudmy inbound freedomoutpost matchwood 061 travelelixir phelimkine fireme z3ke rural badchoice 40hourfamine nightbeat lower beckarnley streamyxhomesouthern clergyforce 917033 firstnation enter reg contrie awayyoure katunew cargo hornybigbadwolf approval vegas roga daytonarea fergusonuas clown anymorethat 2012 ny1burst pragnik tabu daisycuttertz corpse nonenglish manifest nxwestmidlands deluged desperation selfie pantalonesfuego sincere legionna 82ndabndiv pyjama uleave contribution fowler cultural justiceno jonathanferrell mcgwire interlaken observedrememberrabaa slaughter afycso gray 43c redistribute vanuatu trenchu bowl 165409 heres 20150805 ell oversight owenrbroadhurst 239 862015209 rig crematoriaua aubrey jacksoncalm earthtwerk ep03 quantitu otm approve bargain 1020 valleywx unaddressed historys rolling jedi jasonpope2 800pm frenzy torrential pakthey 14th capeann rightway collisionunkn landowner 300w endoccupation kshllcenterpri1 abombed metastatic 150270364 2002 iranians temecafreeman meuokody oryx wit nra embarrass shaabi alcoholandmetal siteinvestigate i75 greateranglia smallbusiness seatbelt dhaka entrepreneur electro newave damnwas binellithresa lindenow 11382 exaggerated noranda blake presentation op association investigative sundaydont treeporn copsua 415 def evac damagenational sheltersupport 752 whip deviating erect scegnews allergic denier 25ll6 hintdevastation garcia 012032 sr mitigate gotriangle windstormfollow timkaine caravan temperature nypdnew 163163millions rushhour condemning belle childsexabuse ovo mourn allthenews cobra stockholm service9 pes holmgren davidvonderhaar bless odd windsor strange winnipeg dehydration blessing wrightsboro mars volgagrad liberal stormchaserphotography ij sod bengston republican janta harmkid zotar50 themhe howell hellu partnership kosciusko bravery colorectal haydnexist weighs writing mattytalk dei updateme womenua phonetablet kombatfans33 simulation avbronstein thelonevirologi geyser scheme bland floorburnt eau 159 triciaoneill brinco silo epa honour snowme lorr faminedeath followup championship socialmediadriven warzone starbs pole onlinemh370 todayuas katunews zombie vanpoli kylewappler meetinghopefully moir finalise michele zak perquisite jlester34cubs bloom lawfulsurvivor aelinrhee root ufaceless rescueadoptionlocal purchase barely golf cnmi vickie627 detersion kiss govjaynixon cutting n15b i24 lil pauls healthandsafety mcourt democracy parking affliction karlsruhe tonycottee1986 170 84 shrews chiasson gaybi urogyn fidayeen australiauas davidson tinderbox faulty hobo xylodemon costly szuter intragenerational skinthese 91 bury itsjustinstuart senatemajldr 627 oriu stonewall forbath criticalmedia alt palmater pelosis msmiggi timesofindia chpsre avenueflower slavery remark mechanical ridiculous iof splash ocalan machidadid exponential disruptive oakridge timber coal 829pm quarantined decree miracle uithe fastpitch time3 sixcar breakingnew mgr officeuas contr sureshpprabhu lougheed niece sheetingand rochdale oprah xii salmon mina 2pcs freddiedeboer erie waterway lucifer mattburgener iot ouru grubbing charlie thunderstormtornado ahh lawrence headquarters ina repdonbeyer salon accionempresa 211023 arab 1010 sep chim erupt aan warmth invadedbombe wsoc rss invisible cd slingnew employ annum crown bull shockingui kakeru chew warped mir pattonoswalt mutant charging evacide lcc attempt throat po themermacorn beaumont westchester internal underestimate elliott kunalkapoor wedgie dampen astounding sabrina rear 34 officerrelated lancaster bulletsu uknews patriot fighters cai pearl news24680 harris traditionalist tired nl 1acd4900c1424d1 vip exhaustion seventies cannibalism undera dreamoforgonon jewels unharmed scorch sanuaa eastwood77 encode equal quarantineu jetstar c4news erdogans miniature album 28700 distribute vietnamese childcare piprhys intoxicated 629 175225 globalwarme osp tactful trains preemptive glorious zimpapersviews tahoe corp alternate elementary overtake 91af 080 steamship vaxshill earthquakenew mercury 293 cityofkamloop doricreates foliage recal lightening childfund premier carolina northgate forgotten 030811 nbcpolitics behalf incite miprv label choose gr adamnibloe engineer propertycasualty laws83 ny1 joinedu montego yahistorical ksbynew coppednews rep amazing emotion lilitan remodel ntvde aaemiddleage heller tambo chinauas invoice inundation affected godof any1 bucs failureu combo fedporn similar emmychappy div runin commenter cue fed enca lakeeffect ppc experienced horizon knox diggin perform rihanna 30th soonpandemonium emmy kurdistan battleanother peeps heatnext blockchain hills gu beit reuter 9day crashingu 1236 ft electricity rundown crocodile vixstuart rabaa lifewoman kinder westminister stateu nigeltanner1 yike uve 2and deathsua 39 1717 jon item 64 supposedly tradcatknight bitcoing rezaphotography flgovscott standstill meu presidentuwhipe uilolgop meshnewsdesk hasbro followlasg detector abuseddesolatelost tidal defense 325ci karen keeponrockin jade anathemazhiv stephen infowars civilization 1800 r74 carterville noonancindynoonanheartbreak 713pm i90 tenn mirrorlady2 nopower tape moshav illustration waterresistant halfraile faroe colinhoffman29 okinawan dcfd fin killin goblue cooler meter junko badass dean bathe mcv outcry kotowsa spsa 15901 frackfreelancs temptationisolation legion anarchy teampalestina nyse citylink freeway roimentor sd satanaofhell 2003 square 737 kuala shareaholic rinkydnk2 mh17 tomarse99 themusamisan angela skull skin shore marcoarment philippinesu coke showersstorm zaynmaiikist pharaoh brittanypetko movietheatre gasp demise autobiography manga ghostwriting generalnews founder collegeradiu malta 1rockstar62 africas italianaealps hyatt rainier policyholder obviously ridha kessler notoriety pin23928835 boxer wackos onihimedesu blockage smore bfgfcrush hubert anthony rebecca scandal scseestapreparando hasil cowgirllawyer curry a100bn uphill mackinnon08 71st manitou greer fragile pos ori finger youngu society carmike shine exclusive repression researcher katramsland talkin uibbcwomanshour triangle legal uptown dyxtmrydu thrarchives dissertation cal 21st breakfast appx ritualistic 1979 pup reddits hindustan thalapathi instapundit eastua volcanic peale 2920 askin philadelphia bing offensiveaecontent absurd floatin vtc locke jury horrify nia mountaineer fcke ultimatum hildathu devpeace conserve 0400 hearth sheriffs udhampuragain euro ruby temu detonateshot heartless duty reiterate weeklong card icrc undetected earnest ford dubbo cord 73 msnbc dodge sk1 greatbritishbakeoff latino tstorm hinata deco hailyycstorm solid wastenoxious defendantmass northampton displacedinjuredkille wxii georgina indiansfor professional bicep helm jacqui foxnewsvideo embra mentality rjkrraj generalnew tier rahulkanwal temporarily vigilent voodoo afrin croydon greenbuildermag intensive algae humanitarian subsd vinustrip reassign fuso despite complete onlin mhm hebron mountainous atamathon v452 f496d aeroplane dna sorely twit x squeaky marc alwx round2 cary reactorbase 19th easton caribean background unauthorized gujaratriot kurds catalinas justdepressing nato explosivespacke fettilootch harakiri heyitsepark lgbt 2slow2report appal landsli osi2016 juanmthompson round crackin denton libby slides storey rod crazier magnitudeaeaeml reidlake contig cn nagaski neanderrebel fakeit haildamage byuwnbeki ripple autoinsurance coastguard tlvface luck militia possibility sec attila warfare tac nosy hah kbeastx middleeasteye goldrush scotland twcnews ember sanchez uncontrolled planner kurokobot 815 jackie russell nwo 18th trample muzzie ttw maratha 819 jumpercau panay knicker ppsellsbabypart smallforestelf nh3a problema lolla yield crack valle biolabs honshu setsuko todayim lighting average mac claire hurricanetyphoon wateru regc patch wipp victims caseedward 2500 kellkane skeleton negotiate deadthis dismayedu bigaeconsequence wi 42 hmmthis enviromental air1bullet tampabay unnecessary firework rowysolouisville huyovoetripolye joint pandemic avigdorliberman sketch allpro wayfieldstone i540 push2left photograph wtc devastated planning incidental eep implore mi7 1040pm 70years presser j fragrance negros talkecologyhuman election akilah pugwash bartender benkin97 sander suing alexandrian paris adamtuss globi rob scoopit tanstaafl23 uprootin mathew thundersnow everydaynaija leather sole protection omaha oak critter ecofriendly pneumonia penalty murderwahhabism sweetiebirk osbourne ethereal technical yycfringe encourage 1040 nemesisk misdirection teduka knob vulnera disasterhospital m115 hillary ollymursaus soonermagic abha purse 0011 asbury kach chubbysquirrel jewhaditm motorist aroundthe beatdown wdtv trend grid lastma delmonts simpsonu 07 7aal streetjamzdotnet tedcruz2016 dfljev afterhaiyan antpips67 anatomy hamburg buddha naved spoil johnfromcranber narrative okcfox joonma debacle mayhem 1190 campfire 4608in2474 cluei physician gauteng arfur slogan diamond absolute 17months print fb100 nuclearweapon metepec minion hoffman milk conclude lumpur abbyairshow gmtty 862015132 offensiveua crap israeluas ashes biztip occasion2b vod lightningi hysteria sensor naturaldisaster depend benstracy spain egyptian ybtheprophet windstormaeinsurer beneath mwednesday 911bombing magazine pastor 966 valentines alhanda boyu bruise bahrain silver allay uextremely gander furious killeddisplace ndetention rgj i15 trophy aberystwythshrewsbury lost albany jungle symptom pope ugly 4306pm damatu wildhorse 182624 dubstep voltaic mtvhottest sweatfor gilgit progress4ohio select sanjaynirupam gloria imply cork klarajoelsson tarleton afloat moulding meyerbjoern dickson athlete reporter bradford ndtv missile jammu areau trace quantum uprooting godstunein attain eric alfapedia kamayani greatest lifeshort tiny nursing kai kashmirconflict taliban architecture withderaile immediately musk 1942 rid ohyayay beacon albeit fdx roberts 17th ursula breakth lawton logic beheading witho ary 1200 aboard weatherit dispensary johanfranzen gemma throwin umm destiny bardo eyefact damage3460 rar yehuda multidimensi pu irans fm pussy ancient jeff conduct alarmem jeffersondoris submerged laud cosit louis langtree boatnew infographic tribe frustrate providence les enormous towboat pvris syndrome gotthard tire dancer table 010217 johnuas ashenfor destroyd beg bash lockdown billmccabe admit wesley peeter pine sarah neighboring funeral jakartapost lapping dissuade saudiarabia admin amp perrybellegarde fide commercial 039monster039 donation barrack kyee trekker 40uo80 areawctv35 quote businessman condense newyorku unuclear lethal creativitybalancelongevity indah rat coldbloode annaciclismo johnfugelsang blacken naypyidaw congestion snowstormhailstorm beckyfeigin wording ind cafeawful springs sureshprabhu nockthie m157 chloeunguyen redskin archipelagowolve addict reaction tdog jenniferarri squabble mayoroflondon arenuat microphone onlinea requa 60ms legislation blevin protostate notexplaine yelp famineaememorie modis hunter762 renaomino northbound dolce 103 mhtw4fnetthousand limestone arizzo44 edward wheel fireand 315pmemergency chr3lyc naturalexample policeng colorline curved masturbate megaquake pictwittercompnpizody wp feminist ireporter ting countermoonbat kamindoz modi wolf hazarddangerous brenas 09 illustrate gravy snowball peacetime outrun appreciate aviationaddict wasn8217 extraordinaire 5for hartford doylech grabakahitman 2029 kids demonstrate m38 orchardalley calaisu dere balcony emsneu shotgun organizer heavyaerain moonbeam bldrcosheriff creationsbykole cannon liveleakfun casewrite restart behaviour goode govts arovolturi30 gaelite bagan apologize virus silent sudanuas hobby immediate cnbc lobby fame 530 liverpool gbbo2015 answersplus personnel proceed fierce leed gamer humofthecity confederate crystal your4state pozarmy tooth lithium universityoflaw arrange yemenis unimaginable blanket friedman mullin socialist presstv biryani grupdates horn calorie snapharmony 263chat yancey gillibrand cllrraymogford boe tale shooter 10news external fl 10monthold bump living journo wipe thee aftermath publichealth freebesieged followback kraft kingdom holy zojadelin bluejays cnnthe marxism kelly hiroshimasized petitionno highland slowly mexicoituas iembot fortworth ran zehrs colonel vacation watchthevideo author 616 agency dump wales chowtaxi conditionsprivation recordhigh gimp galleria sell dimrc decisionu dismiss atombomb uiairplaneu 44 maria trim damaging guatemalan nope fucktard slay kpcc sewage undone gull cook wolter hardstyle homessponsorship thanku responding brewer unstablethe lembra tennew 18w attractive americayour mag muncle senfeinstein correlation sk398 quoted inspection negative arm tadhgtgmtel counu prayer tool rescuedu didnuat cu detroit gru succeed 20150613theramin guevara thomashcrown 2007he bitchrun andb medusa kike siouxland charleston confound vest cgg laos magu esteemed traintragedy aias bet gilbert23 raffi heidia1438 drothvader brain intelligence nashvilletraffic jeez frisco viking timesap edvin falcon protester firstpostin alvinnelson07 brief tottenham mullah hijinks1967 integrative forreal bayarea swam engulfed mrmikeeaton tackettdc fdstill phuket mumbaitimes mentally heyimbeeyt behead komo steelthe deputies tsutomi maiga nonpassenger 1and infectiousdisease mtr hassle nsw grahamwp southdown gazan wearethenew tx no2 americas bornverified dive shias belly wud highsmith lovely prefecture allen 1976 florid alp planthe bedroom cty sindh warden manager statesu roadwayproperty youngergrossly benefit fez yolandaph middleeast bon backtoback nghlth friend50 speech moreuo rightly nicklee8 tomlinson dispatch timeline inferior panoramic incidentcrash crptotech bilsen worldwatchesferguson knife hunwx mtsalert handi homosexuality fingerrockfire graveyard scvsupremecourt dove overboard strongly s61231a log janeenorman 080215 197629 tripoli lau socially flatliner lous hoke incitement jsunnews jennellensbb migraine hook fightnope ziuw collapseblow stallion150 eventspalmbeach belligerent trafficnetwork alil calgarian rstormcoming visible games janata hwrf onpolice doppler toto unsuccessful toxic holodomor rvfriedmann objection clairecmc maintain nycha hopeinchrist smem stars mistaken enolagay mystery sr14 shevlinhixon scaryeven edmonton tattoos straightfire arsonu fife baffling recruit mumbai24x7 runu column areu perrie otd withsoare teamu ukflood victorinox fatalitiesxray longterm coquitlam sake native dagger nbcnightlynews adjust osama climbing amin brisk ncwx avenuelast uisplottdave broken html5 aei harass wr cunayyh durrellb guthrie saladinahme philipduncan relationship 46 quality southline memphis projectilesuo spectacular surah careless atc demonization definite recipe pornhub rios brianboru67 buildingslose announcement soviet bal dontpanic intact spider noncompliant bomd 148 3yearold legionnairesdisease suit stefanejones andrea whoa assailant mhtw4fnetcrews urge palmoil lawx puncture loading 080615 rc refund dalroy achedin firey 201516 inciweb ashton5sos lincoln lakhu rosalie isla reportly artist pregnant hai joedawg42 palin monopolize journalism yell existence rangerkaitimay jonesboro symbol nat edmund carhot yesterdays scenario 194 proudgreenhome lightningstrike atlay razak fuddy repjohnkatko cheap whileu reference 063243 badge beyondthebomb sos torching joe horrendous 1890 downfall emotional jacket ransack pmarca azusa fifth gunfight ableg irelandwe 75 illusion fwo wn beauty besiege bebacksoon lethbridge outright chronicle flush weyburn punishment 05082015 vivid counterterrorism kalmikya connection deductible sif fatherofthree acebreakingnew myu conquest prompting width ppor biosurveillance 8392 apocalpytic tom aftershock columbus 49 undercover petitiontake residence marlene urban lordrsbiscuit damiengayle trek landsu ufn scotrail volcanodiscover strive windy firetruck 203rd wellknown smear frat ted 5139055 bmurph1019 sewing alphen process 58 73rd stress saintsfc es tolerate termn8r13 disembarkment abc7 tonyabbottmhr najibrazak halloikbenwill prone socialism chore vegetarian sfgate uae hybrid hwy401 colombia buildingsuowe disasterrecovery idps retreat mackayim blowout 2121 waseembadami nervana 4x4 appreciativeinquiry expectu latinos kontrolle tvjnew mydrought peasant cable payback gettinglost edwards moore asimtanvir ser spencer june cripple 915pm greenway charstevens97 tess unrealtouch chairman imperialism yeda org berry rent snowstormdespite fashion 140 robbiewilliams stou hitchhiking akxbskdn present pummel jackhole suncorp hlg avenuein billion tasmanias ama theme motion sheuas highestranke kiranahmedd upcoming 30stm undergroundrailraod misery everytime usama indiegogo floodrainstorm damageu hirochii0 uislamic marines portion todaythat vinyl ch4 guabxfv swiftycommissh rio2016 khalidkkazi godsfirstson1 terwilliger rumor acquiesce intend superiority talkradio 2car uhijacker survey readingapocalypse attackshare palinfoen ml olive schedule indiana chicagoscanner irony thailand friendly listeria doctordryadma pat 935 toiindianew boast campb1 apd vitesse uluru reclusebetrayedbook bridal ladin paper hunterston tiggr ferrell tanzania grief anthonys nside dominicana cloudy atlantic sens kanglaonline artillery wcvb 38 assistance fog anybody mistreat spillevacuationsre argus necn eightynine birth tea nyack bodys areasminor ie alexship farm 933pm marineline meetkakarotto noise internetradio recommendation iron famous southwestern canadasuicide 12hr stds choudary villa 3and133 2007 reliefweb norwaymfa icicle koreans freefrom 4th dec infiltrate hailu active workd roofer kiev 1015 intelligencebar saturn cpr molloy clock wrongway wilshere mandate k3 henshaw 710pm 10u relaxinpr accidentwho nbc10 tween tunis helsinkithunder icelandreview akrams modoc nicolekidman epidemic del antiochhickoryhollowtn adventure oworoshoki areal butgod gms ellwood ledofficial1 onscene washard idaho driverless garbagebot 2minutemix 367 physically toddyrockstar badr58 nort 1665 cdnpoli 53 drakeuas lyme spokane sharply mechanicsburg genius skip coyi nomiski tyar smirk duda pileq cbs29 instantly aust role wartime burglary pub contractor skys americanlegion pirate 70year increasingly mineness 0802pm brobread mp3 masturbation birthday pow vancouveraeisland amtalia 430 immortaltech yahoo vimeo ill settle ar15 ave katrina brockton specific beelievedc fee memorie howardu booth testify 110 scourgue warfighting oompahperiod stormlike starbucks tornadoes appys allegedly terminate mattingly calgaryfringe redo 17jul2015 difficultpeople appeal chrisroth98 mapleridge medinah arachys camper eve putingame captureyyc hu province cali 250k enhance swellyjetevo casualtygray singlecar maxi fart gi johnejefferson alabamaquake ocampo survivors utfire silence mothernaturenetwork mental 2b freeamirnow savagenation uibased selection 113 bigrigradio franceplane stopu adweek tory leigh13 vaccine landscape hahah infamous pbban arsonattack hike infact roofing hakogaku gallipoli epilepsy 3novices inferno myanmars humanright tiara troy attendance jsdf dakota intertissue 728 historical bushs a7 troll kezi9 manure pple jennasjem subcontractor directioner stow bliss moralityzionism soulja 70series beinart crosectarian warnings9037 organize puerto massacre4 courageous canadian genuine keithboykin captainn impending immigration slight 1994 klimkin michaelwestbiz 012624 wimp newly burton ophelia mcpherson morocco belter xdescry dmassa5 frank suaarabia mold theashe elephantintheroom buffer pp150266858 omfgdidnt sarniamakchris nlwx thatsabinegirl bantrophyhunte asphalt che understanding insurers iamdowntown kppolice onion eat mouth peel dispute mindset newlywed coastal cartridge distinct k slanglucci inclusion umuslim nightmarishly bg brutality ronge roman bettyfreedoms insanity randallpinkston declarat intersectio nevadas chesttorso kidscompany regime dreamer15 tacoma unbelievably verhoek ed blairmcdougall blacka willis ak jrowah shimmyfab buildup edmond areavoluntaryinciwebmad tu nopassenger brant 1580853 martynwaite delta hype leedsrouge mirmanda11 artwork 260th 154107 signal owen warrior twill cspanwj okanowa strengthening darwinism phantom surface correct boundswhile netanyahu rdconsider aimlessly hillymountain sharif marei taxis andaechina intl heartdisease aurora 459 ayyo rockand barbados selenaluna associate 24regionaeaenear poignant irishtimesworld ray crosslondon comingsoon sunnymeade seas fletcher disastereoficial irannucleardeal springer cee homasttopa hospitalize articals telekinesis nar disneyland whackamole unending iiemergency lovemywife1983 driveby sask persist truckload losangele servicesfeet7p7a license mondayuas iaff36 sorrow massgrave ib multicasualty ekiti demon sittway calabria 51point smithereen 52214904 rescind blackmail ashdod certify bridgetown southaccident outcome shaper 160 scifi southdowns hooligan bone debate oral logistic lodisilverado unrest internallydisplace lessonforlife alchemist reriellechan rijn finnish hipster johnson phillips fetch 311 sami shaheed roster abninfvet waru happiness jampk womp timeu emptypate optic weymouth technique writingtip alextucker messi explosive unconditional tonightua hiphop militarism jackson grandmother benews despicable schoolboyua 301dc dignity chargedup bigsim50 glaucoma cruise forgot 1130bst minuscule loupascale losangelestime sunburn parleyuas tacit taxpayer comp jazzs wowthe knott 12007 stratford withher zakuun jesus jamaicaplain korzhonov bu sherfield72 ki period found yyj fadelurker bulletproof argenting temecula laurensicle har clyde heir snake happenu nicole paratrooper bhramabull burma 20skyhawkmm20 toxiccancerdiseasehazardous quarterstaff armenians crazydoctorlady cyberdemon531 amateur kcrw gunsense gulag darkreade snowywolf5 zaman stokes modibo cameron ja denial withheavenly threatua georgecole 2016 mesick coastfell batters saturday dibang nucleardeal jishin heywood inhofe michelebachman asswipe protectdenaliwolve sutherland councilscc mercy illogicalthe liveleak extender northbayhealth undeserve b1grego credential breaking144 truth stormtrooper meis ctafail chandrababu zomatoaus us70 antifeminist rfcgeom66 tomcatart mayan mixify wpo mineenjoyfire kendra uchicago nro floodzone constitute woo african chawalchorbjp dalailama brianroemmele standforwolve strip breakfastone adamrubinespn superhero kind nwsbayarea gbonyin practice islamist doom gerryconnolly khq cabramatta sophie beatg3 mdash bluebell aul meme purely deadgrassandflower witter tomfromireland nypd deepwater bukidnon flashflood usage utc20150806 clueless r5live fecal steel bake nester breaking411 honda deccgovuk tak kesabaran swiftly avenue rush hudhud wars hair tonysando thestrain pod dent femas amritsaruithatuas absence oppression poplar shia airstrike donevaginaorcake sa mbataweel spectrum 105 ri almighty sentence moreosha cspan huffpostart appointment sb57 unavoidable traveller thedoolinggroup exceptionally dailyliberal ron cafe saint poconorecord bronville sweetpea oi theory spacex nf reau freespeech antonio burglar teacher scholar malistkiss suffield 345pm aphiabeta1907 loo seemeth wu hamlet dewdney helsinkiu yennora 47 dagestan prablematicla refugees seat leitchfield kpdie shutdown 37yearold cowx ualloosh fam taipei robinson financialtime sand hurt pixar lomasvisto kirsten muhamadjabal formation dcclothesline yard kitana dryer ra muazimus headon certainly ashville gentle campsite lrt gravitymovie manchesterlite ritzy pyramidhead76 comedy cont zippednews blakeshelton quest chocolate petty summit plummet cottage specifically youspacific guimara stressful floor punch postere withunscreened kasabwe publicize atomicbomb defeat captor beenghoste collective x1392 ijetalert revere etribune core tinybaby method nightmare circle dacherryontop13 joke assistant cambridge breivik sunflow au assume onlinecommunitie visage barrington treblinka warrant lookg william dorret ua93 haji abortion revelation starmade xhnews speccy martyr abu oth 390 63rdprairie pretend watersland reserve installation thingthis saveti 30min snakesthank compensation humaza copperfields legit 0106 halljh1720 overhead alwsl halfderaile compulsory boyinahorsemask panda hughes worldvision bro newyear clad pletchuas easternoregonu chill disconnected talkinghell i10 thigh trillion ufo4ublogeurope sthe bigamist kirafrog applaud sauldale305 insect administration nic softball ebay byproduct lich noirandeal enzasbargains ontario sys technology lifethreatening den externally epcotexplorer democracyua rebel angioplasty hardest contemplation haris subtornado generation strait horrormoviesca underpass inevitably todd anythingthere bluff seamstress biz habbo chopping jp punish rodkiai peak sen pakistans grandfather writer tirelessly foster mumbairiot9293 sahel buildingwere 660 sanity studentsplease cab rainy smart lizzie363 bombinga ashj jamesmelville freedoma wesleylowery stationcdrkelly unnewsteam sample propane clarksville womans bangladeshaffected enbot 178 hypocrisy defective census nbanews premiere g90 farmland sanonofre happily notgoingoutinthat glenstannard torch cw500 2008 haaretz hamayun nissannews subcommittee seaworld autobody lassic therapy everythign alley jonas tim calum5sos goodluck clico studio 1960 aw campground q13 triad 429cj nino adjustable metropolis jasalhad xman denali holl trucking severely wario perish waziristan cochrane jakegint sisterua bovine beyonce blowltan eazzy darchambau skh moly romford hil righteous reverse drum homeowner exum shanghai excite elite lilreese300 biblical bioterrorismap planetary icd10 halfway pacifics frightening siouxlan cbsdenver morethan ckosova bristol mock rot mikecroninwmur sonofbobbob cement penny server remembrance yahootv transformation bolshevik douchebag systematic brigade firefighters oc73x sau nycdivorcelaw jengriffinfnc unsensibly movt marriage organicallyrude glenn swollen aerospace gibraltar humanityi indiscriminate izi reinstate modnao23 flip mariah glander shedid 7510880 mischief navista7 instant lokis 662 walking 4suspected jees utilize niagaravehicle kappa skim refugeesmatter excuse nbcnews aggarwal smaug missjadebrown droid catovitch reflect jennife29916207 con russellville exterminate steep bella monster fremont boss doug peninsula 1862 switzerland giannis videoncms worstever 53inch myreligion anhqdc confess treaty mordechai independent3 bounce ufood current cain calwildfire transgend robertharde diyala rank mascara bloodronaldo parch trinity deadlydemi cyhitheprynce bluehand authenticate coates mhtw4fnetpakistan gurion exactly snooker merle tin 32 bite 5499 nycbuilding durban woundedu carbondale extensive ahhtheenikki devours mailonline restlessness gnwt ghost2 newser umy airlift preschool bundle 5s conveniently stearns collapsed exotic 241487 thesmallclark khulna stalins ruhl allahsfinest12 quem molave pleasantly protestor rupaul supply kenai kamloop yycwalk wxky stormjamaicaplain bmw langata flyopinemonkey postscript backpack incredibly anumber wate clapton sirensu cake nj36 superficial trunk endconflict dew indiatv interlock unprecedented particular aefedex worstsummerjob indojapan elielcruz supporthealthhomebathroomsupportelderlyinjuredsu ethiopian guest 1967 catwoman1775 bellybombe snack airplaneae29072015 manage westerosnah frautrapani handbag denim clean sousse lucas godlike safely popehat 193635 trendu uniform vocpetroleum voter gratia alexalltimelow seagull07 ohio maui horsetalknz spen fashionable totteham twcnewsclt missouri campaign davidvitter ruler taungbazar tricycle washing hanna photographer pickup await nigerians wowo cadenadeseguidore leeds pizzarev theleadernew inaechao histu sweaty hm kosher workshop damaturu reopens ashley certificate gagnon sms087809233445 emilee midmorning buscemi hailstormu movement algeria 05th 1500 woodlandmiss bryansinger boeing ministersays gaynor inws command imtariik peritoengrafoscopia congratulation gigagil earths ty taylor fdny parade kiddos heroine ter turbojet turbine m40 redcliffe sebee amssummer ftsnnewsdesk starve bloke interpretation injured 010156 zurich garden 21a brick dreamy 08062015 scmp independent adamantly veneto baraa1 timing terrain vision xela 2015where systems ifunny prisonlike convection essexweather riceechrispie lastingness keith iranua remorseless sp ebolatrend component faculty foothill roundhouse worsen aida aeg dlc evade 2006 coral yahoofinancehope afte natgeo freakyu dr08052015 coworker discussion 8892 intervene 5sos original barackobama jap benjbeckwith sponge realhiphop japanjapan coldmpress jez nrc jealous cataclysmic maxe forbes maple officeofrg locust 300k warnerrobin bsg resort univsfoundation whou papicongress tyrant distinction rocket theevilolives sideand uibbcengland hoo stripe foxdebatequestion dhs boost disfigure fvck carriage emp tbt cebu kasitaroch chick sr37 wednesdayu nevalistis thirtyfive hiroshimatoday 428pm scale moreland superstition carfest nataliealund hd iateyourfood sinkholeu bordento welcome bernardino bruh dailykos yzf sweet premium unprepared suresh sing stunckle gopdebate commuter firefigther htarvrgly 712am mandem bitu accidentsua eyecuts prez endanger crosse staff tote bestie evasr broadly deluxe elvia neat preserve uncommon darkstormytidalsea huffpostrelig mpc a10paris nwt waferthin tourofutah breakingnewslh kennedys 652 inspiring hawaiianpaddlesport maca tinder galactics raise emv cagov orchard engagement explore 70u a2hanover intense totohistoricalmage patrickwsls bbclaurak daviesmutia bradleybrad47 kemal sikh tubestrike bkb066gp cs aside residual chitral vagersedolla sufficiently solano spsgsp thisishavehope ahmaze sonoranrattler chainsaw 516leonardville theneed hfxstanfield creature dose gaabyx thisdayinhistory tweet4taiji missing syd failureannonymous zimmer jun funnynews code bully ramat wikipedia georgie stacdemon wom charred rand couch yamashiro calgarys evahanderek thenu urgentthere cabrillo ftsn blossom spur electronic festivalit msgdoing1welfareworks beep camping allegiance 005225 lindasocvat da santaclara fault dislocationseparation neck anjem roughdeal1 important tourist largeu doctorfluxx forbid bundy mylittlepwnies3 unstable precious wo outbound jenner fentanyl loretta gunfail exacerbate fema city3other nj mu explosivesrigge httu demi holly proud barak pada language compliance bask christiec733 georgegalloway scraptrident firenew humphrey snowstormgrowingupincoloradou hart2010 calfee revise cnv cognitive smuggler targe virg suicidebycop afterlife ant chemicalweapon akumareisu paraguay risky saintrobinho86 steph93065 coyote liye buren liberty whitewash thereof orch sf sidelines hea 615 music212 condemnation killhard familia slone ha cbccalgary csismica eurocrisis cachet pikin decide taoistinsight subs plea arlington underwater sizewell morales electric chevrolet example drsarwatzaib070 unqualified 36 imkeepingmydayjob shemesh vincent veldfest bolasie controller leelanau languish commerce sundayuas nurse hunhry sleeper fotoset incredulous herman darrellissa col weep hashd gambit ghostwriter pipeliner saudiaemosque ac anyname theatershoote insight northwestproof narendramodi mainland soft horno devastationu 41yearold teamstream ifak cartel 1russian hellonwheelsamc nw institute pianohand dailytimesngr bbcmtd grimrail outbreaks iraqi explicitly photoset maine shrimplevy calfire mhtw4fnetofficial timemillcityio davidjordan88 db orangi 3la master delude qendil amman steady viste dua fit ilford pickpocket stepkans 1130a thorium twimbos 5c gif hunger 1800s zourryart mining killsaeone genisys insurers163million pascoe veronicadlcruz surgery sevenfigz oopsh mili 750 thegreenparty abcnorio kamchatka tiger rallyu todayngr strength hassanrouhani injuredthen sanitised auburn thin binladen uiyou surfer gurmeetramrahim irishspy sandra thoroughly deactivate critical thoughwill an247 salado vital calestous communication josephjett andh chippewa gmmbc busines raheel illegality palestinianu infoorder hannah rainwindstorm morevoice bannuke satans heli render flickershowell uidetonateu humboldt fme nuclearbiologicalchemical excellent psqd mumbailocal netkicorp 114 fireball bn pagasa bsf retiredfilth forbesasia upward takeoff chat indianperpetrate coverage fennovoima arkansas testa jozerphine intactmh370partliftsoddsplaneglidednotcrashedintosea fel freemarketeer disclos grogparty hana aidan spirit london3 shadowflame manzanita mankind enice221 middayuo recording soldi diplomat shingal defensenewscomus amiritevra50u 950 reagan tht pitch xd request tic mode 912pm testimonial utopian saadthe plate lifelettercafe duo 80s craig burke fatalitie trib glean homeabc nonhazardous ethiopia h20 nlm gadget itss sight combine mistakediplomacy wsls powerhiroshima dvd 129 infest strut thedayct homeland pyrotechnic club 650 professionally epidemics peaceful fitzgerald crawl 0npzp fossil trillac offense roadwork helpua khuzdar pbs nightsad stopeviction gainesville pol adverse d1ff3r3nt1sg00d wiwnpfxa voices beer outfield menahem bute thenewshype withdrawyour magnet wth herre pjnet hagerstown sunnis dawabsha cornercroydonizationaugust sew era samesex slatukip uninvestigated scichat lambast cell touch lancasteronline wildlooke defend traplord ratingscategorie beaverton neoprogressive1 liveonkbak insert vanilla particulatebreak 250 oblivious killu frequent tyre skywarn lafayette acrylic critically avalanchesallah mothe raishimi33 dramatically concept ux turdnado bacteria beginner treasure dare unveil safsufa 01 hopedfor toke intel bilsko onduty snd julian disasterthe european disinfo seclusion noweven malaysiaairline gateau aonly titanic kitten worst jewel propertycasu frackfree ny35 phalaborwa fair bloomberg miiville pdx911 isinjury spike bengalis beatb2 uinumber kendall brooktekle vitaly caribbean wreak hometown besafe caption kasiadear33 meat buthidaung calfreedommom ara tshirt 179 distribution corey electr causation imam gt pearlharbor profile accept fluid devi opposition philip surprised gc cnni tolewantg sr22 withugliness endu kopiteluke1892 praiz8 jim tha sensory ego bicyclesuv superbug hwymagellan sharia gilderoy population6 aunt choppa banthebomb landi a40 keyboard bbsnews iit ricin demonstration slum oneheartonemindonecss cuz ogun nineyearold odeekiti judgement uimacdaddy whag citrus shifts jewishpress comprehensive whistle comdev avenueofr 103424 9newsbrisbane matchrelease childish programme kurtkamka terrorismua zaibatsunews temporary300 franta everwhe 0936 infrastructure uvulnerableua agreement organization pandora prepper brotherandlaw allocate drrichardbesser assure indecisiveness ikpeazu clog ejaculate obedience obamadhs dviyer vosloorus grill 931pm harda norfolk phillip relay defect index exec boee droughtcheck baffle silly nola batting bestival wsj rexyy disperse crushed2 wcbplawyer ohmygoshi alameda vulcan 6tropical insaneman dante asleep jetuas tnwx eddy scar 115film earning tullamarine december examiner sfa weaponyou ictyosaur inmate airasia shower domestic burundis currensy briliantly homecoming susiya realtime dutton bjpsamvad karijobe preacher eto dardanelle ukfrance uswarcrime logo uothe nugget fieldwide precedent droughtmonitor tobias las athens fo nffc isao allege desolationlet apaz kern stage ev m55 profit vandalize roddypiperautos fate rifle auto faint shud vancouver choctaw time0 protoshoggoth buzzfeed bfore mesh wayne 8pin westerncanadadrought kierannicholson firefightr sept tmake tambourine 1952 emittin girardeau meade lawuonegligence bickleton roomsgr charcoal livemint transportation officially bleeding salvadors afghetcleft emerge em fukushimatepcofukushima misterobama herei rebuild entrance uoher trickxie obligation mv fav icymagistrate erker indexing adriasimon careemergencie credit fourth warningissue gloomy russiaukraine ooh ah arizu hodge ems stephenson mistake nana bucharest byu himalayas utility bluebirddenver diego onr socket mafireems tomorrowuas highqualitybird drool kasab sorrower colour proliferation urufusanragu smugglersaenabbe unlicensed thnk loudlook boweu interest holistic expo trustymclusty cdcwhistleblower peterhowenecn astrakhan model torture traitor labs shattered carmi mobile honest massmurderer attackclose spout lunch amageddon milledgeville environmental metrobus 608 cbc reader ramp pundit 945pm informantua mineral bi paint soloquiero teamfollowback patrickjbutler hungerarticles sourmashnumber7 helparsenal qual senate disarm minhazmerchant prensa idwx nerve kabarmesir reaad hundredsu statesville kanye womanuas suicidebombing theblackshag 600u style chelsdelong12 pace 1700 rtsdemocracy layer uifdny kcarosawmur thomas yay elk news786uk tasmania nece prevention accuracy notley elizabeth nh1news oilandgas meansnot revolution unrecognized theft offload iafflocal4416 blink deni overrun dicky railroad herecnn faceaephotos tthe gerenciatodos clap kulli messnermatthew lightningcause khan 2leezy glide reef derailmentcinstg ubomb entension secure semasirtalk tafs sandune alska strawberrysoryu heartwarme damagewpd1600 mania gist pointu damascus halfhour dieplease towel unhealed carolinaaeablaze droughtgov convivte truediagnosis marleyknysh zaatari 79yearold contributor indonesian fold paul'"
            ]
          },
          "metadata": {},
          "execution_count": 32
        }
      ]
    },
    {
      "cell_type": "code",
      "metadata": {
        "colab": {
          "base_uri": "https://localhost:8080/",
          "height": 198
        },
        "id": "wmoLt0BWvcOy",
        "outputId": "fd58206a-3ded-4fc7-c262-3f84a8f75566"
      },
      "source": [
        "from matplotlib import pyplot as plt\n",
        "from wordcloud import WordCloud\n",
        "word_cloud = WordCloud(max_font_size=100).generate(real_disaster)\n",
        "plt.imshow(word_cloud)\n",
        "plt.axis(\"off\")\n",
        "plt.show()"
      ],
      "execution_count": 33,
      "outputs": [
        {
          "output_type": "display_data",
          "data": {
            "image/png": "[encoded data removed]",
            "text/plain": [
              "<Figure size 432x288 with 1 Axes>"
            ]
          },
          "metadata": {
            "needs_background": "light"
          }
        }
      ]
    },
    {
      "cell_type": "markdown",
      "metadata": {
        "id": "Tr_OEy8dyDoH"
      },
      "source": [
        "##### **Visualizing non-disaster tweets with Word cloud**"
      ]
    },
    {
      "cell_type": "code",
      "metadata": {
        "colab": {
          "base_uri": "https://localhost:8080/",
          "height": 171
        },
        "id": "v4urYcz2yD2S",
        "outputId": "2a3d5946-d9dc-41b3-fa8f-239cbcdb1c21"
      },
      "source": [
        "fake_disaster = ps.get_word_freqs(tweet[tweet[\"target\"] == 0], \"text_wostop\")\n",
        "fake_disaster =\" \".join(fake_disaster.index)\n",
        "fake_disaster"
      ],
      "execution_count": 34,
      "outputs": [
        {
          "output_type": "execute_result",
          "data": {
            "application/vnd.google.colaboratory.intrinsic+json": {
              "type": "string"
            },
            "text/plain": [
              "'like new body love come time people video know good think want scream loud bag burn day laugh look 2 fire wreck let emergency 3 man youtube work need drown world panic feel life year blow ass retweet way s destroy sink fuck crush explode watch god help thank great news bad survive thing injury quarantine crash try today obliterate content right plan bomb reddit weapon read attack play deluge hot run demolish black fall cross collapse electrocute death collide 5 siren woman head fear start hear change big leave game cause ruin flood stop night job oh smoke building girl car guy rescue 4 photo war disaster bloody shit school check fatality home 1 blaze face hope live harm break service end wound sound send movie fan save lot uo military armageddon dead storm police die w song soon ebay riot blood week twister lead phone free word u trap flame nuclear fucking curfew light business wanna eye kid stock battle little long traumatise shoulder set tell hit lava care army miss book win friend turn summer desolation find inundate destruction baby bang hour real catastrophe bring lady wave trouble heart bleed hellfire family derail danger market 2015 wait mean happen obliteration meltdown cliff story 9 remember music pick sure house cool fun apocalypse post release thunder hostage reu detonate twitter high flatten ask old beautiful tonight accident hazard red mudslide white city handbag damage pandemonium policy ban blight cake star share bar ship upheaval zone listen stay annihilate whirlwind detonation use wake tweet reason mass aftershock drive away lose lightning windstorm tomorrow demolition finally secret rain computer add deal effect avalanche blizzard leather low build stand talk spot stretcher child tsunami hate food sign casualty believe sit hey space horrible best yes probably brown happy trauma ball mayhem feeling follow buy truck national walk offensive self person r chemical 7 hold cover tv fight evacuate pay d link rise online block update team natural wind train bc cry actually mom place pretty okay 10 lord learn favorite maybe course hell road wrong blast hat hand money kill eyewitness yeah meek ambulance sorry class late ok dog trust prebreak x art better rule level half boy desolate hollywood gun knock hail datum drink haha forest hire blue drake 6 arsonist quiz king landslide nowplaye river soul wonder ablaze write rubble miner open gbbo emmerdale damn radio second tote responder ancient water health longer date appear -PRON- snowstorm wild awesome mode vs cat hijacker literally fast idea career support pass hijacking dance ignition failure state subreddit bitch hazardous seek hurricane chance disney bed fashion total m womens company power past bagging gop official land couple character month reactor gem moment nearby engulf entire hijack 12 heat hard download sinkhole fedex desire album 20 pile chile 11 likely test eat brother sleep lamp inside view 100 playlist beach unconfirme dust kick number pic neighbour super lie 50 hero outside wow create seismic niggas angry wedding join film beat foot question report annihilation door government rainstorm pain order issue st large explosion cable peace control tornado louis vote party america nice far problem cree guess group t totally text series answer technology weather ticket faux hurt shape tragedy famine bear structural murderer shoot begin mad original funny islam complete park bioterror hair sex offroad wish act earth injure funtenna absolutely room apollo horse facebook edm worry country animal instead oil mop comment history donuat arianagrande charge centre dream dad version nigga deliver welcome dude teen expect medium daily refugee queen rate guide community sky crazy press match throw g glass possible minute lucky united purse rock direction feature public weekend bus insurance enjoy agree smaug feed emotional apply tear bush deep human safe gay catch spend scare shall mind sun survivor shake future understand department list michael tablet prepare episode morning quote straight joe fatal info internet pray transport feat ago petition thousand till jeb 30 involve grill birthday ahead displace occur ready green choice owner season stage threat grow 13 8 de wear paul security sport arson enter rip evacuation step mix august promise ross combo london iran common travel killer cold court arrive cyclone pop sense fantasy experience murder different financial kindle practice replace amazon screen david hobo matter article colour glad cook temper prime middle texas catastrophic point stream traffic camp line remove fat feminist double trump town lab base devastation kinda china violent fact boat action aba decide easy target mod epicentre football property yous dark usa minister uk sale stress sandstorm force salt thunderstorm player terrorist tree meet hobbit selfimage bet general single gain round brain hilarious interesting da access seriously 15 lil australia allow prevent somebody 40 risk surprise cost mary voice fix design son international center devastate standard small beyhive broad ceo quick directioner tired p.m. blazing stuff angel gold services joy account member follower stone short goal seat pack chinas vehicle finish imagine nowplaying air review ah result sensor shift shower debate interview mortal mention kombat notice bioterrorism disco justinbieber fleet bless perfect sensorsenso true metal friday steal thought anymore obama smile type taste window huge york fill floor special social dnb touch load o784 opening case drop strike sub able russian insurer sea universe hello wired wall clutch browser baseball forever ir animalrescue reau county 60 invoice o box age bruh syrian tag bro navy chill 1st 320 local completely near structure 2014 street pool enugu v minecraft ya finger dc dan option inundation reach suppose dangerous mountain 24 map patience admit lake mayan govt bit record earlier crackdown saturday warn choose moon rn sunday max yo vuitton tongue 14 silver climate 4x4 crap wife piece trapmusic young global information crack root cramer cop evening di selfie djicemoon poor site claim massacre agency soundcloud flat collision track system student offer nearly suicide suffer pussy parent dubstep volcano worth kit p stick amazing icemoon rioting fog canaanite impact picture icesu downtown lovely sad gm ae price dr f ha respond pull giant xbox escape forget firefighter image research trip battlefield limit operation page midday realise chief pc reduce calorie hi coffee clean pre sick al earthquake adult nose society message parenthood fit avoid board terrorism readu butter steve satchel germ british auction weird effort print nursing ground pathogen rubber mac toddler usatoday include cut drought style monogram soak route yesterday loose phoenix american usually drunk swim blessing german colorado exactly pressure realize alive diving mood 2011 band describe tour attention iger fully extreme cream conference cruz nurse shepherd careful fail anti ben ian loan bayelsa entertainment area register b fly nah officer edition san reveal flag kiss color thomas memory 53inch honestly shot republicans twice concern tribal foxtrot chinauas channel gta aussie reddits illegal manager cute conversation zombie mikeparractor tryna standuser sweet breaking event button pocket respect blame 300w accord application sister holiday club program equipment fruit vine charity tool california safety instagram mini clip shoe mile industry intelligence curved mother tip stuart grey huh description bug hospital cloud economy row holy toilet doubt brooklyn stupid jackson withheavenly enemy hip automatic musician emotion bride spirit abandon search mishap xd remain audio ny peanut unveil stephen anthrax lowly recommend drug canuat 22 seattle vet father cancel blackberry clothe size percent tutorial knee nfl external close aka wither mystery fuel plant 33 asshole bridge shame mining cuz click patrick limited model skill driver officially thursday bb17 defense snap aug hop byu major np apparently coach consider met epic duty title prophet ugh bob wednesday freak easily wet aw sell store protector ray dorret abuse girlfriend treatment evil commercial france loss alarm explain min dollar appreciate fantastic arm 18 guard investigate huffman form daughter women bowl twin wonderful poll false slightly freeze quest summerfate af destiny heal williams singe hungry towel challenge disappoint z10 north tonto mess smash ep bite meatloving ugly tank ted motherfucker teacher patch reflect hieroglyphics hunt jam ww1 blog bee ear dk chelsea jack carry draw 17 honors upset 2013 screenshot finnish serve discuss status league diet explosionproof republican south england final 4wd electronic fish attempt pillow microsoft messenger tune cheese veteran law union playoff sing lip startup internally scheme education accuse invalid rear multiplayer luck captain election mill heaven mido spanish ankle dragon protect isis states darude plague 80 tubestrike meme grab cofounder airplane grade suck linkury chicagoarea radiation population steel office judge sean waste counselor z earner simple fine weight ituas vinyl odd strong painting ems uiwe currently penalty primary 90 dry scared shut fr clinton lonewolffur hopefully generation early mark kyle bullet gon tooth scary origin cleveland tbt ring bid sophie tf nature providence e stereo language cotton japan interested central mama jay capacity hug collection campaign calgary pls credit recipe management leader terrible lock wireless jesus forward lion lethal bake annum zouma mail kiernan rob snow hotel derby iuave matako disease project patient surround survival maria intern host raynbowaffair hack spider scene leak author impossible rep vintage itune trailer fav ac monkey blk slip harry specif rockin iuam calm tough truth karymsky co skin weed len cum garden afterlife lulgzimbestpict frontline hd sarah letter bell leg therapy el method 02 powerful duck flooding paint tax 6aug continue concert john nasty shadow sir dvd horror muscle cope dare 26 tech paper graze strange affect chair earring chain lauren return buckle torch 500 meeting bluetooth spring combine yay cock sprinter beam exp machine youuave hole sample regular bff magnum plate climb porn letuas headphone legal schedule roof spark james quality george island remind km bat card japanese solution pattern library preview bill bleeding cuff uribe reap rich dick gate faith slide cunt falcon elephant 19 restrict jump trail lay compliant uniform broke golf race deserve decision diamond seven dirt fifth prophetmuhammad 16 rapper mittu extremely bathroom israel turkish staff activity caitlin cousin nicki supervisor address rare chase magic editor raze dependency romance y reject example sadly energy later confirm worker swear madinah facility diamondkesawn relax esh h equal recovery marvel moth speaker actual lez battery choke writer bargain beyonce eden preparedness 2030 freedom bu apc restore client jr tent photoshop stat audience hashtag 21 postscript million charlie bedroom tom chicago treat active maintenance soup mister hang drill rest parole christ capture inner lonely lunch coastal success plane cam purchase occasion cup la combat cupcake puppy silence response irandeal boss mtvhottest drum president file economic ramag robot floyds present awful discover cancer jonathan flip internal alcohol todd opus vacant figure realdonaldtrump po positive centipede gov protest clev org lgbt fort section recent constantly earn user groom responsible regret milk minaj betray bay potential toronto 360 titan julie forgive exit wwi gel hardline recall ad artistsunite civil square 911 dope sanction 2009 abomination wide lifetime trubgme uithe ak dem exploration lego justin camera ui cigarette driving darkness snapchat kenya pair os burst justu val showcase hughes profile fox senior benefit outta tension apartment uextremely cord hahaha 0day website positioning pace jail removal slayer 101 vocal current 23 niece prod anger define flash pantherattack gameplay solar casual retail wnd inning metrofmtalk investigation infinity negative 18w wood jupiter times pakistan 2pcs slanglucci alright abortion fresh predict victim integrity med palm twia luke devastated specimen lift mic soldier swing apart rank bts saddlebrooke nap christie habit dq partner poverty navbl kind sws spain rid bury trend sideline surprised india progress wee republic sexual 34 sin matt error locke 109 shitty fettilootch bundle source criminal shout contemplate bank jazz promote leadership ocean hatcap americans dj governor ii drinking pdp squeeze youth instruction 05 warm sx hide gas recognize frozen rape west 70 overload pipe 5th correction contribute holland july blunt wrapup nw famous washington 2yous guilty wolf au dept finance average uh contrast brand hunter warcraft gt bottle christcnnislamtruthgodisisterrorismquranlie prefer fund boyfriend arizona speak 1620 1200 wire forbes contact mental server voter massive parking temporary300 flower screw devalue pepper apollobrown blowmandyup kerricktrial pregnant fam engulfed yell iphone visit trent tide jeff electric legit repair 39 worstsummerjob poster tmp excuse 06 fitness boot realmandyrain chew demonstratio congress female ferguson dual tcot mercy winter newlywed wounded table shop advertise inst planet shed defend ride fuckin spinningbot sw degree dannyonpc bluejay metric note announcement apch 41 royal doctor roller meal crown tea physical youngheroesid marketing sweat certain purple oppression australian robert ridiculous subject arrest skirt smooth cyclist listenbuy cell boxer 25 email stylish orange nba thin supernatural shock vegas inevitable permanent demon beer breathe beware youu volga uncle en sa arsenal noise rwy turbine profit everyday activate cap victory master bath eu nickcannon nm hearing gift nude movement locker morgan bypass peaceful fate epilepsy joel listenlive crystal pun festival diss associate unhappiness cnbc chevy denmark pet silvergray vid oper egg asleep senate exploit score friendship nation pitch offensiveua chicken sp rd annual canada pbban sixth draco logo jimmyfallon un stamp mirage meat anybody church chocolate itunesmusic connectorconnecto mcilroy bash pro detain tinyjecht highly hailstorm feast fair sexy deck favor sunset potu candy secure mens rose ill anxiety flattened personal writing rap beginning evidence bio healthcare definitely headset anna democracy tie slam western salem boom idol upper otrametlife britain motor goodbye trial peep kingdom cheat kalle shell especially dear inj ultimate throwingknife lung custom savebee workplace ireland classic roll c complaint eh mattson theory shirt minority thriller impress africa homie 0 bird mkx wildfire cart needle 2005 item left nike armory embroider jake vi enable farm english rocket certainly xp gadget brady russia gear cast warship emotionally assistance fade bore gamergate claytonbryant path senator celebration joke allah ego op pill soccer keyboard worldnetdaily babe gym honey accidentally foul hill excellent wwii alex generally lover workout tube steam quickly brian folk rexyy hype surface value taxiway stomach notification tb interest jones uber wit password vampiro clear ensure truthnewsbefore plus burning bluedio significant j excited bare putin restaurant ink role code favourite variety marry fevwarrior gtii sa15 cowboys immediately log hermancranston whatsmentione 140 hunger genuine propertycasualty rev transit postbattle behalf fortune ford iconic condo priceless 300 ohio lionel landscape buff spell apple uistretcher metro newbie rb nhl permanently contract relive upload theological spears butt symphony cld listing oks overwork vacation crowd making musik sirens bieber political zabadani ontario flaming midnight pierce labour l chest accept infectious micom worldwide donat sail ash random conservative betz fbi nations scorpion alois eric separate exciting concept andy charger incredible embrace tan playstation cd pizza enu 125 lyric loop wannabe kodiak k stroke heights britney study copy quarrel ahh juice frank junk hybrid diablo grandeur cameron consequence perfectly elite wattpad thur rider stout como beginner rudd 75 brave jacket bancodeserie billionaire avert perform sort panicking daniel unavoidable idps marine exploded rmg attraction col backyard engvaus juliedicaro homeless advanced solve cure fifa16 disgusting goku brock term voodoo casper thisizbwright sided nut typos hahahaha mat traditional weyrey wen dinner favs teslas data obsess heavy greek jonvoyage wftv bistro chonce toe nan stun bot cherry doublecup certificate pour exchange non opposition bwp 2010 crew witch tow taylor accionempresa mike balance sn stab 103 fabric vault pluto awkward grande freestyle 1716 prepper grand politic zarry summon breed nostril marshall 37 rant whatsapp noncompliant barackobama hacker childhood gorgeous preservation prepared standwithpp barn background transform versethe annoying waterway mt delo hall regional stark oklahoma mufc expensive heartless brunette hmu ope ks wouldnuat danisnotonfire delete def scar salty debt zak stewart endures hillary cheryl ve biological marketer omega tribune regardless waist transformation premium rs euro rifle prince wouldelectrocute championship acoustic somalia farrakhan vibez prayer caesar elbow milwaukee potus batter linerless 35 session progressive wpri east 64 utterly hockey bother letsfootball 77 improvement collisionno guarantee rspca mullah expense loot fart hardy idiot factor ovofest lotz florida mountaineer offensiveaecontent mega portion anniversary preorder alternative otheru scratch attendance brit overtime safely comedy kitten forbid keratin physician hannemans meekmill pivot ashes dickhead 4500feet zip december jon wrist thirst batfanuk frequently utc20150805 fake strand surf wom pumpkin socialism testimony trigger minion bestseller ultimalucha swansea downstairs jim compete winner trancy httptu installation asian campus tj blake britishbakeoff forth olive onu 06jst etisalat ct yr canvas rotator plastic ig communication 2nd porridge jacksonville 3inspired difficulty socialmedia siding stretch grandpa illustration sputnik indian sf cbsbigbrother waterresistant julian 299 bunch everybody jdabe80 stu vest americas alloy bitcoin winston diageos tyler sarcasm sportwatch alot mum foru richard buffalo xb1 critical lifestyle repay mercury imperfect crime skyline ptsd maketh servant outdoor vida achimota knife jewelry justify feelin trunk scottwalker masse product basically strategy nugget element thisiswhywecanthavenicething sore pancake proper religion newsarama skip solicitor reopen wine greedy whip ton earththus slowly suit aspect vancouver jasmine maintain 43 wayne harmkid atomic throwback 4playthursdays seed simon gum conquest grain zipper screaming fennovoima prosyn memphis wicked cc ns reshape surah chat copycat tix director ensue rohnertparkdps await function montetjwitter11 photographer runner gravel palin humidity vision memorial kith rory si google rene object curiosity request belt birth rick september diaporama theadvocatemag organic introduce nikeplus hew privacy fe 31 jersey minor garbage mc giveaway suspense lrt nda gilbert23 screamqueen 3942 afghanistan dambisa tabu determine 0306 witness usual xv newberg springs te coral tracking soo revolution specially environment las barry lately buck asf mentally talent electrical shaw billboard shira cmon desk relationship daytoday dey cnn decent smell johnny ty proceed modernize stack mcdonald normal rtrrt coincide lith lawsuit wars abbott manage rotten duke brazilian penn fouseytube poorly wmv josh chan blind vegetarian dunbar growingupblack addition decku valley mistake aggressive traumatised empire nasasolarsystem alivesmatt presence flashback permit commence kindness grace gunsense cue racist unsafe bb4sp omar thy pasta clever dutch mutual piss solo cobra reading uia conclude asics edge fi announce emerge infosec individual harrybecareful actor jennifer squirrel katherines dogs oak stretcherbearer clad assembly mission responders thatuas honest salmon detail slave inc triumph gd sheeran allegation react coworker wa 66 dip console atmosphere specific tease layout loseit fee bigamist cinema amid priority 1880 gidi deny environmental indifference dystopian unit estate charles avenue zimbabwe 1061thetwister legion caution gunshot exist violence accustomed germany brooke william apocalyptic forsure niall lolol blowout inspection realization thebeginning cartoon bean theme delay 72w insane rice advice superhero barely outfit blizzheroe acdelco ed spin difference locate reckless rockbottomradfm monitor principle pony curse convince jordan weallheartonedirection stressful adam pleasure melt hearthstone thanku moyo poem leo retweete sony andrew s2 foster diamorfiend mlb starter produce oral fatburne achieve autumn shaker multiple cecilthelion rapidly monster marquei viralspell urs willing chart tumblr factory wo scifi training ooh earning popularmmos gerenciatodos floyd rescuer nigerian tape expand magner dress shantae domain hahahah tlc innocent regard italian 2008 architect meinlcymbal denver christians tale samel refer justice scientist wealth godslove manutd technica housing supreme candle 360wisenews roger 87 fold lane prone healthy ryan acquisition opinion sudden anyways midget whomever correct bass reid fist starve require shania snack encore dopey lemon media sue noah label angeles instant edit inch decrease nylon remorse cfc hardly lmfao techesback butterfinger que utv novoa fella rayner shanghai sible bluejays creativity magister stadium belief jason blueprint excitement fireman stan crusty mosquito johnson milkshake wce houston skanndtyagi vgbootcamp suh divide drag medicine split chip potentially cargo mp thegame bumper motorcraft clearly navigate rub saku document relief weak ruebs impressive alexis gopdebate ergo cricket hoe raynor 1980 askcharley bastard carlos gf 27w realtime lance teamhendrick scotland volcanoaeinaerussia license crater 5sosfam boundary happiness 09 trade davidvonderhaar seduction mo haley fallacy zero fashionable innovation arsonistmusic latin tgirl taco sustainable 400 tomato sou fir 1998 attic hiphop guest outlet jose explore corner spirits fairfax popular fnaf redesign anellatulip nosurrender spy iu sniff hardcore invest van pave jacque procedure michele squad 29 islamic prompt ability logic atl height nostalgia blonde lizard softenza coaster vibrate hah lovedup pertain snipe trick fur sinking cave wwe opposite elsa sixpence vip recently condition christmas cash mb 3x mcmahon camping thuggin pitcher shelli identitytheft xoxo 0700 affiliate network timeline virus videoveranomtv whistle 45 ev ars specialize undercover bangin stagetwo proof silent youuall envw98 newu steak starbuck metlife setlist rome oneself battleship afc dedicate closing invite budget direct leisure running private mafia psychiatric droid yea trfc vabengal heel 233liveonline fairy lol basis unfortunately blanket equally statement despite basement jj southeast thinking coil visto gateau theatre museum diff redeemeth extension laundry chem survey heavenly breakfast 3rd mate onlinecommunitie itunes monday laois kindly glorious proxy cole marlon independent suv whale annoy forex circle brick disappearance hike priest range revolt solid liable geometric nema comments artist phil amirite thief robinson spencer ww2 satan locomotive openly luka scoopit strip sequel politifiact advance insult income sorrow existence exited subway motivation mock ik jays youuare controller brut nickcocofree handle coat reward salvis oliver weakness patriot ronnie derivative extra durant upwards 2k15 wi luchaunderground previous slate outlook plenty sweater bubble healing devil recreate available tournament alexbelloli bully truelove digital ironically aniston cameo santa marquis develop witho deluged q joint utter humaza throne software pllolz unique gtfo outbid medical typical concrete vivian division sized ipad authentic sham ouvindo boi bright mi earbud scale lnp butthe tc possibly circus jhaustin pcps pant astrology sunny yahoo 57 roh3 ushanka afraid concerned imdb material scuf ps4 xavier megynkelly bread fighter dmpl expose se ohshit rediscover fool jones94kyle sight calum5sos 540 thigh swimming obliterated strain cod phew zss retro modi vince prove tend humanity uaedemolition anchor snuff los catfish plot punish predator rey bicycle necessary bike committee zaynmalik emperor slicker photography witter iuad soviet australiauas performance automation fieg castle shark customer wealthy diverse personally suspect field floridau drama gig deadly christian recover 48 lindsay 32 quartz playing adventure schwarber gettin nightmare shooting mccormick wonderousallure closed resistant nflexpertpicks maxsys baan paris hunchback tuning usar15 okgabby changepilipina toocodtodd ushiocomic ebrointheam shaolin chuck camden runkeeper buffetts madeif studebaker blakeschmidt italy thebargain vermilion bigperm28 alaska vj44 girldid duststormfilm lamb negotiation selection entitlement threatintel annd cncpt extent kung govwalker tory ap buildingsyou platt taaylordarr 5s premise leos despair thoutaylorbrown deceased piano jews disdain mickinyman gauze sismo rosenberg anarchic jamessnyder22 15th safaris mfrwauthor d33munni eco11c maddie brandonskeie resque bud otherwisethey mgm manually staffu directly choosegod mar shitton fallontonight allyinwondrland farther ombudsmanship stuck hikagezero stlnd factsheet comparison nomorehandout lilithsaintcrow guardrail punishable 740 esp cardboard yyeso dfir scott realhotcullen disruptive titanic argsuppose spice wildwestsixgun freddie greetingcardsu dontexpectnothe uit drob frickin sodamntrue billharris nepd lionx3 5sos ronaldo roomr tarmineta3 masterchef munch staining notion mall nosport offend haircut dam ignorant dangdaddy biggangvh1 vietnamese clay ciggs apocalypsetunein dmac1043 unu atv forgottenaesop nook thrust greasy georgous celebrety morehouse64 devia amazingness mississauga stclair alexeivolkov1 hurl outage rowyso sel bayelsaaestate bblogger lovemydentist cannabis telltale privilege indie realistic plumbing planing foxy llama pandemoniumiso fwd johngreen shopcollision rigour millennium loyalty implicit minimal tattoo 213924 winik reality mistreat uruan messi exclamation beige slept taint terrifying comp quora normally zarharzar beetroot ds happe eighth acmilan 4422 sm jagexhelpdibi lemme rescuers thriving bookmobile interrupt teafrystlik disappear hcg unto favorita melrises wondertcc ps2 gritty cocker smokey wut excellence dock 1986 flamethrower redemption homicide indianapolis time20150806 twilight wereonadesolateplanet jdavis vuln bummer sicily glitch cityofhummus papiichampoo literarycake eyecenter radneck nailreal jumper mlstransfers yuan bible parentsacrossam slipper yankees shoppe 2012 injurylamha nevaehburton33 microwave audacityjamesta coffin johnjcampbell takecare agent 184 madmakny borderlands2 jaureguiswisdom lad peoples lukebox ryleedowns02 elaboration geoffrickly margaret ritual fatalityuudlk andu catsofinstagram stacedemon screech devereaux thewebbeffect19 lifelong aaronthefm offsite hogging coulda delicious competence infomercial appease simulation troye garbanzobean23 darryl noodle decisionsunless flow postal drumpf cabin referencereference rumble woundedpigeon zenit bardissimo lee a6bn tloz 40mln opiniontelangana conflict auspol uiymcglaun mm henry pickup troubleniallhariss follownflnews canonbringit azimel contemporary dogger x1441 dedication pharma 9798 gangstermail optimistic homepage c7 sideon lizhphoto reputation marketforceua fatalitiesxray breneman gunner nbc15 praise http pci manual struggle longbreastyat muaytai chrisman528 killedinjure byr roh3smantibatam gander ausinstarchitect cookie nissan molten hooligans psalm coco crippling respondent lisp groupon obligatory aberdeenfanpage acaciapenn nafeezahme necros lumixusa reddevil4life watchout victorious melissaross9847 walter amazin censorship win10 matthew riser queer copa currency exofficio reportedly welle meelte petebest surfspa descendant observer puddle consistent indiayor portable ender partys aliveafter5 payment 710 anonchimp gigant lwilliams onshit 547 1921 oth dieanpink95 hillarymass bbshelli enews catlow instagramers accidentalprophecy brass matthews momentdiarrhea collideworship bluewestlo descriptive bairstow silent0siris synapsenkotze publishing acesse matching albertson liferebooting loudim katiekatcub regime 481 brief sidelinesavage vladimir typography hempoil pointless madisonpa counterstrike belair zachzaidman setanta whine stump texansdc blower zimmerman sidelines weirdo douchebag romanticsuspense idm broken wasnuat hairbut virgil stonebrewingco na llegaste demolishdeep camilacabello97 loco shay mainly malleli pacic gallup b4federal deem gabon banquet obtae thedailyshow torrecilla platinum lu horizon troisriviere hellotybeeren epl toddstarne fury 8415 drvox justicemalala missdaoh bringing polaroid christycroley littlebitofbass kaylak369 codythompson25 gets tou eeasterling tru jt plug scrambledeggs wayward droppd jet eyeball bin nick groaning lenore veg baking ryrotheunaware lifeline kelby drjustinmazur twoptwip hopfer nicolaclements4 leandotorg niagara teach 536 alien sirensicebreaker buying hunterlove1995 cyber lamarcus edsheeran wifi jfc jagexsupport foreverstay millionsapunkhang deb117 coercion prison dustpiggie mechanic enterprise avenueblack boulevard bishopfred smoak bd trophy gigawatt phillipten usat charlotte sweet2young eur mizzou wheelsio topdown 350 mcfen goshen terrific officialrealrap purify ddnewslive nickscomics thedailybeast fence oregon myfitnesspal destinationimpact scotto519 earl djknyce argh fighterbut ali 1984style genocide rachelrofe vol ish teena jesse proposal sock dogyeah girlcheckdream rebahe hoax womengirls 1211 aldridge b24fowler hazarddi comfortable rottentomatoe gecko a150 healthweekly1 candidate deflategate xfile fkhanage xekstrin badly fondness chucker thda mbiwa deed welshninja87 practicenyg withnuke gooneratheist abran planned mane brownie raider qty hazardu cooperstown lakeisabella bomairinge kijima animatronic unexplainable anchorage wdyouth cannon hay jean bannister b5 wbu hangout teenfiction ffvii damaged safeco summerslam unite 21a amznfavorite forr lobby doguas halsey att uinobody raineishida theburnageblue tlk sprinkler thai thejonesesvoice hsu foxnewsinsider ootd nhlducks foodstand breathing bkn025 bromleythe adorable lmaovv comcastcare molecularly novalismi smfh 46lv8 itzsteven 97 nprfreshair chachi jared hamper hazelannmac breakingnews lexi shawie17shawie nd caruana charlieputh bbc5live baraa1 retweetfollowbackgain 2a sputtering etcpb glosblue66 waterproof periodggindependencmessage wolve pitchers required huffpostcomedy ffa sorrowful familiar montreal paed lubrication consultative beisbol acarewornheart stretcherbefore qnh rconspiracy suite outkill bunt downgrade parade wniagospel 4head tokyo shakeology runabout boxset marketforce 541 uipartie teapot gaia mask themaine snuck dupree paranoico pusy medic914 silverstar58200 kororinpa conspiracy cage fujiwara jinx kerry dix lefty reversal cau vitalvegas bhp sonofliberty357 bcfcticketlady molina036 ethical arena mattress closet lpdkl broadcast portland summertime esquireattire ho strickskin mumbling bullpen as104 dominant roguewatson waiver bruv penetratedue aa liam thranduil effective joseph lovelylikelaura osteen certainty fu constitutional betweensong compassion murlo edwin afflecki lbr dungeon chirockefellerunivheiress resigninshame transgress tornadogiveaway clothing violate nonexistant 528 southdowns dearspaul gummy wzbt iranian radical cycling dwight testy chandler uicat android heredeluge thankyou clnv daviskawalya auntiedote comin heartbeat wew sensorknock payne rogers barfield looney departmentsrandpaul shar cinla1964 sportsroadhouse savior metaphorically juliet zaire2005 arreat suicidebombe somethinua amazondeal resoluteshield sunbathe hairdryer rrusa toss hirsch argument staubs jamaicans zepp1978 vampires freesikhpoliticalprisnor satellite thelegendblue gordon ight carneross gyrsi commencement samaritans ee bookboost kushwush bv alhaji himeruisu vuzuhustle meditation influence ebola woe sensei 2134678 stankyboy88 del hector bathroomit floridas mba tsipra decoration langley infoorder autumnwintermenswear lume quarter ykelquiban headquarters nitishkumar pyou pft roblox jinu hav taxstone bloodua herrelax mint vodka zach animation everytime trooper isi johns liveonstreamate rs5 vassalboro calculate tneazzy durham ngata imsushickoflove wsvr1686b dvds freshman shifter truestory rubybot truly hdumpty39 glory annmarieronan tookem fgcu brisbane bouta handside ronda quadrillion zoom incase cheetosarabia karma berlatsky ninja tos fotofill sizygwwf someday rizzo manuas wha j2bone fangirling quiet fab 1061 saltriverwildhorse devon hint perpetrator avenuestreet blizzardcs hexagon seemly reddish fosterfloyd cummerbund dorrie tower initiative reddakushgodd darkndtatte sevenfold hearitfrompa dumb zumiez producthunt multiracial jamaica meowing 810 patronultimalucha lalaloopsy shuffle p45perez deadpool dumbfound funkylilshack carl claiborne fantasticfourfant4sticwhatever ministry questergirl organ arcade globalwarme knockout graywarden furiosoxv fraction 8437150124 vickybrush factchecking hush impressions omg waow metroid freiza looser rating masochisticmage atlas dictator busy yogurt kfc context annealiz1 maximum rotation naked foreskin sickua cbs3 loner acc ab ruor mud booty welli awesomesauce uiafter marilyn 5hvzlaradio tire gap warmbodies clash bk savannahross ppfa ataecinema hermitage uncover agochicago lower beckarnley thebriankrause halfnake delphi yuvi furtrix yukis honeybunzgem uncontrollable thejenmorillo sideu buu younoone andygilder olympic foxsportscom snowy reboot arabic delusion heated summervibes dubai defendant subatomic rvacchianonydn notorious ofchildren strongminde annajhm aquarius muse midsummer daysweek 20150814 seanhannity armys kamkasteiiano mash sportinggood elvis 107 x1411 midweek nuys officialtjonez gideonstrumpet rubbery sbnation shield insomniacs wd sbee jacinta dtb karnythia repatriate southu celticindeed confuse bangalore eyewitnessu crisis hoop diesis ullman leprosy kathrynschulz cbc dougkessler zonesthank thetwisterokc anytime publicityalthough chrysler destine infectionsdeath push fortunately badotweet marrie thereal bluntedjayt gayler1969 butterlondon nathans raidersreporter happenedashley shouout pouch chaosmagician97 112 elgeotaofeeq libs unfollow noel kyrikoni merge tanehisicoate baseball41 lonepine nutsandboltssp ssb4 sponsor dwarfonjetpack bumpin omfg jamie facelittle alabama dorman ancop isisi marketingaemediocrity noonancindynoonanheartbreak marijuanau consciousness overlook renew evacuationa shite tkyonly1fmk captivity discussion 7a730p portaloos igerua chubychux ptsdchat sincerelyevelnn abstract wod domestic lulu crimsonfuckingv hayden sacking antiterrorism kijangbank bloodu whedonesque cte boltaecyclone transporta connormidd leftwich emts expressioncheek youngsafe 925 avengers nojoke dopeitsval usg whitewalker resemblance unpacked connorfranta learni doc lucymayofficial saturation vulnerability winger googlemaps peta ant kellys eisenhower gut courtlizcamp wildhorse 202 invokce 005225 1d uifor churchill thatswhatfriendsarefor depressing jariana twitt mhtw4fnetwatch finale cosima civilian sketchbook jota kennethbauer friggin ashe ostentatious 3934 spam staged whatcanthedo melanie bonhomme37 brainless 601 cipinang kinggerudo venture chiang bagscutekitten mayor orders exacerbate becyme dorrian 08072015 tanslash meerkat luhan g7 merc rockstar captive rodarmer21 nolesfan05 pieceofme yh basedlarock entretenimento playingnow deactivate huebels jax standup ddnt michael5so mutek amiibos abcnews24 chowchilla shoutout fearon imprison kia slow residualincome spit mei nail rslm72254 renovation igs guk appleofficlal lemonade syndrome iron homealone2 potter magnums iinet buchana ganseyman mta ended java crace freefromwolve moderately hesse cosmetic diarrhea trading hicksville engineering firework pir award personalinjury distribute lh mineral byebyesoundcloud absolute eshop finna bracket 630 flush graph locksmithingart assault companionship productive stuffin cosmeu iartg balding frontin counter instinct favorable pronounce amazed dubloadz opinionate acura bigbrother plantation monologue constellation recoil rwrabbit unfilled bagsua poze indiepopmom wholesaleent workspace ronin proc mortar fullscreen ks100 silverman gray autoame vma pjcoyle grave vanuatu semi cossack livin coop precisionistic 20150805 ell disturbance laevantine dragonvale chann powder interlaken withfrie paypile karyn windwakerstyle shipwreckmargarita bracelet 600 frothy mylifestory alarmingly ks1 sprain wooden lashing void brookesddl uii produc lotg elderly oop interrogation liguistic etoffe muster tomislav ik4len wwa fergusonuas agony takeaway fishme rush papcrdoll chronicillness kuualohax magical sct014 french tuesday harvesting totalitarianism periwinkle sef c130 mohammed acousticmaloley nawh empirikgame casey hailthe wakeupflorida torro athletic animaladvocate petersen celebrity mantra cwheate sandwich eovm temple antony seashore sequalae offensiveu pfft robsimss abc7eyewitness wholeteam3 nout 84 ouch mtvhott m4 fleek conklin dangle kiddie 295ss100 troyslaby22 bridgework 1008plau gemstone apparent x1386 clown freegeezy17 ye abandonedpics cleav phiddleface mormon mirkwood jiahahahha stevenrulle orpol xvii sholt87 hoc nikki dannyjohnjule expirehc jedi shii cracker uselessthe filipino isaiah texte entrepreneur tyleroakley 96 3x5 decay sara francisunderwood ks315 xmas tvshowtime rabidmonkeys1 measuresarrestpastornganga incompetent deconstruct sandbox approve juic1 creeper kessily mannequin wristband blossominglilac pan rousey conclusion multidimensi jerusalem preferable qualit rail sunk 3dc abovewould dauntedpsyche shtf biker brahman borgeous southkorea eytay salisbury jakeae top25 453 dragneel edison beautifully nykaed scarlet bowknot electro disclaimer accidently gang cod8sandscrims reqd reset groin therealrittz remixe cern farmr jaxmk2 bbakeb rantipozi cascade treeporn 2019 dessicate shirley peaceua thetimepast 045 prevention rhee1975 maciauas employ 12v attach slsandpet dupe dangerousbean tonymcguinness blackwhite bayonet kinguas oversee truthsof unnecessary denier entertaineru supremo mcclain lhh intention bbm mre libertygeek83 christinalavv acidsua driller vast wrinkle mrtophypup pharrell 9058778591 lowkey talkin expertwhiner teddy willhillbet danny surgical natsu ditto kindof 201707d moseby reviews camilla worseit chiefs jusstdoitgirl mindblowe wasilla kitchen serbian exo kidicalmassdc belly demeanor waveua kneel nowt ladyfleur utica helpme sux dayand khrone vanderbilt mourn ovo liberal defendthe yourboy txlege faroeisland yeshayad srajapakse scissor 106 mycareer thorgan kook partnership magnitude westuas kosciusko adrian shiver lloyds mateo oamsgajagahahah alaskaseafood lzkely specialist schismua farmer carnegie kadiegrr rhiannon pierc chinadotcom patio aiclimate pxnatosil minus rondarousey laylovetournay presley weigh kmactwn hamptonroadsforme monthly saturn nosso liesexplode youshantaeforsmash landolina predynastic indy fartanxiety salvador reafs robertmeyer9 halifax commitment mccauleysdesign iwasdisappointedby wimbledon lynchonsport situ jamesmelville vent geyser lenn gravitychat souls petel otp natwest resource nytime yu spicybreads nsf bonn1egreer sapphirescallop rowaa safyuan weiqin bangtan wbcshirl2 passive unimpressed 1preview kelworldpeace apr speed healingrevive 7475 m416 worthless 401ks mmda heartwarming salopek foamcc vocalist shestooyoung invent montanauas libraryeliza machismo exassembly dajaal freespeech uncertaintyeconomic westmarch lana sparx dqsvyusy harrisgle trespass pee 2pack preppertalk animals elven livestreame mishacollin iamrrsb daubt weuave leone mistress nne somethingfatal sputnikint wy catastrophicfallenangel deglin fiddle defeater costly coleslaw heavydirtysoul clinical mageavexis minutia jamiegriff97 corycove atgrannyshouse blacklivesmatter aubilenon frp janice postcapitalism lauradeholanda bias heartlandharper creeping klitschko dull saudie drone collaborate creationmin ballews trophyhunt scourge belie puppyshogun bbcintroduce april pampered kay saddledome uriminzok foragesecret ma3route memebaiting spaniel impulsive astrologian sam stans species slight mariahcarey stirring pleasant crunchy knight logistic baileysmsteach bodybagge phandom butiqob strut bah coal aphyr soapscoop 3p diaspora slumber uisippinua historicchurch piling smoky dx akx trinna 56 fascinating favori kristenkoin6 youdo reagans goz rhett djeddygnj oddball fulla meansit promo amcx bulak lamha austinpearcy22 ghostwriter 211023 6canberra evildead cameronhigdon34 driverreplace frontpage fm sriramk treyarch phantasmal mandela itscream exhibitor oup soni liveaction sep readiness inferno bentley goodnight brazil seanpeconi rhyme slowpoke champagne frvrgrateful tareksocal ng2x5 overwhelming greystone pattonoswalt mou bull withe qave ferrell shunichiro hogan spaceangelseven lesleychappelle pissed jorge radychildrens prolong cameroon weddinghour shovel fatalities cheetos 18franklin pin263789f4 malabamiandson kaylee tod nowlove regress mudslidemary imposition throat galifianaki gis biblestudy infinitegrace7 theboyofmask simulate alaskas showdown dren represent 315 rejoice didbut wisdomwe alert kneelbot sarahmcpants horowitz gog letua ahu zachlowe mariiee plead protection souda fried lungcancer opera windy keampurley skippy6gaming commoditiesaeare footed scofield entertain span holdin louderthing lasvegaslocally golfball zayn brzjc alanhahn wholesale askconnor volfan326 unotheru quottelevision pieceu gen laudner strategyhua liver snazzychipz amreade chambered gameofkittens nothingness celtic convene bytorrecilla lzktjnox curl boylesport fpoj gobsmackeddevastated dramatic misstep mischief 175225 cardpanickind connect mink djiglobal isnuat osage deejayempiresound dw 670thescore stranger bachmann swag briefcase avi keith44 engineer besttalkradio satoshis bidsu jeannamibian butch jhmnye lyf introdesolation install soudelor appropriate shapeand jihad vegan gore sensitive mulberry empower rally monwabisi lightening premier khqa aace stall hazardsdisaster scwx home2 incite wiggin claw neck parliamentary independence joegoodmanjr lest ashberxo agw curfewand antiblight queenwendy naemolgo postapocalypticflimflam reunite antiochus urself vhull smusx16475 gin 6c rotary bloorossington allegiance titolo finite kidsmegan zacb 17beyonce bonnieg434 summerhallery ppact economywe bellsmy kou wifekid rsx mentionty pt1 slice calamity silverhusky giselle hillaryclinton illuminate bloopandablast paranormal vibe santanicopandemonium usfs jeep drift gmail construct utp tammy rihanna dijk debbie radler dak any1 obstacle bethanymota dublin routine sinis ilnewsflash taykreidler fuckboy yahistorical im2ad exclusive thatde attackonstile cubstalk vichardy narrate oppress jackman divestiture richhomeydon a1 chromsuck judson1360 10k hasbro drones photogenic vegetable hatman dccomics strictly ohhsehun important valdes1978 lauren83199 clerical dotish lynch aircraft destination crusade defence monarchy doretts bookofdaniel keits transgenerational marek slower writes4coffee jrlallo master0fsloths richelieusaintlaurent parsholic legwalked appetite m151a1 wwexdream burp kinetic fiendnikki cuyahoga chojo shocking xl6162 ohmyloz compensate banksy hhello seeyouatamicos jetixrestored ahahahga paydayprison der eventually menpopular fpine attjcdemos uhm tenno awake austrian relation lifewealth roadid burberryant dislike toxicsavior accompany rrbc anime tonne teaching hronlinetweet civilization mthe pride pathfinder neil serephina lima 034 kirstiealley judith oliviaann skyrim gregory savs protein brooks remaster endlessly apology worst brewing iflcanada lifeguard q1 tidal treatman zel shen redland phdsquares uavalancheua workpornmilf mgs2 lender cle charon cooperation dumle meson homukami zodiac hughes1128 teu skys akwa oops benjamin wonderfully ipu got mindless extract lopez humanitybajrangi nightmarish iraqis snell juicy sunshinei collateral haram atcha summerinsweden jak touchdown coreyashe 8550013 yup faction hond stalag dredougie breakdown snowflake topnews amo sirenspacing sinkingshipindy pastie peice tray unsure onaa 1710 gymtime summer2k15 sincerely cara hoodedu klavierstuk freeway kml noi argentaelite 247 toughen wishlist djoneplustwo carajdeievingnc unarmed chemically tracy sexist 1843 dunk fragile narry impressed blew science roanoke uem antioch greenwich withanother nashsnewvideo multi carinduced ventilate leashless ratingbut foreclose femnism amsort freed adavis pikachu poison jennas aom rightwaystan sour pilgrim molys refuse yahoocare georg atleast indiefilm discount narsua paxton huzzah worrying vir myrtlegroggins simmon 241 sophieingle01 eggs chillin happyhour durability censor kurt torrance innovative burford roanoketime assertative journalist courtof dvbb mineenjoybabe momdie tumbling bone theellenshow damnaarielle tfl sultry russaky89 ruling porcini payday joboozoso bc19 jaclynsonne thinkpink dadwho atlarnxx wyrmwood tps dummy brittany twx withron uiplans soz meaningless dannyraynard analog ram0s trace 2pmclose offspring poorfran lesson ssu awakening import uhoax lac aspire iraq falphil nottingham slideshare beyondgps exterminate rolandonabeats indecency fearanxietyproblem testicle argent isisu jyheffect implication kimkardashian 4103 heysundown kurtschlichter preaching pretense seehey blinker grudge rbi eaglesua zhejiang elgato allin heavyweight raft firearm pharaoh lesnarcena sms087809233445 yeaahh gasp joshua mesmerize blastedi lorry speedtech rosenthalauthor sweep qz seasonfrom sassy grass idp boyhaus gambia para gorpuazikinak tormented audit cliffhumble astroturfer swivel titortau fundamental imagini sequence 30lv6 gmcr 10x professional iwk inne ep18 farewell dianneg msnbc crqck filmmaker elliott 19yrs greatbritishbakeoff yuppie septic narcissism mariomaraczi gbay99 paulista dorismatsui pilot bakeofriend backty 201516 mayflower tangle rightsgenerally writebothfist catechize berahino instal negros airhead tint gasping tractor mallord uncertain whippenz benedict marek1330 mechamacgyver submit dratomic420 don rite esport terrify colin kasiakosek individl makinmemorie hardball remix2iclown sanchez slain cher slit qzloremft yumiko ianokavo96 stacy spill chrissie pit passenger appointment oneman reizei sexuality 5sosfamupdater hamstre core 7speed saysee jessienojoke destinythegame saumur positivity joshacagan ration 2his orianna 20homer mopfrom usgs casino hebron majorshe 1008planetu billion birb davidduchovny srs nexus doessnt uncomfortable possiblealsowatche linden deeply resilience albertan ocd cbcto saw babybackreeve plannedparenthood sand apperception enablement realestate burner reveillertm albany carb recap kuznetsova cumshot pledge 18jst 9tarbox samsung skyaenews atljw autoinsurance shooter trickshot nwo asset sentient duckvillelol magichairbump mrsbinker retiree tms7 attain fairx818x retweetirishirrmchapmanwsaz chris watchin cmcsa longfoxy yiraneuni lattice kenneth okgooner ou echo remix ndzedze ctr dame nogo na1436 ovary swallow gag spongea berlin bonus diagnosis dagensu 4kus tyrone pale powerwow dl 22beyonce 6beyonce intead donzilla metre sketch gently inmate thewesterngaz exquisite dealer justinejay nsit fadc clipuri morty november 9800 yellow rescuersthe 78 updatefollowicc cryibg arian basildudin saferae goner daretotaha ciaramckendry theresmorewherethatcamefrom ufacelessua dravet withdraw pasture adanne xeni underwritersenior crave drayesha4 er zippoline allthekidneybeansandsorbet4misha drdrewhln lighting 12u midst deadgirltalke daem capoeira itinerary nato mutant natalie surety alton imouto neanea2724 oven cooler reviewer taki mello yellowsread squadprofile fanbase serpa ferno rope ashes2015 surely thread crazyideascollege fighterdena tomdean86 eliminate mmk hitandrun rabbit friendsabout mayweather basket planning brightly goonc1ty heavybag201 courage sever dune glacier cw gross mcconnell underway gh barking approval xojademarie124 grummz followme weighs daughterofnai estimate cumberbatch tfb whistleblower 290 vu flour format werenuat watersafety pope nave controlpseudojuuzo drmartyfox skylander hometownglory alivebut joeybats19 gishwhe ethereal blightthat saver wedneday 760 downtime itsdanie zamtriossu noches titty sarumi 0605 ralph ohgod assassinkpg understandable psfda knob thingsihate namjoon aminespn australias actavis mockingpanem butcher moist ultra govegan trynna morel youand allday avys headline metallica coiffed waymaybe calhoun trp pound silvery miseryam angusmacneilsnp lous sniping hazardwillian temperature ariu ginga tawfmcaw rsf boycottbear hapa electronicmusic twentysix xl awadgolf worldnetdailyhomosexuality explosionbegforcum exam kwadead mochichi vod yeswhy ahamedis swanger standardised hysteria length painful teamstream scam flex jackperu1 buffering colorism holtz mooniighthunty cutter audi bkn032 86 campfire dtop77 portrait duchovbutt hotspot inspire militarydotcom screening orpik biterelate jasminehuerta24 beforeitsnews upheavalentershikari meltdownwhat firepower hamburg uinewsu oneu chane selfdelusion everyoneoh x37bs buddha dilutional wccorosen kamon careerism fantosex fond 14hours attend amazonuas josie hundredodd 2k13 picthis orbette agdq otratmetlife fittscott thedarktower magazine holmgren murderersnot puny stuckinbook fundwhen vicker hunk newbeginningsanimalrescue malaysia wisdc aris rv waltdisney pixelsmovie totalitarian themale 1232 furious 6th libertybell10 aptly offside androidgame cutlery publication tn competitor faster widespread pop2015 sammy queenae situation billiton southridgelife benignovito brig uslike playthrough deo aredeluge motivate select vivaargentina tprimo24 keeper dinallyhot chipper greinke x2 yessum beneath jmcwrite ika dierks unfair preset moblin politicu chriscesq tomorrowaugust vestment cartoonylikewhoa cocoa jp masonite zombiefunrun2014 sensanders cacheadvance kwkwk pretend leonalewis infinite 1pack allinwithchris chrisdyson16 wm athlete ihave44episodesofgg undergroundbestseller disillusioned missile randomthought persistent trombonetristan cech tarzana remainontop t10s onfireander questionfatalityflawless cocktail jaydennotjared ems1 90225 ortiz baseballquotes1 motogp bradley harden bn ricket syringetoanger becarefulharry theeconomist wknd withtwitter sweeping bdisguste natalia sumn legna989 optimization spurgeon nita99 sip youp bilingual lyrium sni danryckert wander goodlookrunning shanghaiuas updates opener batting swell creation carlachamorros 4tp su slikrickdarula narrator underwriter interestingwhy hendy 797 rat reppe savedenaliwolve collin mount raptorsbeg ctaztrophe31 sirmixalot sewer chord 234021 durban sfgiant rpn reuters endless brooksie drinku hailstormwindstorm chick dapurplesharpie industrial longterm keegan grove andre winechat sanelesstheory men francisco estellasrevenge breast hannomottola theemobrago jagm venezuela romp newscomauhq perth experienceshake aesthetic canberras amsosorry bong 830pm convertible mwnhappy chernobyl akcsl sinistras device tremblayeh noob greenlacey oracle nataly craykain oureli elizabeth mexican compare shok storen bennycapricon costa mrrobinson consumerist beltmister probe tulowitzki journalism novel jar supportive mycan gargoyle brinx gard raisinfinger pl peek buddy unhappy hardcover jolly donation freshness telemarketing thatua cl willie nuke uabstephenlong jannet2208 washable ks57 ermac sharp avenueis jaileens flight flaw mwjcdk esteemed cydia ayekoradio mclaughlin presume alec explicitpretty stvmlly lyrical kennel admin pokemon 5so expander coming messiah preparedelectrocutedboile lobo autismawareness galaxy cite lds rskarim1 usecondua auth bagan viper reginald amplifier gypsy ignore menow nearlyfatal momneedscoffee preventative musicvideo akito selfseeking courtuas hopeinheart stylishly snowball stil danielsahyounie mouse viu drinker bulgarian ehutch sept montroseband jwalkerlyle cerography sarcasticdrop lax colleenmnelson typewriter c720 adida ribbon secondhand 120 dysfunctional skyler va overzero pdxabq dorle norge2040 jag leading orphanage wyattb23 twins emalay gtxrwm residential 2016 splattershot specialguest gary 319 cactusborderland bookanother striptease yeat martial rvaping101 nikostar ashghebranious lado asia mango pinto001 veil wheat creepy violation rossbarton flavorchargedtea playa dancer pink teamo complain demoness zicac buckley livescience belong vallerand expert breitbartnew gosh sms bolster fionagilbert superb enormous joeysterling emmachosenone sabcnewsroom klondike thereisonlysex objective jeromekem aemgnafricaa whelen unknown cogxbox m00nf00l asukager nigh whensoever prohibit djcoreygrand assassinsu idek lanford sippin mulan hendrick 199899 timkaine ofentse dixon offshore playoverwatch alifaditha detroitnew campbell champ nu icy star39 personnel marley lpunbiggiewrap aroundyoull remymarcel dumuzid pickle harshness dreams incapable umbrella unwarranted 530 tennis scandal deznvtz floodyou 10w eo jamilazzaini damsel unstoppable soonersportstv criscyborg cyclonesama reckon afterhour cindy mtvsummerstar santiago dwarve news3lv tennessee lenkaiswaifu saddle 10thcr academia busty 746 db5 itsu other1 unwanted rickybonessxm stl wynn3 horn bg16 toenail corruption ktfounder monty leh starr sofa hatzolah shortfall restrospect tounge 95 closeup superfood bump living rq beconfident minsuwoong fantasticfour prettyboyshyflizzy lifting thisu mlm kraft goddess cus joinvroom hazardus paine stavola ls dismiss nope locksmith pioneerpress tribez ipa upah spread tookitlikeaman integrate emini carlsbadbugkil1 phantom death2usa grape apiece corii earlyexit mebut megancoopy aar seismicsoftware viscous fx barthubbuch thee warning ache jobs 61fri tutor teathis clueless vegassolitude addtexastonext1dtour kevinbacon rossmartin7 redblood redbull cumshots aberdeenfc champaign vela affair kane philadelphia loyko 0206 goonda dom graduate redhead wantmyabsback drew pulse sandmay marr loveyou smp homeworldgym nittys cycle lively attractive dualcom coerce verde cityua windowsill piperwearsthepant casually sirtophamhat punk 8960 nade advantage lemairelee brixton lucypalladino wordk sow farie infantryman paperwork alonedo az caixxum5sos everest wantdcubecrafts iamtonyneal apropos starting popeye misfortunebut greg puncture handicap forrestmankin dmerida 716 indyfest freezerdummy skynews catalogue sterling helio saving xxhjesc winkie kidney renunciedilma hiring mybabie 5ua lateral designs hugomatz hereuas rockefeller leedstraif ohhmyjoshh banki sticker commission ronwyden reasonbut bullshit khadidon spouse girlsgirlsboy tdm engage cs6 28 uke 20150806 mutilate tonightuas squeaver faminemega dhalgren 723 missambear untill mayonnaise rindou newyorkcity adaptation pillory trollkrattos production kevin shantaeskyy 0913 hashtagteaclub swayoung01 oct336 beastin twosall gamescom flesh angelina romero nestleindia oz akgovbillwalker 85885473 unatasha misscharleywebb monstrosity radioriffrock roskomnadzor charminar givebackkalinwhiteaccount zmne weightless engle raccoon laden aand helicopter baduu subtlety branch chop demco hub segment dojo itu default pcaldicott7 raniakhalek spookyfob sterlingknight distress pu legend 50shadezofgrey esoteric lone keen chestertweetsuk festivalu fanarmyfaceoff web horrorsharperanetflixshow heartache femalegilgameshs daorcey realism stern 230 endjust angharadjames16 huffpostuk smallbiz toxic careerbest pd birmingham astro uilove nextu ticklemeshawn brbrs charlesdagnall mithitennis wackoe technew simplify plummeting atheistic cuddlesforjen college caitsrobert kaotix 1976 escort dserialpcilp bod philippine truckfireman myvintagesoul balanced dal europe driverlesscar relegation hungover deepak developer bye connector psychologist inspi taraswart mcr emhub forfeit slew unsigne conditionsfair microphone yum spartan guidofawkes resolve whimsy indigo6e lisatoddsutton avenueportland obsolete iilanjut trey teamhennessy modelbubbles decline fallingoffstool mere ubody macia resting mcguire bakeofriends time20150805 550 firetruck oem bchocolateb puff indepth eulogy station jessie facemarvins dynasty livestream floridians doubleghat vannuyscouncil graveyard tomclancy bellerin strongly wallu jlabuz uinstitute barra piping amicos pydisney proportion silinski sr wii girlthatsrio wrongperson buddys lifeaintfairkid tayiorrmade refugeesu muslimsterrorismor emiiliexirwin silverwood fitz br subscription aggression sticky boyd shtap dive bicentennial jeannathomas retool hs2 refund talkmc gunman anthology showwent moanabout harrow bangmy anew demonstration thecomedyquote intact manmade frobeu senschumer gamin interracial extensive uhc personalize hairy champion bitchl0vecannon politician 9503 cliptv lind administrative judas establishment suitable easter robotlvl songfor revolutionblight sayn liquidation moveit padded prosecute caitlyn99 adriennetomah ella wrongbut nelson tren capsize mainstage hospitality tae lumbar markkriegsman ariana entirely bestfriend scroll dantmatrafajlo teamsurvivor cheer articles dolphin colnharun classycolkett muschamps barbaric coefficient deliciousvomit africansinsf nagel vroman nikoniko12022 injuryi495 permission identical richardson wipe tomlinson pullu adorableaple frog robertoneill31 buffet modify overblown diesel envision cantmakeitup loser chuckswindoll daewony0406 kirkmin knowit bow empathy rec hgf52611 stealth vain emile 2fast2furious spectacular pattyds50 cardheaddesk meaganerd keithyyl paramedic flake january wise beef suregod reprocussion polar retainer convert 994 artectura homemade croze fez postpone ashes2ashes gfrost1985 cloydriver shipping kristyleemusic kellyannwx seattledot tight riverroaming platform 22days mystical stevie dough flurry association onthisday 36x36 postexistence longaberger jtw tantrum petitiontake waimea jasoncundy05 altamonte troop motordom trek 198 collie silentmind cabling behindashield cypress 915 guiltygearxxacp youngin unload pbx pin2327564d cantar beauty panel hood clubbanger snotgreen reed hw yhngsjlg teammate lgm freeview ontejc utahcanary sul zar creamfield slither modestmouseremix kiev danharmon jaycootchi yahoonew arobotlegion pochette skc concur printable alcoholismaddiction smack officialmqm hushhe hibernate agalloch hickson ambition crobscarla intriguing chronicle postcard bez cufi cadrought nno morrow trestle developmentu chilis 2hours lovemyjob gargron shadowman ibeto emmanuel observation hardside nycfc drag0nking0201 a9 elijahmallari pagexxi tonguetwister megatronafc chartreuse remade reaction staffing frame flee bonesbut federal tee fave gentlementhe preferably disabledveteran odell sorryi telly tecno blaise widda16 hasaearrive punishment pounding seeyou template wheatley 08315 connection wheel mishacollins junsuisengen partake crabbycale damidnighter nomination manservant sonia vienna johnsontionne 8th scout atlanta tr justsaye swea cilla mythgriy waldo knox goofball saison imaging litterua skim auc awol surgery mercenary revenge jerkface 8015 lily ecstatic scheer soonergrunt booktubeathon tellyfckngo traina belowthemasondixonline brittsand9 homeland panther 358 moore cvinch explanation rosewell moe smoker crest podcast eac4au sewing sugar itsllikely 420 ufirstua ojoubot acne hao fresno um randy marvellous abc7 buyout sedar actively dancefloor dawgs freud whoops djryanwolf sally davidlabrava rapping brunt careen chrisdanielshow aladdin flash30u disagreement dorette kalinandmyles uchiha supermarket xkdrx tora scully generational cheap freeman negara introduction mmchale13 greatly badge parisian caballero slander 03 redlight gilmoreguysshow elitesportsny embarrassment digitalhealth dental downfall hw18 abject hotbox odeon kc noahcrothman casualtiesu daviss motion rtrrtcoach gameit joxroundtable june fulfil africans ogt parkchat sl waiting mma redeemer woodchuck dallascowboy eileenmfl chairman abbandone grandad adoptive 171 udom ce resolutevanity scottdpierce breaches givingevidence reign savage szmnextdoor dwarf humor3 pawsox gene cultivate johndcgow quotoperation lcb miscalculation karnal 36 23800 tanzania footage mazda ccot teeu actionmoviestaughtus shaniatwain identification grtvnews draft readingapocalypse incremental pad barkevious cougar elbestia ham mcfauland kijan davidcovucci juan badirandeal donnelly cuddle closely cafe ch4 bowling megadethsymphony robertson2 hcsm ellie goat dramaa flowri package costu itswitche saalon philippines splatdown pll beth canal subsequent hunting ambleside flunkie rawfoodbliss literature tapa ml yeehaw beauscoven consistently sqwizzix tahoe irony goodread justintrudeau lan illusion knowi solelink nuggets engineerd foodscare flare zxathetis tittie blubber eggalie robbie xrays pb esse gladbach foto linkedin simmer shekhargupta damp atlantic hubris pixeljanosz s01e09 sfor challenging akame claimin alrasyid448iturasya areva flopping aqua ooc arin rocky 3941 bhaijaan bp intend encounter talkradio duh ponting soap bodys sammysosita timebomb sexycumshot vvorm blogger sackville partywerent rejectdcartoon ghe deosl86 itsjustinstuart lwb thisisfaz grenade ownership dixie rom copalibertadore 500th tracey barbi increase erinmariefishy in1 shesshh highway x1434 stateu container attitude cutest giantgiantsound gassymexican embarrassed paleface 99731699 awayplease loveislove iwontmakeit collab specialneeds thepartyofmeanness cis freefrom pen welladjuste glue stockwell 4th skateboard tonyhsieh ghostoftheav carcinoma alliance gokitgo obviously jogger diebold derma troylercraft sydney alipaper elianaraquel samajp32 marquez 7beyonce ridah iphoto zippednew mentalhealthgov booradleyvancullen carpoole venom palmer finn thexfiles201day indiabacked bapusuratsingh guardian sinkingaway bigburgerboi55 battlerapchris phnotf emilyschuman kodak cooper illusoria dressing baekhyun bandolier symantec boston towerua distinct theatlantic petchary threesome 12jst clist telegraph pdx911 blazingelwood videogame carbon codemew turner kidnapgafp rlyeh component comic misfit toosoon instantly plugin aguero ineedexposure ririnsider badastronomer uidylanmcclure55 firmly cantwaittoplayinminneapoli 53 startrek speakingfromexperience arti fa sansa eminem madonnamke mfalcon21 funko mh blowin plaguefloated encouragement clock audreyp77 jcomanse ru cervelli donald feetaemop harmony financialreview menolippu freyas foxnew possibility raychielovesu mauryn143 mlg mets knw boringdead kynespeace singh kroschel janenelson097 beloeil doe kerrykatona7 110 tigersjostun dumbass bored mrc 1388 receipt thou hu hse edwelchmusic pigeon stephenke steveycheese99 dmt dirumahyagitudeh fairground katrina justaguess 100nd arianareed11 bungie tosu eganator20 jeremydun asianshawtyy xboxone reebok epoch pleb ameribag airwave cabbage noahshack trash employee naruto charlize lifeit crescent wank mper forehead retirement fran youssefyamani standmatthew microchip 3939 isai shove nate mtgrotto argue sayu madison roleplay sounder michelleele camper dab contest rights wilshere anthelmintic tahoeblazeravalanches10 citation enhance a300 childress jimin biolab applaud simply cjbanne holme stuartbroad8 0215 rss 929 ja wrke donut kircut1 loadmaintenance stlouis injustice harrystyles uv nathanfillion olap 45600 frusciante vaccine warra fylde keithyy assad tootrue hahah infamous ronald feet ferrochrome fairly welfare cleverbot sis rude settle tablespooful brodyfrieling 3750 newidea count dolls championsblackfoot gallipoli luis financially ov beard crowdtapper lolo gardens reince sirtitan45 reshareworthy deltachildren apologize salvage troll flawless kayla hotteennot stir detroitpls lickin pvc charm boxing elm freediscountbks breeder expressandstar breath primalkitchen archetype jude growth futurea francis magnetraction civility uptotheminute organize ren lennox cube kabwandi festac violator tort disgrace cpanel schoenfeld ashestoashe sothw soultech victoriagittin superintendent korea buffer mfi havnt portfolio a27900end battle15moferadio tangletalk slopeofhope clelliyou stormbeard togthe drako recip pisco sidjsjdjekdjskdjd bookslast 1079 trader buroker itz 0308 dispatcher midfield l9udest retroactive daddy bday eyes2 wenger roar 4k colo 68 darrylb1979 hitter alrightbut petereallen epsom varagesale lesbian smelltaste mudno dani blaz mouth swoop vaca wisdom invincible whitt selfpity coya lightrail ubadge peel marble pug ghetto almusafirah verdict mildmannere hhahaha windows10 acquire anyplace tcgreno ascend preborn morbid jessienovoarp porcupine displease chesttorso anderson thenissonian resources fanfiction skype beastly wrestler jebbush divine purpleturtlerdg 10th meditationbymsg griffin unplug worldpay rove raabchar badkitty coxytown broadcasting upgrade stony igmpj bbctms chillimik asb tolerance gba tu dirty beatz ogtomd corleonedaboss rumah nbn warriorcord iamhorsefly delta nwspocatello paramedics amaramin3 mattcohen4fake lujo buddz rushlimbaugh sagacioussaber comingsoon billgate prophecy roster exhausted slimebeast democrat wpt994 kro pirate believeis deployments accountable thatnot bloodyminde cnnbrk 97georgia inspect whopper 1581017 fineme greenway 1600yearold 927 wilden whocare lightman jaiden ltz unrest 255 investment gasoline loadexplode datingtip messeymetoo profbriancox f450 photoset gotham magnificent lolatjesus adopt detkenlang epilepticu ubritish gloriavelez murphy boomerangtime profithungry bloodbound gfe blanktgt producer newrelease suggs timestack working finallu rollingstone bizzlemahomie audaciousspunk xtra1360 0840728dynamix tonyakappes11 whaley lawn madara joestrong qotre ddos whiskey fiat trajectory makeu sentinel bhavanas musicadvisory hotboy favoritism joshuaassaraf babri enemity mcgsecure imeshika rum capitulation ought cocky exact bruise rolo beckon tna mv lurkin focus danhrothschild netanyahu magog wreckage whatev brutally victorian cee memorable wakho spear argentina cognizant ocuana mk esn upstairs catcher justus certify inequalityyea slab marketwatch sunku hereticofethic shoota crumble neur0sis technique cortneymo equation malt drphil juneau lage bla 3422 dakota celestial 4193 4sake pullup wonderkid promotion vzwsupport hipster galvnew omron viab calum36chambers indot taylorswift13 gamerant yoenis todayng usagi blessed bo3 drivingu cruise wolverine imminent meaning flatback hazardyou wsjthinktank cobes hutch emily4everever isle latechwatch 0730 drownu undergroundrailraod titania brokenscnecal drfriedencdc parksboardfact hough decorate peer vicken52 gone arrestpastornganga ellenfromnowon schelbertgeorg folieacat transgendered elation mewhyor dignity faintly evade fluffy rampage adsit punkblunt manhood riddler filling crude 30pcs byityf choking acronym sharku mistrustful brasswork costar 688 satisfying chef janu crook ongoing treasurehouse luzukokoti ward recruitment snapchatselfie kp kiwi goodells period themthen detroit airport nanotech aggressively creep mirad gemmasterful ahuh kjfordays upliterally defender reminder kanger 0025 doofus anakin alexhammerstone uheat lightly meddling cometh lateri router disneyuas jusreign ghost pumped lisavanderpump crowtherjohn weebly 1979 mineit inundationu exhaust papi tunesblake gisuserpr elwood citi stickynyc flavafraz21 denial uptown sct012 extender sleepjunkies urbanisation lizbon 37592 legacyofthesith morn frying maatmhi keurig forgiving trident ks161 greetingsin troy cardfind erykah publicize animallogic exercise implode legendary premiere mcdonalds hopei trc rhode demis periferico kelbytomlinson meteor willow iheartradio blues rework thatwitchem themayhoka jewish wmata mataas respected knewi 60second recycling overwatch merycormier striking j3lyon lopezandthelion teamscorpion leftleane remarkably metrotown ipo oppose stew cascada splatoon tomcatart rjg0789 salute splifs selfinflict baskgod detroitthe wart ey overtook pussyxdestroyer gidiexclusixe hatred greenspace desperate christopherszen mapmyrun molly henderson beet dop chaboyyhd coast2coastdjs dilute dilawri copper lean gmmbc tub faan emo essenceofme vai pioneer wanted renewsit substantial burger glassanimal hollyw nashhmu installment peak michelebachman urine inject drumstep protectdenaliwolve veterans attendee sacrifice rollingu senzu morganlawgrp veld graysondolan w1997 african foo vessel 20yrs mauds99 pitchwars transfer snippet kno disciplinary js mage crossfit skardu shutdown vixmeldrew choppergatebronwynbishopauspol buseys architecture converting saudi frankly ashwo marriedfoxy du cedarglade2015 thesewphist wallybaiter exp0se nonucleariran pageshi cityofmemphis nalathekoala wbball insanelimits scatter bowery kalinwhite poplar gasparcu interval boring inspiration keepingtheviginaclean flow397 camilas slosheriff floydmayweather nui bwin umntu asae15 tyre kashs kasad1lla terror retard positively morebut khaki sayin familia sundercr cram capitalist pwhvgwax skye 5007 neverende theghostparty overcome shedding ava artisteoftheweekfact rascal schulz 124 occurrence chilli thomassmonson jackass cranboonitz antonio elect dialysis mav nintendo griefua antichrist democrats benediction sword sirmione knowlddge r1354 sports windmy tusky santos judicial askforalaska colomr dis litany mlrydalch songhey89 trixie trad highalpha moonlight tindere behold ba beg popcorn donthate refugees wld homebuyer smth formation jolie sigue rly pars sidewalk supernovalester sciencefiction northumbria norse kainyusanagi servicin demo ricottau elutranscendent cheekiness miller recognition bento queenmy upa fforecastthu oocvg dryer uplift husband billing amsal publish sopameer wealilknowa coma cultsierre megadeth 325 moorlandschmbr campusfind 217 utd autobiography con kasich ijournal ccmusic devote kerri grocery imbalancesare sona majesty luv ibeyiofficial deathholy mizuta lame constant madonna shanaynay shakespeare hlportal comic_strip theyuad arceen understanduone mogacola tweetinglew grindhouse bioteru 7k genital differently unfml crashsterlingwho smantibatam magginoodle vanessas elevation josephus greed sonyprousa bounce mentaltwitter cain motivator commente jen carsonrex tunas smug lawrence unhinged ruddy listia wgg stephenscifi acebabe sonofbaldwin asymbina weei marginoferror trinity lewis omgbether justjon mn limpar33 activision thebuffshow sunshine inundated int avenuesilver bbcnews whvholst sift hurry afrikaan sto mingo resolution staid carmel babality addict tin withaeannihilation contentmarketing yahooschwab swami hiroshima 11st pone wyou fullback 54 hightech latinoand supply vita devos 544 officialcoredjs myelf adhd rzimmermanjr usarmy robthier spx mixtape teemo gravity xdoj inbetween particularly ifs skinless zenande runnin alaskan 4tiles repulsive quoteoftheday intrigue mattmosley vortex quirk geotech kinesiology robotcoingame dustinbrowder psp biller incessant punch fanged romanatwoodvlog plummet summit benchmark nightfear nov lite competitive namekian carefully samsmithworld lvg onaethe presbad bags patrol serial colt qa purduee defeat strap nobleman savour stopharper trafford coloiccarnality mxa standardized rsa turnedonfetaboo backroom lieu amirkingkhan barber 2015castle liv ingame dobut womb legacy nlccollide stephaniemarija businessman salyersblairhall ames crucial queenswharf borrower restoringpath garza baggage assume outnumber mezcal desecrate dyannbridges catoinstitute sumo yosemite isea2015 banana pisce pp150266818 rescuedagain conservation ris straighten cameronciletti density newaeheight rubbin skinny reserve directory presinkhole alisonannyoung 1970 kotc bernard formula collar pogo portgassdk thick shear clue hoof 228 engine schoolokim villicanaalicia rhinestone paradise aus customize defect granttamane8 tryingto crose weathernetwork newsdict i10 jaylenejoybeligan concentration evebrigid harvardu jumpin trillion elxn42 originalfunko pose blend regent rfp calmly penney vanessa joshsternberg plotin 95roots atchisonsean ww chapter ch muffle doomsday rchs jimmy upolitic rbcinsurance davidu capable optich3cz bigsby mino orshow sabotagei polluted tita fredolsencruise marinade vets78734 brace xgn westero examiner orapinforma rainbow autism kg4vaal arvindkejriwal funnydadcoach submission oomf skiing kindlecountdown dazzle puth donny dante ect communicate jackwilshere wageua littlewomenla gameinsight apologise desolationofsmaug biggar cement penny daughtery danagould brigade declare pediatric rival kristindavis fiona juliechen roy videoclip jeepaesunk representative labourleadership cooking floodjust mprnews encouraging wrongdejavu liberty canonusaimaging stoponesound temporary thatmom occupational resin torrent furst kelloggs chopras bama 8pin dateswhitecoat g20best pages400dr 7newsadl lim firei uill triumphant pol awn kallemattson vail skynet dogg lennonparham 24v cringe sergiopiaggio mould ordain prestige welovela pedestrian superstition gailsimone buffoonmike forebode wayuyeah forsee inflict pittsburgh wickett uransomwareua seattletime gods teahivetweet helphorse waved adelaide karinagarciaxo shopuas excite wcbplawyer abysmaljoiner gamma esevu wbc2015 goodness lonelyness puckflattene slapping halfhourhotel bushman fighting thisisperidot cramp ling bombedout auto expansion reimagine durvod funkflex oyster blackburn mileena milita greyjoy expansive thh yolk jbouie laughing populardemand pump vein 58hif churchs ratio infiltration despairand todayhave wipp b2bagency airhorn skywar q99 booze niqqa boeing 429cj tblack browseraehijacker whoop 1130 gemmahentsch tommorow denali violin humanconsumption ashley parental genius neighborhood congrat menuas shizunethe markwschaefer banditregina grandma lordofbetrayal uthe luna 3d song21 longu samihonkonen concertaugust vector 6drivendriven disasterirandeal diversification warlord coolweird safari uileoblakecarter ps1 unconscious gunk uminimum sinkingi homeowner tremor mommyisbomb robertcalifornia prestonuas cumtownbj doone eternitysister kaboom batista northumberland abe neal uhazardua thisispublichealth clearedincident reggaeboyz politicize ibooklove heros uamino hiuotech thursdays stilo mariah cainsuch mexico moving2k15 assnchat s5 highrise paracord espn liana outbreak thebookclub lyrically swingman florence keren gucci onesie institutionalize 157 authority evangelicalliarabbott shawn boobs 730 splatle janiethekillr opal lets alrighty circa massage cleavage studio adoption tiffanyfrizzell strategicpatience glenn rightway gaming replacement bekah horiikawa reinstate architects intensity untameddirewolf piga afghan utahgrizz usdot lure electricity handsome fanboy plaza maj jonathanferrell ibom exclusively kingmyth19 c4news 6615434 hendrixonfire austin motley dell harbhajan machinegunkelly piercing tiger wahpeton depressed stare 12step typhoon groundi innit laphamsquart rainforestresq coalition plymouth grimes subconscious cs 149 pumper warne clancy time4me clicca lou rosemarytravale pixelcanuck specie crapgamer delanys iowa liken irrespective growingupspoiled tweak kebabtahinipickle nikistitz iranians conning absolut organizationsfluctuation torso hsjb215 spiderweb bracing shayoly peoplecommunication womem iphooey forefather university horoscope nrc spree aisle tailor vape sivan telegraphworld caroline defensive glove abbruchsimulator danielle foundation hushlegs crayon bhusa 200 edgarsgift jwalk 83 irwin morganite westward dougs bs gospel designer twitch ai indiakomuntorjawabdoindian brandonmulcahy esu shade cortezera spur demi loretta masterpiece sexydragonmagic usbush felon dnbheaven broseidonrex kenny precious 10638 nj crushit guage scabs 187 dmoneydemi deniseromano proud smarttek drowns sunray lore efs300 bosphore instaquote mu laura r3do nyozi crushedcheckgreat canontattoo dattomm spec bmw kindersley sake nz mustard mx tenshi msmigot alamodc southampton hotnewscake fukushima noahj456 generationrock metropolitan backpack windowgatribble atlbizchron ferry bard downright m6x100 redsox emilio yrs unprecedented helen 949 startide hangin adani soilhow rewatchingthepilot emblem frustration iclowns raid rubi adjuster onegreenplanet tak preseasonworkout practitioner invzice unknowingly thetxi ethiopian 55436 auz pestle sparkz bene mississippi pokemoncards md photoop thatpersianguy selfesteem hienshi kaldi propaganda experimental mypillowstudio reply cecil martsunmushroom dimension lawsonofficial bcz economically troubleonmymind compelling bobbyofhomewood doll optic hhbu corp pacquiao romeocrow honduran wbigbaldhead ram ayhdjjfjrjjrdjjek striker deedee wnw orchid hanna edk suelinflower gamefeed dribble candace ploppy 330a adumb cig sucker cucumber ukuas elecman wowo musiccheckall myfriendmina hm contain amumumux calmstillness murderous dorito tshirt heroine thesteveharveyshow speculatio yorkshire improved shuffled satin s3xleakph0to lapaka kissimmee align mgtab internationaldomesticteam gesserit liva wayi mencius ditch swb1192 mueller techniqu bentossell ravioliaewith serene willian loko urg 21k sterotypical olrule tozlet prem oliviamiles01 2065 endorsement stud oline rl moron bagans gr akarb74 redeem keegan172 susinesse vibrator ziphimup fuelgas grizzly wpt410 tat middays bait southern nieuw feelslikefob foil crushmtvhottest ezralevant eunice heyseto gio warrior properly releases ercjmnea concussion legislation sadtraumatise backup marijuana bobble missionhills location leafs assessment administration recognise prosser feelingmanly islamaphobe gwatt valuation hits childhooddefine prolly rebound yep perforate crbzfz aberdeen passion overrate rjailbreak 3967 dwilliams313 createdunique23 harshly plank soothmyslumber xo ges 1x1 darsena noxdv presidential romeo uileejasper continuinglet marynmck pascal smart mmfa onlyftf survivedjoin emiliorivera48 starflame petting skarletan tcotaeccot tumble codawscrim migrate ten4 hypocrisy mug tbr saunder jannellix0 boutta tsie juliekragt phenomenal wilsons superman basalt moral rideout netflix hollyorange8 tim lavatory enkelbiljett soggy depth ghoul gohanuas aamir ace corn friend59 aggressif talisman elisagxrcia census eerie bark cab fantabulous foursquare notificationsu awickedassassin 957thegame takehome kca fdbdp socialtime loudit topic magnetic jealous bartlett dinosaurdracula megalpolis wildlife stable amber tithenai amalie horny bobbyxfisher babysweet420 boironusa misfitrarity meter hearitfrompatty dfr breachgamingorg mechanical blanksocietyx kaputt21 agnus x1402 switch micallef checkhappy underground nora olliebailey11 squibby smoking kunstler kttape wattashit3 daniglasgow45 possesion fizzy vacancy worstoverdose mole euroquake sob immunedeafene generic presec drewscanlon becca stray stevenontwatter bernardino wizkidayo dailykos marge grantgordy wolforth infected ohlordy since3 hinterestin plz ruthann macbreck spoil fasting absurdly float burnfat nc kaiseiw torontorc happily misteraffleck beezersun cherokee chapoutier mariankeye packaefor fkn crosse preseason geek wexler bal appraisal titadom grumpout lt3dave gyp arse monetary 3pack demand ariabrisard jocelyn endanger doingu drain sushi swedish raise veggie mia ehek scalpium alexandrapullin wizard bowhunte frail watermelon tweetstorm sumya15 missionhill realckt pajama shakjn bre vantage nkea kakajambori willinghearte holomua gastric morningi fergie prez puppet bokoharam clot homefolk avenge porno askh3cz effectiveness hammond shid huntington gazebo soft mlk jarmusch laboratory luiz uuif orcas fwt waterfur narendramodi p2 accordingly kevinedwardsjr longlaste decal chevrolet journey barcelona signatureschange spilt campanha lag qpr1980 offers2go hump weuall tampon alas changebioterrorismmass mariasherwood2 coyote underwater influencer cst retweetfollow brucewillis teamatowinner testify engineshe dustpig mihirssharma gambit blazinghinatobot quit farce diariesthe bicep partially petersburg insight shantaehalfgeniehero puledo goulde radar epiphane anyname libertarianluke emilymcfcheslop virtual jmastrodonato envyseven intertwine 164021 wsaz backlash charmeuse township engineermatarai brilliant barcousky commerce cristianinspire dominance oliviaapalmerr homeimprovement fem sarahksilvermansoundtrack wowsavannah jpanzar alba ooharrybecareful 1950 shatter espargaro trivium leicester psychrewatch morbidmovie katt dat erally circular bigtent harveymaine lesley edwe javaid ally translate patriotsnation zhenghxn disrespect lgl catholicismhomophobia bleacher reuse coast darken excessive prevalent koz jitsu sha cackling sonisoner elreynetwork carnage diversified woah icequeenfrosla ophiuchus2613 glitter takin courtney missleylaha raredeal deutsch annoucement ame papa chalked correlate distraction twist du19 wiedemer widout film4 booksbyrog header pollster humid soaker watermeloann mute wisely heather nuh 516 uiyou surfer meltdowni bcs redcoatjackpot frofrofrou bounty steven uoaecnbc clegg baltimore funtime susanj357 painthey jamienye collective anyoneor insure statistically savecan math flatts overall leiaorganasolo oppa transcription arrogant ibiza dayby mas notexplaine wellgrounde oli vital hehe astonish u05 waterboarde weuare prompts bound quotesttg render pbohanna frisat istg periscope gulfport improve teamvodg hank mistresspip sinkingfund neverforget provide bitter briannafrost idwpublishe psychic shipsxanchor speculation q2 pfannebecker catfishmtv politely tt lawton macabrelolita sera holymileyray benothe ebb prysmian nominate jimmozel digits argentinean ouvir scotiabank bellalinn flavor kamunt trope inroicesmake scynic1 mourning nkulw yoga loathing weloverobdyrdek charlesadler realjaxclone ryanoss123 significance deathmule alexjacobsonpfs asterpuppet laighign threatconnect zonewolf123 parter victorias aiginsurance wbre lesotho ep016 mutt paw cg fixingmatch lucio perceive boxget lightseraph poway devinjoslyn unlock youthdid maker padre itsnasb filming clothesless eyessee mockery sasha substance fci fossil missy commit pete lunasagalle nervous dlin71 burnaby mcnabbychic python cristiano benji firm 452 depreciation wxiatv daborsch spammer fitba hiatt factual josebasedgod daisy thorin tampa pedro20 icaseit carlilescanoelivery ripple laurenjauregui fricken gymflow thehobbit hue drewwtaylor pugprobs ymcglaun lifehack spyro intersperse creelyou misguided reunion jessica crushed 14yearold ahrar evolve harman yorker selfdestruction editaxohaze slsp main untangle ga blackinamerica monroe mustachemurse descend spoke stars aids devise ex angelheartnight pantie democratic temptation carolinagutierr mzgraciebaby vergil sirbrandonknt nitroglycerin withhashtag childor pamela loa texans mipasho jfb eonlinechat agnivesh gregorysander oktxduo qvc decriminalize paramore wc ugc news4buffalo perrychat thesensualeyemodel careless cumcovere commodity bcuz tall sneak bestcomedyvine christielinford wale nonprofit nurgle cont twain itrawcwb sethalphaeus dieplease twilightfairy racco brisk nazi fahlowcw awesomelove native awaynothe chester tragedymonicas wcw smoochy ethic monotonous systembased friendshipyou usmnt jaymcleanauthor peterdutton sedan bloomberg importance oldtimey ldrago salman forecast kaiser glen pedal ambulancewe djjohnblaze rebeccaforreal anthxvy gesture lace airi yahoo7 kendall michaelgbaron theblaze kylekrenek giggle caribbean ryt chinese checkout singalong scrape railguns mil kotolily ijustine rigga pmarca nkeajresq sunnis kiu nuu uniteblue benson gameplaywalkthrough abuseddesolatelost worldb gpaulista5 twoout ler superpower giorgio pjnet hrs gpv artificial unconsciously michel mortify sew netlabel era cadusd samesex hlongwane transcendblaze unlocked knoxville pulkovo stefano precondition today4got combiningu 3945 browner trump2016 tokteacher lightumupbeast transwoman bomber pitched dloesch texaschainsawmassacre rworldnew lyndon mahalo 114 kettlebell unsecured sprite yiayplan romantic capitalism 2d th nephew chikislizeth08 votejkt48id offtrackhorse laughtrader ay settlement coverage ps3 harper dismantle hater snd mediaguido chxrmingprince danielkemp6 bradleybrad47 unfortunemelody lightbulb heyot6 20ll4 exploderinshizunemishaemikenjiyuukonomiyahisao jokin extend collectible kgb siena european rivalry faulty highu 20min dolce related peaceloverescue perquisite firey bigstar sg adiossuperbacteria pardon usar2015 rein holt cervix kidstheseday tsunamis rdg tw4rw glononium hurn robertwelch bagu 2017 reblogge princessduck niggr 8400 screamsdo tarynel notto wogc programme notu amateurnester sometimesi wash jackmulholland1 rainier baseman eurostyle rename tesco incredibly aintsheperty darkhorsecomic ageekyfangirl14 goof inevitably finsup freebitcoin seward anonymous imawesome7986 doco areau generous abu kwislo giang wdym httpsyoutustart fiction crossbody foolish floored4 khans abcnews girlfrienddown itsmegss manor teleport higuain thebachelorette differ christianvalue kenosha trollingtilmeekdiss pakistanuas mashup ornament 72 heuas 16550 mzmandilynn gunnersfan89 dolla lara reflectionsaugust tanzs swarm jus nsa visionzero txt rs40cr kdr minhazmerchant est thomasvissman22 kanye overturesplease uithehighfession twisterlovesshania juanny tastemycupcakee medieval blink littledeath mania rembr ieansquad definition patricia mousse marksmaponyane hastle voting knowitall rave grille 12th rorington95 segas cereal tennoatax notley oneborn lilourry launch nevermore 53u tourist paulhollywood uletuas joshcorman faze edfringe runjewel ofclan dh30 heheh sector 67 elevator milc5040h cyclonetom electrostatic guild hampshire liqd dawson uvopwz maid eles pity paperback youheat frost aunt downside silas crazyindapeg tidalhifi explodingkittensu davidolszak motherfuckersloose cdc paddytomlinson1 abetter legionstrackandfield czallstarwes rokiie charming tersestuff cautious psalm3422 2025 taxreturn elitist mcfadden henley christinartnd obliteratedhas impend capicapricapri tha modest maailiss safferoonicle natsnation demetae12 princeoffence 38745 stavernise suffering underwood hrsto ungodly perkpearl wud effiedeans ruff23 nite vinnie notre trpreston01 sunburst religious waynesteratl fiascothat sht fierce hwo ridiculously tactical breakdancer cowgirl answeru manly iti hhs jenner dub cow loaded crackedgem plez queens usw doningtondash11am fever 90100 mommys alltime suho troupe optione charleyisqueen psalms sneeze justthebottle thetshirtkid noemotion organization richmond jacquie destiel soc thugge greggmair primal busted fourth worldoil philly soner corey appoints bloodbath alves influential episcopal awaythe bail lloyd zrnf joelsherman1 michigan awash niamhosullivanx everton katterpi mixxtail salmanmydarle rwa babalmaowelcome amend cantmisskid gwfrazee tuffer microbe tracklist purdie domesticate romanceit fluid font mofanon hitch dicehateme boone syjexo centers checkedhe 4tpfa cozmo23 cafi cuck massmurderer floral suddenly withlandslide workforcecontact vilelunar subtle urbanfashionu seismicresistant hosting loaf vulnerable revel cybersecurity superv hillside stylist donington damagetoronto selfavowe snort addiction heebster itblank undermine candylit drool brrookkllyynnr meganbee92 benaffleck torture mopheme refugeesvictimiserdutton sirius filter bloodymonday verge sophistication pundit mariaf30 fiery purpose nueva walker amageddon warthen breakingfalle overflowwas bck caraccidentlawyer socket milne dill matias knowledge violet infantry catsandsyrup stunningly withmiddle colombian f250 fousey serversserver 530pm aust deviceua crowe ripriprip deezercolombia otleyhour sond dmd danemillar1 foam cloudy donate hick com uiall hem712c db helmet hatchet nopeach photograph nuttcumslut forthright disasteru encaustic actin deldryden outburst border forsythe comma achievement treescape espn2 muppet texture milio tellyi overprice 5c gif jaybig council brochure hawkhis bridgeportspeed freshly godly jbumzqpk 8minute carful labor mwlippert shad tremont ofnsixjks mebeat dial imagecomic 20152 relevance setzorah tantonationalforest policeu polit battleroyalemod conflictstactic sleeping mirror pbcanpcx landslidei sorrybutitstrue browse longll incinerator cameronhacker since1970the suny clap requiem headlinelike rickperry cri fleetwood donnie ims overdrive somethingyr harassment err509 changefortheworse tryout fusion brento ignoranceshe 89x fullblown ironmana bolt lees callin blazerfan econom confidential orcot interestrateriseu muttatek svetlana tightly srk rag wasteland prosper david5fernandez spotlight alekalicante sanford thatrussianman mislead rioslade fn wk 1028 anxious mugabi warnedu jiwonle realm defendbutera govern documentary neighbor newsintweet scum slosher zeno001 immensely jeffpalmer16 tipster scaligero tone icarus equalizer letdown scumper njoki pak worm wattys2015 castello mccainuas yeyeulala propel snoop 2014not purposely dantwitty52 85v265v diego tail dyamiplotke fiasco nova mobile amicospizzato upwindstorm richarkkirkarch pepperoni gostei assistant lipstick ayshun panik vhs agreeshe outbreed thirdquarter foxa flechadas pitmix cr sigh hindsight edcxo wasp wisconsin memenaar laurathorne97 knowevilempirejadehelm15 lookss walmart sigmund 917141 blackcat 2girlslovecum cyhi kinkyconnors misty likeavillasboas'"
            ]
          },
          "metadata": {},
          "execution_count": 34
        }
      ]
    },
    {
      "cell_type": "code",
      "metadata": {
        "colab": {
          "base_uri": "https://localhost:8080/",
          "height": 198
        },
        "id": "UXvAGvygyENY",
        "outputId": "b0efbd6d-e21a-473f-b683-08b93e7ba84b"
      },
      "source": [
        "word_cloud = WordCloud(max_font_size=100).generate(fake_disaster)\n",
        "plt.imshow(word_cloud)\n",
        "plt.axis(\"off\")\n",
        "plt.show()"
      ],
      "execution_count": 35,
      "outputs": [
        {
          "output_type": "display_data",
          "data": {
            "image/png": "[encoded data removed]",
            "text/plain": [
              "<Figure size 432x288 with 1 Axes>"
            ]
          },
          "metadata": {
            "needs_background": "light"
          }
        }
      ]
    },
    {
      "cell_type": "markdown",
      "metadata": {
        "id": "2gONlF5KyEZO"
      },
      "source": [
        "## **Word embeddings and further data preparation**"
      ]
    },
    {
      "cell_type": "markdown",
      "metadata": {
        "id": "RQusSqY9lALj"
      },
      "source": [
        "##### **Importing necessary modules from tensorflow**"
      ]
    },
    {
      "cell_type": "code",
      "metadata": {
        "id": "dqE-CGLylAaF"
      },
      "source": [
        "from tensorflow.keras.preprocessing.text import Tokenizer\n",
        "from tensorflow.keras.preprocessing.sequence import pad_sequences\n",
        "from tensorflow.keras.models import Sequential\n",
        "from tensorflow.keras.layers import Dense, Flatten, Embedding, Dropout\n",
        "from tensorflow.keras.layers import Conv1D, MaxPooling1D, GlobalAveragePooling1D, GlobalMaxPooling1D\n",
        "from tensorflow.keras.callbacks import EarlyStopping"
      ],
      "execution_count": 36,
      "outputs": []
    },
    {
      "cell_type": "markdown",
      "metadata": {
        "id": "wQvT0SSHgr6Y"
      },
      "source": [
        "##### **Instanciating the tokenizer**"
      ]
    },
    {
      "cell_type": "code",
      "metadata": {
        "id": "52FxxisVkcdz"
      },
      "source": [
        "tokenizer = tf.keras.preprocessing.text.Tokenizer()\n",
        "tokenizer.fit_on_texts(tweet.text_wostop)\n",
        "tweet[\"tweet_encoded\"] = tokenizer.texts_to_sequences(tweet.text_wostop)\n",
        "tweet[\"tweet_word\"] = tweet[\"text_wostop\"].apply(lambda x: len(x))\n",
        "tweet = tweet[tweet[\"tweet_word\"]!=0]"
      ],
      "execution_count": 37,
      "outputs": []
    },
    {
      "cell_type": "code",
      "metadata": {
        "colab": {
          "base_uri": "https://localhost:8080/",
          "height": 598
        },
        "id": "4ILcRNfVlP8j",
        "outputId": "0c0d4f27-9f04-4945-9de4-3cef52cc54ce"
      },
      "source": [
        "tweet.head()"
      ],
      "execution_count": 38,
      "outputs": [
        {
          "output_type": "execute_result",
          "data": {
            "text/html": [
              "<div>\n",
              "<style scoped>\n",
              "    .dataframe tbody tr th:only-of-type {\n",
              "        vertical-align: middle;\n",
              "    }\n",
              "\n",
              "    .dataframe tbody tr th {\n",
              "        vertical-align: top;\n",
              "    }\n",
              "\n",
              "    .dataframe thead th {\n",
              "        text-align: right;\n",
              "    }\n",
              "</style>\n",
              "<table border=\"1\" class=\"dataframe\">\n",
              "  <thead>\n",
              "    <tr style=\"text-align: right;\">\n",
              "      <th></th>\n",
              "      <th>text</th>\n",
              "      <th>target</th>\n",
              "      <th>char_counts</th>\n",
              "      <th>word_counts</th>\n",
              "      <th>avg_wordlength</th>\n",
              "      <th>stopwords_counts</th>\n",
              "      <th>hashtag_counts</th>\n",
              "      <th>mentions_counts</th>\n",
              "      <th>digits_counts</th>\n",
              "      <th>uppercase_counts</th>\n",
              "      <th>text_wostop</th>\n",
              "      <th>tweet_encoded</th>\n",
              "      <th>tweet_word</th>\n",
              "    </tr>\n",
              "  </thead>\n",
              "  <tbody>\n",
              "    <tr>\n",
              "      <th>0</th>\n",
              "      <td>our deeds are the reason of this earthquake ma...</td>\n",
              "      <td>1</td>\n",
              "      <td>57</td>\n",
              "      <td>13</td>\n",
              "      <td>4.384615</td>\n",
              "      <td>6</td>\n",
              "      <td>1</td>\n",
              "      <td>0</td>\n",
              "      <td>0</td>\n",
              "      <td>1</td>\n",
              "      <td>deed reason earthquake allah forgive</td>\n",
              "      <td>[3654, 419, 173, 1362, 1926]</td>\n",
              "      <td>36</td>\n",
              "    </tr>\n",
              "    <tr>\n",
              "      <th>1</th>\n",
              "      <td>forest fire near la ronge sask canada</td>\n",
              "      <td>1</td>\n",
              "      <td>32</td>\n",
              "      <td>7</td>\n",
              "      <td>4.571429</td>\n",
              "      <td>0</td>\n",
              "      <td>0</td>\n",
              "      <td>0</td>\n",
              "      <td>1</td>\n",
              "      <td>0</td>\n",
              "      <td>forest fire near la ronge sask canada</td>\n",
              "      <td>[120, 2, 163, 491, 5504, 5505, 961]</td>\n",
              "      <td>37</td>\n",
              "    </tr>\n",
              "    <tr>\n",
              "      <th>2</th>\n",
              "      <td>all residents asked to shelter in place are be...</td>\n",
              "      <td>1</td>\n",
              "      <td>112</td>\n",
              "      <td>22</td>\n",
              "      <td>5.090909</td>\n",
              "      <td>9</td>\n",
              "      <td>0</td>\n",
              "      <td>0</td>\n",
              "      <td>1</td>\n",
              "      <td>0</td>\n",
              "      <td>resident ask shelter place notify officer evac...</td>\n",
              "      <td>[1363, 420, 1677, 322, 5506, 294, 186, 1677, 3...</td>\n",
              "      <td>79</td>\n",
              "    </tr>\n",
              "    <tr>\n",
              "      <th>3</th>\n",
              "      <td>130 people receive wildfires evacuation orders...</td>\n",
              "      <td>1</td>\n",
              "      <td>57</td>\n",
              "      <td>8</td>\n",
              "      <td>7.125000</td>\n",
              "      <td>1</td>\n",
              "      <td>1</td>\n",
              "      <td>0</td>\n",
              "      <td>1</td>\n",
              "      <td>0</td>\n",
              "      <td>130 people receive wildfire evacuation order c...</td>\n",
              "      <td>[2306, 4, 2307, 70, 186, 295, 33]</td>\n",
              "      <td>55</td>\n",
              "    </tr>\n",
              "    <tr>\n",
              "      <th>4</th>\n",
              "      <td>just got sent this photo from ruby alaska as s...</td>\n",
              "      <td>1</td>\n",
              "      <td>72</td>\n",
              "      <td>16</td>\n",
              "      <td>4.500000</td>\n",
              "      <td>6</td>\n",
              "      <td>2</td>\n",
              "      <td>0</td>\n",
              "      <td>0</td>\n",
              "      <td>0</td>\n",
              "      <td>send photo ruby alaska smoke wildfire pour school</td>\n",
              "      <td>[179, 121, 5507, 1678, 174, 70, 2308, 112]</td>\n",
              "      <td>49</td>\n",
              "    </tr>\n",
              "  </tbody>\n",
              "</table>\n",
              "</div>"
            ],
            "text/plain": [
              "                                                text  ...  tweet_word\n",
              "0  our deeds are the reason of this earthquake ma...  ...          36\n",
              "1              forest fire near la ronge sask canada  ...          37\n",
              "2  all residents asked to shelter in place are be...  ...          79\n",
              "3  130 people receive wildfires evacuation orders...  ...          55\n",
              "4  just got sent this photo from ruby alaska as s...  ...          49\n",
              "\n",
              "[5 rows x 13 columns]"
            ]
          },
          "metadata": {},
          "execution_count": 38
        }
      ]
    },
    {
      "cell_type": "code",
      "metadata": {
        "colab": {
          "base_uri": "https://localhost:8080/"
        },
        "id": "EIEx81kSsE3c",
        "outputId": "1a6434e3-6ae0-4e24-90bf-a713a57d675c"
      },
      "source": [
        "tokenizer.word_index"
      ],
      "execution_count": 39,
      "outputs": [
        {
          "output_type": "execute_result",
          "data": {
            "text/plain": [
              "{'like': 1,\n",
              " 'fire': 2,\n",
              " 'new': 3,\n",
              " 'people': 4,\n",
              " 'news': 5,\n",
              " 'burn': 6,\n",
              " 'video': 7,\n",
              " 'kill': 8,\n",
              " '2': 9,\n",
              " 'crash': 10,\n",
              " 'come': 11,\n",
              " 'bomb': 12,\n",
              " 'emergency': 13,\n",
              " 'disaster': 14,\n",
              " 'time': 15,\n",
              " 'attack': 16,\n",
              " 'body': 17,\n",
              " 'year': 18,\n",
              " 'look': 19,\n",
              " 'police': 20,\n",
              " 'know': 21,\n",
              " 'man': 22,\n",
              " 'day': 23,\n",
              " 'home': 24,\n",
              " 'family': 25,\n",
              " 'good': 26,\n",
              " 'think': 27,\n",
              " 'flood': 28,\n",
              " 'building': 29,\n",
              " 'love': 30,\n",
              " 'storm': 31,\n",
              " 'train': 32,\n",
              " 'california': 33,\n",
              " 'watch': 34,\n",
              " 'suicide': 35,\n",
              " 'want': 36,\n",
              " '3': 37,\n",
              " 'work': 38,\n",
              " 'world': 39,\n",
              " 'collapse': 40,\n",
              " 'life': 41,\n",
              " 'retweet': 42,\n",
              " 'scream': 43,\n",
              " 'loud': 44,\n",
              " 'car': 45,\n",
              " 's': 46,\n",
              " 'death': 47,\n",
              " 'cause': 48,\n",
              " 'today': 49,\n",
              " 'need': 50,\n",
              " 'laugh': 51,\n",
              " 'nuclear': 52,\n",
              " 'wreck': 53,\n",
              " 'drown': 54,\n",
              " 'youtube': 55,\n",
              " 'war': 56,\n",
              " 'bag': 57,\n",
              " 'dead': 58,\n",
              " 'accident': 59,\n",
              " 'destroy': 60,\n",
              " 'let': 61,\n",
              " 'plan': 62,\n",
              " 'way': 63,\n",
              " 'fear': 64,\n",
              " 'weapon': 65,\n",
              " 'help': 66,\n",
              " 'hiroshima': 67,\n",
              " 'live': 68,\n",
              " 'feel': 69,\n",
              " 'wildfire': 70,\n",
              " 'find': 71,\n",
              " 'wound': 72,\n",
              " 'injury': 73,\n",
              " 'survive': 74,\n",
              " 'big': 75,\n",
              " 'blow': 76,\n",
              " 'rescue': 77,\n",
              " 'bad': 78,\n",
              " 'evacuate': 79,\n",
              " 'city': 80,\n",
              " 'fall': 81,\n",
              " 'report': 82,\n",
              " 'sink': 83,\n",
              " 'god': 84,\n",
              " 'miss': 85,\n",
              " 'die': 86,\n",
              " '5': 87,\n",
              " 'minister': 88,\n",
              " 'explode': 89,\n",
              " 'collide': 90,\n",
              " 'derail': 91,\n",
              " 'wave': 92,\n",
              " 'prime': 93,\n",
              " 'right': 94,\n",
              " 'service': 95,\n",
              " 'save': 96,\n",
              " 'ass': 97,\n",
              " 'panic': 98,\n",
              " '4': 99,\n",
              " 'run': 100,\n",
              " 'thank': 101,\n",
              " 'great': 102,\n",
              " 'thing': 103,\n",
              " 'fuck': 104,\n",
              " 'army': 105,\n",
              " 'mh370': 106,\n",
              " 'quarantine': 107,\n",
              " 'late': 108,\n",
              " 'bombing': 109,\n",
              " 'mass': 110,\n",
              " 'hostage': 111,\n",
              " 'school': 112,\n",
              " 'leave': 113,\n",
              " 'hot': 114,\n",
              " 'head': 115,\n",
              " 'u': 116,\n",
              " '1': 117,\n",
              " 'woman': 118,\n",
              " 'damage': 119,\n",
              " 'forest': 120,\n",
              " 'photo': 121,\n",
              " 'black': 122,\n",
              " 'read': 123,\n",
              " 'stop': 124,\n",
              " 'fatality': 125,\n",
              " 'uo': 126,\n",
              " 'house': 127,\n",
              " 'old': 128,\n",
              " 'crush': 129,\n",
              " 'detonate': 130,\n",
              " 'hear': 131,\n",
              " 'northern': 132,\n",
              " 'water': 133,\n",
              " 'fatal': 134,\n",
              " 'try': 135,\n",
              " 'break': 136,\n",
              " 'set': 137,\n",
              " 'hit': 138,\n",
              " 'obama': 139,\n",
              " 'demolish': 140,\n",
              " 'confirm': 141,\n",
              " 'electrocute': 142,\n",
              " 'bomber': 143,\n",
              " 'casualty': 144,\n",
              " 'legionnaire': 145,\n",
              " 'change': 146,\n",
              " 'oh': 147,\n",
              " 'hour': 148,\n",
              " 'flame': 149,\n",
              " 'deluge': 150,\n",
              " 'rain': 151,\n",
              " 'play': 152,\n",
              " '2015': 153,\n",
              " 'start': 154,\n",
              " 'issue': 155,\n",
              " 'release': 156,\n",
              " 'atomic': 157,\n",
              " 'content': 158,\n",
              " 'obliterate': 159,\n",
              " 'siren': 160,\n",
              " 'hope': 161,\n",
              " 'reddit': 162,\n",
              " 'near': 163,\n",
              " 'shit': 164,\n",
              " 'end': 165,\n",
              " 'riot': 166,\n",
              " 'thunderstorm': 167,\n",
              " 'cross': 168,\n",
              " 'oil': 169,\n",
              " 'update': 170,\n",
              " 'movie': 171,\n",
              " 'wind': 172,\n",
              " 'earthquake': 173,\n",
              " 'smoke': 174,\n",
              " 'night': 175,\n",
              " 'truck': 176,\n",
              " 'face': 177,\n",
              " 'japan': 178,\n",
              " 'send': 179,\n",
              " 'happen': 180,\n",
              " 'sign': 181,\n",
              " 'pick': 182,\n",
              " 'military': 183,\n",
              " 'charge': 184,\n",
              " 'injure': 185,\n",
              " 'evacuation': 186,\n",
              " 'tell': 187,\n",
              " 'state': 188,\n",
              " 'weather': 189,\n",
              " 'boy': 190,\n",
              " 'girl': 191,\n",
              " 'post': 192,\n",
              " 'game': 193,\n",
              " 'debris': 194,\n",
              " 'story': 195,\n",
              " 'malaysia': 196,\n",
              " 'm': 197,\n",
              " 'guy': 198,\n",
              " 'murder': 199,\n",
              " 'high': 200,\n",
              " 'sound': 201,\n",
              " 'bus': 202,\n",
              " 'suspect': 203,\n",
              " 'official': 204,\n",
              " 'terrorist': 205,\n",
              " 'area': 206,\n",
              " 'w': 207,\n",
              " 'trap': 208,\n",
              " 'little': 209,\n",
              " 'food': 210,\n",
              " 'wild': 211,\n",
              " 'fan': 212,\n",
              " 'severe': 213,\n",
              " 'check': 214,\n",
              " '40': 215,\n",
              " 'road': 216,\n",
              " 'job': 217,\n",
              " 'child': 218,\n",
              " 'blaze': 219,\n",
              " 'hurricane': 220,\n",
              " 'migrant': 221,\n",
              " 'shoot': 222,\n",
              " 'lightning': 223,\n",
              " 'natural': 224,\n",
              " 'ruin': 225,\n",
              " 'spill': 226,\n",
              " 'thunder': 227,\n",
              " 'heat': 228,\n",
              " 'bloody': 229,\n",
              " 'lead': 230,\n",
              " '70': 231,\n",
              " 'refugee': 232,\n",
              " 'summer': 233,\n",
              " 'week': 234,\n",
              " 'fight': 235,\n",
              " 'lot': 236,\n",
              " 'hail': 237,\n",
              " 'light': 238,\n",
              " 'business': 239,\n",
              " 'drive': 240,\n",
              " 'free': 241,\n",
              " 'blood': 242,\n",
              " 'yous': 243,\n",
              " 'warning': 244,\n",
              " 'battle': 245,\n",
              " 'baby': 246,\n",
              " 'bridge': 247,\n",
              " 'tonight': 248,\n",
              " 'turn': 249,\n",
              " 'explosion': 250,\n",
              " 'minute': 251,\n",
              " 'air': 252,\n",
              " 'wake': 253,\n",
              " 'ambulance': 254,\n",
              " '10': 255,\n",
              " 'long': 256,\n",
              " 'failure': 257,\n",
              " 'wreckage': 258,\n",
              " 'outbreak': 259,\n",
              " 'remember': 260,\n",
              " 'island': 261,\n",
              " 'eye': 262,\n",
              " 'phone': 263,\n",
              " 'national': 264,\n",
              " 'survivor': 265,\n",
              " 'saudi': 266,\n",
              " 'derailment': 267,\n",
              " 'affect': 268,\n",
              " 'sinkhole': 269,\n",
              " 'lose': 270,\n",
              " 'market': 271,\n",
              " 'bring': 272,\n",
              " 'care': 273,\n",
              " 'heart': 274,\n",
              " 'trauma': 275,\n",
              " 'destruction': 276,\n",
              " 'land': 277,\n",
              " 'rise': 278,\n",
              " 'displace': 279,\n",
              " 'harm': 280,\n",
              " 'county': 281,\n",
              " 'wait': 282,\n",
              " 'kid': 283,\n",
              " 'fucking': 284,\n",
              " 'follow': 285,\n",
              " 'real': 286,\n",
              " 'group': 287,\n",
              " 'word': 288,\n",
              " 'drought': 289,\n",
              " 'catastrophe': 290,\n",
              " 'landslide': 291,\n",
              " 'dust': 292,\n",
              " 'twister': 293,\n",
              " 'officer': 294,\n",
              " 'order': 295,\n",
              " 'tornado': 296,\n",
              " 'use': 297,\n",
              " 'win': 298,\n",
              " '15': 299,\n",
              " 'ship': 300,\n",
              " 'soon': 301,\n",
              " 'red': 302,\n",
              " 'armageddon': 303,\n",
              " 'friend': 304,\n",
              " 'violent': 305,\n",
              " 'white': 306,\n",
              " 'boat': 307,\n",
              " 'danger': 308,\n",
              " 'stock': 309,\n",
              " 'structural': 310,\n",
              " 'sandstorm': 311,\n",
              " 'whirlwind': 312,\n",
              " 'mean': 313,\n",
              " '9': 314,\n",
              " 'possible': 315,\n",
              " 'hold': 316,\n",
              " 'search': 317,\n",
              " 'effect': 318,\n",
              " 'cliff': 319,\n",
              " 'curfew': 320,\n",
              " 'mudslide': 321,\n",
              " 'place': 322,\n",
              " 'cool': 323,\n",
              " 'horrible': 324,\n",
              " 'past': 325,\n",
              " 'airplane': 326,\n",
              " 'learn': 327,\n",
              " 'ok': 328,\n",
              " 'mosque': 329,\n",
              " 'blast': 330,\n",
              " 'wanna': 331,\n",
              " 'tragedy': 332,\n",
              " 'anniversary': 333,\n",
              " 'rescuer': 334,\n",
              " 'hazardous': 335,\n",
              " 'chemical': 336,\n",
              " 'devastation': 337,\n",
              " 'bang': 338,\n",
              " 'raze': 339,\n",
              " 'windstorm': 340,\n",
              " 'flooding': 341,\n",
              " 'second': 342,\n",
              " 'plane': 343,\n",
              " 'iran': 344,\n",
              " 'case': 345,\n",
              " 'link': 346,\n",
              " 'song': 347,\n",
              " 'away': 348,\n",
              " 'power': 349,\n",
              " 'fedex': 350,\n",
              " 'pic': 351,\n",
              " 'best': 352,\n",
              " 'hazard': 353,\n",
              " 'ban': 354,\n",
              " 'tsunami': 355,\n",
              " 'famine': 356,\n",
              " 'inundate': 357,\n",
              " 'lava': 358,\n",
              " 'st': 359,\n",
              " 'talk': 360,\n",
              " 'mile': 361,\n",
              " 'reunion': 362,\n",
              " 'government': 363,\n",
              " 'ebay': 364,\n",
              " 'annihilate': 365,\n",
              " 'project': 366,\n",
              " 'river': 367,\n",
              " 'apocalypse': 368,\n",
              " 'august': 369,\n",
              " 'tomorrow': 370,\n",
              " 'shoulder': 371,\n",
              " 'stay': 372,\n",
              " 'person': 373,\n",
              " 'deal': 374,\n",
              " 'bioterror': 375,\n",
              " 'lady': 376,\n",
              " 'half': 377,\n",
              " 'volcano': 378,\n",
              " 'traumatise': 379,\n",
              " 'catastrophic': 380,\n",
              " 'desolation': 381,\n",
              " 'trouble': 382,\n",
              " 'hellfire': 383,\n",
              " 'swallow': 384,\n",
              " 'expect': 385,\n",
              " 'meltdown': 386,\n",
              " 'book': 387,\n",
              " 'zone': 388,\n",
              " 'point': 389,\n",
              " 'catch': 390,\n",
              " 'calgary': 391,\n",
              " 'bleed': 392,\n",
              " '6': 393,\n",
              " 'collision': 394,\n",
              " 'typhoon': 395,\n",
              " 'engulf': 396,\n",
              " 'hijacker': 397,\n",
              " 'massacre': 398,\n",
              " '20': 399,\n",
              " 'close': 400,\n",
              " 'street': 401,\n",
              " 'traffic': 402,\n",
              " '8': 403,\n",
              " 'airport': 404,\n",
              " 'believe': 405,\n",
              " 'twitter': 406,\n",
              " 'beautiful': 407,\n",
              " 'sure': 408,\n",
              " '7': 409,\n",
              " 'security': 410,\n",
              " 'pkk': 411,\n",
              " 'responder': 412,\n",
              " 'demolition': 413,\n",
              " 'detonation': 414,\n",
              " 'declare': 415,\n",
              " 'murderer': 416,\n",
              " 'pandemonium': 417,\n",
              " 'rainstorm': 418,\n",
              " 'reason': 419,\n",
              " 'ask': 420,\n",
              " 'site': 421,\n",
              " 'begin': 422,\n",
              " 'terrorism': 423,\n",
              " 'gun': 424,\n",
              " '50': 425,\n",
              " 'longer': 426,\n",
              " 'level': 427,\n",
              " 'eyewitness': 428,\n",
              " 'flatten': 429,\n",
              " 'hijack': 430,\n",
              " 'hijacking': 431,\n",
              " 'prebreak': 432,\n",
              " 'york': 433,\n",
              " 'build': 434,\n",
              " 'inside': 435,\n",
              " '30': 436,\n",
              " 'block': 437,\n",
              " 'health': 438,\n",
              " 'fun': 439,\n",
              " 'share': 440,\n",
              " 'arson': 441,\n",
              " 'force': 442,\n",
              " 'music': 443,\n",
              " 'star': 444,\n",
              " 'lab': 445,\n",
              " 'policy': 446,\n",
              " 'km': 447,\n",
              " 'cyclone': 448,\n",
              " 'sue': 449,\n",
              " 'obliteration': 450,\n",
              " 'far': 451,\n",
              " 'ablaze': 452,\n",
              " 'support': 453,\n",
              " 'actually': 454,\n",
              " 'stand': 455,\n",
              " 'hate': 456,\n",
              " 'country': 457,\n",
              " 'horror': 458,\n",
              " 'bar': 459,\n",
              " 'israeli': 460,\n",
              " 'walk': 461,\n",
              " 'line': 462,\n",
              " 'open': 463,\n",
              " 'large': 464,\n",
              " 'low': 465,\n",
              " 'turkey': 466,\n",
              " 'bush': 467,\n",
              " '16yr': 468,\n",
              " 'upheaval': 469,\n",
              " 'south': 470,\n",
              " 'north': 471,\n",
              " 'brown': 472,\n",
              " '12': 473,\n",
              " 'helicopter': 474,\n",
              " 'dog': 475,\n",
              " 'p': 476,\n",
              " 'add': 477,\n",
              " 'india': 478,\n",
              " 'team': 479,\n",
              " 'listen': 480,\n",
              " 'transport': 481,\n",
              " 'action': 482,\n",
              " 'computer': 483,\n",
              " 'reu': 484,\n",
              " 'crew': 485,\n",
              " '60': 486,\n",
              " 'nearby': 487,\n",
              " 'mp': 488,\n",
              " 'seismic': 489,\n",
              " 'reactor': 490,\n",
              " 'la': 491,\n",
              " 'd': 492,\n",
              " 'grow': 493,\n",
              " 't': 494,\n",
              " 'victim': 495,\n",
              " 'ago': 496,\n",
              " 'rule': 497,\n",
              " 'american': 498,\n",
              " 'medium': 499,\n",
              " 'tweet': 500,\n",
              " 'avalanche': 501,\n",
              " 'yes': 502,\n",
              " 'strike': 503,\n",
              " 'tree': 504,\n",
              " 'rubble': 505,\n",
              " 'flag': 506,\n",
              " 'outside': 507,\n",
              " 'west': 508,\n",
              " 'aircraft': 509,\n",
              " 'history': 510,\n",
              " 'bc': 511,\n",
              " 'peace': 512,\n",
              " 'pay': 513,\n",
              " 'tv': 514,\n",
              " 'sit': 515,\n",
              " 'yeah': 516,\n",
              " 'view': 517,\n",
              " 'blight': 518,\n",
              " 'handbag': 519,\n",
              " 'spot': 520,\n",
              " 'memory': 521,\n",
              " 'soudelor': 522,\n",
              " 'isis': 523,\n",
              " 'abc': 524,\n",
              " 'saipan': 525,\n",
              " 'snowstorm': 526,\n",
              " 'conclusively': 527,\n",
              " 'fast': 528,\n",
              " 'month': 529,\n",
              " 'secret': 530,\n",
              " 'center': 531,\n",
              " 'vehicle': 532,\n",
              " 'hell': 533,\n",
              " 'maybe': 534,\n",
              " 'allow': 535,\n",
              " 'hand': 536,\n",
              " 'claim': 537,\n",
              " 'act': 538,\n",
              " 'cover': 539,\n",
              " 'cake': 540,\n",
              " 'blizzard': 541,\n",
              " 'money': 542,\n",
              " 'coach': 543,\n",
              " 'course': 544,\n",
              " 'knock': 545,\n",
              " 'stretcher': 546,\n",
              " 'bestnaijamade': 547,\n",
              " 'arsonist': 548,\n",
              " 'finally': 549,\n",
              " 'aftershock': 550,\n",
              " 'global': 551,\n",
              " 'moment': 552,\n",
              " 'reuters': 553,\n",
              " 'couple': 554,\n",
              " 'pass': 555,\n",
              " 'ball': 556,\n",
              " 'hey': 557,\n",
              " 'buy': 558,\n",
              " 'datum': 559,\n",
              " 'control': 560,\n",
              " 'amid': 561,\n",
              " 'town': 562,\n",
              " 'okay': 563,\n",
              " 'damn': 564,\n",
              " 'feeling': 565,\n",
              " 'literally': 566,\n",
              " 'space': 567,\n",
              " 'bioterrorism': 568,\n",
              " 'hollywood': 569,\n",
              " 'pretty': 570,\n",
              " 'online': 571,\n",
              " 'midday': 572,\n",
              " 'rock': 573,\n",
              " 'probably': 574,\n",
              " 'village': 575,\n",
              " 'china': 576,\n",
              " 'manslaughter': 577,\n",
              " 'rioting': 578,\n",
              " 'thousand': 579,\n",
              " 'happy': 580,\n",
              " 'america': 581,\n",
              " 'mom': 582,\n",
              " 'expert': 583,\n",
              " 'number': 584,\n",
              " 'annihilation': 585,\n",
              " 'human': 586,\n",
              " 'class': 587,\n",
              " 'crisis': 588,\n",
              " 'date': 589,\n",
              " 'leather': 590,\n",
              " 'seek': 591,\n",
              " 'firefighter': 592,\n",
              " 'morning': 593,\n",
              " 'giant': 594,\n",
              " 'warn': 595,\n",
              " 'chance': 596,\n",
              " 'company': 597,\n",
              " 'wonder': 598,\n",
              " 'desolate': 599,\n",
              " 'trench': 600,\n",
              " 'hat': 601,\n",
              " 'refugio': 602,\n",
              " 'costlier': 603,\n",
              " 'miner': 604,\n",
              " 'lord': 605,\n",
              " 'r': 606,\n",
              " 'hard': 607,\n",
              " 'shot': 608,\n",
              " 'huge': 609,\n",
              " 'daily': 610,\n",
              " 'avoid': 611,\n",
              " 'crazy': 612,\n",
              " '11': 613,\n",
              " 'trust': 614,\n",
              " 'total': 615,\n",
              " 'usa': 616,\n",
              " 'self': 617,\n",
              " 'major': 618,\n",
              " 'escape': 619,\n",
              " 'prepare': 620,\n",
              " 'million': 621,\n",
              " 'texas': 622,\n",
              " 'mount': 623,\n",
              " 'youth': 624,\n",
              " 'pron': 625,\n",
              " 'favorite': 626,\n",
              " 'problem': 627,\n",
              " 'nearly': 628,\n",
              " 'result': 629,\n",
              " 'idea': 630,\n",
              " 'angry': 631,\n",
              " 'alarm': 632,\n",
              " '11yearold': 633,\n",
              " 'mayhem': 634,\n",
              " 'offensive': 635,\n",
              " 'heavy': 636,\n",
              " 'flash': 637,\n",
              " 'haha': 638,\n",
              " 'cry': 639,\n",
              " 'rd': 640,\n",
              " 'information': 641,\n",
              " 'wrong': 642,\n",
              " 'pakistan': 643,\n",
              " 'sorry': 644,\n",
              " 'film': 645,\n",
              " 'radio': 646,\n",
              " 'b': 647,\n",
              " 'toddler': 648,\n",
              " 'united': 649,\n",
              " 'blue': 650,\n",
              " 'east': 651,\n",
              " 'capture': 652,\n",
              " 'beach': 653,\n",
              " 'militant': 654,\n",
              " 'christian': 655,\n",
              " 'create': 656,\n",
              " 'anthrax': 657,\n",
              " 'mishap': 658,\n",
              " 'carry': 659,\n",
              " 'test': 660,\n",
              " 'gem': 661,\n",
              " 'entire': 662,\n",
              " 'meek': 663,\n",
              " 'appear': 664,\n",
              " 'russian': 665,\n",
              " 'aug': 666,\n",
              " 'gbbo': 667,\n",
              " 'camp': 668,\n",
              " 'continue': 669,\n",
              " '13': 670,\n",
              " 'ignition': 671,\n",
              " 'typhoondevastate': 672,\n",
              " 'hailstorm': 673,\n",
              " 'investigators': 674,\n",
              " 'member': 675,\n",
              " 'worry': 676,\n",
              " 'target': 677,\n",
              " 'park': 678,\n",
              " 'poor': 679,\n",
              " 'totally': 680,\n",
              " '100': 681,\n",
              " 'arrest': 682,\n",
              " 'green': 683,\n",
              " 'lie': 684,\n",
              " 'temple': 685,\n",
              " 'public': 686,\n",
              " 'central': 687,\n",
              " 'mad': 688,\n",
              " 'agree': 689,\n",
              " 'pain': 690,\n",
              " '25': 691,\n",
              " 'art': 692,\n",
              " 'wow': 693,\n",
              " 'drake': 694,\n",
              " 'centre': 695,\n",
              " 'exchange': 696,\n",
              " 'emmerdale': 697,\n",
              " 'flight': 698,\n",
              " 'quiz': 699,\n",
              " 'passenger': 700,\n",
              " 'declaration': 701,\n",
              " 'islam': 702,\n",
              " 'disea': 703,\n",
              " 'myanmar': 704,\n",
              " 'arrive': 705,\n",
              " 'sky': 706,\n",
              " 'climate': 707,\n",
              " 'nowplaye': 708,\n",
              " 'involve': 709,\n",
              " 'risk': 710,\n",
              " 'travel': 711,\n",
              " 'property': 712,\n",
              " 'bed': 713,\n",
              " 'cop': 714,\n",
              " 'early': 715,\n",
              " 'driver': 716,\n",
              " 'ready': 717,\n",
              " 'horse': 718,\n",
              " 'vs': 719,\n",
              " 'soul': 720,\n",
              " 'question': 721,\n",
              " 'till': 722,\n",
              " 'track': 723,\n",
              " 'hero': 724,\n",
              " 'times': 725,\n",
              " 'pray': 726,\n",
              " 'drink': 727,\n",
              " 'hire': 728,\n",
              " 'civilian': 729,\n",
              " 'muslims': 730,\n",
              " 'fukushima': 731,\n",
              " 'king': 732,\n",
              " 'germ': 733,\n",
              " 'cut': 734,\n",
              " 'deliver': 735,\n",
              " 'dude': 736,\n",
              " 'shake': 737,\n",
              " 'x': 738,\n",
              " 'mark': 739,\n",
              " 'record': 740,\n",
              " 'investigate': 741,\n",
              " 'thursday': 742,\n",
              " 'downtown': 743,\n",
              " 'insurance': 744,\n",
              " 'return': 745,\n",
              " 'christ': 746,\n",
              " 'instead': 747,\n",
              " 'download': 748,\n",
              " 'uk': 749,\n",
              " 'virgin': 750,\n",
              " 'chile': 751,\n",
              " 'season': 752,\n",
              " 'awesome': 753,\n",
              " 'better': 754,\n",
              " 'student': 755,\n",
              " 'scene': 756,\n",
              " 'comment': 757,\n",
              " 'dance': 758,\n",
              " 'israel': 759,\n",
              " 'spend': 760,\n",
              " '05': 761,\n",
              " 'disease': 762,\n",
              " 'govt': 763,\n",
              " 'g': 764,\n",
              " 'vote': 765,\n",
              " 'womens': 766,\n",
              " 'true': 767,\n",
              " 'theater': 768,\n",
              " 'gop': 769,\n",
              " 'piece': 770,\n",
              " 'occur': 771,\n",
              " 'event': 772,\n",
              " 'foot': 773,\n",
              " 'tote': 774,\n",
              " 'bagging': 775,\n",
              " 'room': 776,\n",
              " 'drop': 777,\n",
              " 'nagasaki': 778,\n",
              " '120': 779,\n",
              " 'guide': 780,\n",
              " 'outrage': 781,\n",
              " 'brother': 782,\n",
              " 'british': 783,\n",
              " 'patience': 784,\n",
              " 'madhya': 785,\n",
              " 'pradesh': 786,\n",
              " 'cost': 787,\n",
              " 'investigator': 788,\n",
              " 'lamp': 789,\n",
              " 'funtenna': 790,\n",
              " 'ancient': 791,\n",
              " 'subreddit': 792,\n",
              " 'lake': 793,\n",
              " 'colorado': 794,\n",
              " 'safe': 795,\n",
              " 'sleep': 796,\n",
              " 'owner': 797,\n",
              " 'guess': 798,\n",
              " 'kick': 799,\n",
              " 'france': 800,\n",
              " 'wednesday': 801,\n",
              " 'mode': 802,\n",
              " 'pakistani': 803,\n",
              " 'respond': 804,\n",
              " 'pull': 805,\n",
              " 'pile': 806,\n",
              " 'join': 807,\n",
              " 'mountain': 808,\n",
              " 'beat': 809,\n",
              " 'russia': 810,\n",
              " 'mop': 811,\n",
              " 'forget': 812,\n",
              " 'steal': 813,\n",
              " 'shift': 814,\n",
              " 'pamela': 815,\n",
              " 'answer': 816,\n",
              " 'write': 817,\n",
              " 'young': 818,\n",
              " 'ebola': 819,\n",
              " 'threat': 820,\n",
              " 'party': 821,\n",
              " 'info': 822,\n",
              " 'wall': 823,\n",
              " 'meet': 824,\n",
              " 'fashion': 825,\n",
              " 'middle': 826,\n",
              " 'gunman': 827,\n",
              " '70th': 828,\n",
              " 'likely': 829,\n",
              " 'desire': 830,\n",
              " 'press': 831,\n",
              " 'strong': 832,\n",
              " 'image': 833,\n",
              " 'animal': 834,\n",
              " 'sea': 835,\n",
              " 'cat': 836,\n",
              " 'nws': 837,\n",
              " 'bayelsa': 838,\n",
              " 'nigerian': 839,\n",
              " 'parole': 840,\n",
              " 'unconfirme': 841,\n",
              " 'neighbour': 842,\n",
              " 'rly': 843,\n",
              " 'galactic': 844,\n",
              " 'direction': 845,\n",
              " '19': 846,\n",
              " 'london': 847,\n",
              " 'teen': 848,\n",
              " '16': 849,\n",
              " 'include': 850,\n",
              " 'career': 851,\n",
              " 'safety': 852,\n",
              " 'fact': 853,\n",
              " 'review': 854,\n",
              " 'mention': 855,\n",
              " 'dad': 856,\n",
              " 'scare': 857,\n",
              " 'enjoy': 858,\n",
              " 'series': 859,\n",
              " 'bear': 860,\n",
              " 'door': 861,\n",
              " 'department': 862,\n",
              " 'sport': 863,\n",
              " 'japanese': 864,\n",
              " 'struggle': 865,\n",
              " 'terror': 866,\n",
              " 'geller': 867,\n",
              " 'unit': 868,\n",
              " 'album': 869,\n",
              " 'playlist': 870,\n",
              " 'research': 871,\n",
              " 'ahead': 872,\n",
              " 'niggas': 873,\n",
              " 'feature': 874,\n",
              " 'cold': 875,\n",
              " 'bitch': 876,\n",
              " 'throw': 877,\n",
              " 'deep': 878,\n",
              " 'super': 879,\n",
              " 'small': 880,\n",
              " 'washington': 881,\n",
              " 'feed': 882,\n",
              " 'shape': 883,\n",
              " 'parent': 884,\n",
              " 'sex': 885,\n",
              " 'freak': 886,\n",
              " 'account': 887,\n",
              " 'rate': 888,\n",
              " 'sad': 889,\n",
              " 'donuat': 890,\n",
              " 'gas': 891,\n",
              " 'disney': 892,\n",
              " 'devastate': 893,\n",
              " 'spring': 894,\n",
              " 'apollo': 895,\n",
              " 'map': 896,\n",
              " 'cree': 897,\n",
              " 'sick': 898,\n",
              " 'provoke': 899,\n",
              " 'cdt': 900,\n",
              " 'eat': 901,\n",
              " 'aba': 902,\n",
              " 'office': 903,\n",
              " 'single': 904,\n",
              " 'wish': 905,\n",
              " 'dr': 906,\n",
              " 'pilot': 907,\n",
              " 'rip': 908,\n",
              " 'bit': 909,\n",
              " 'nigga': 910,\n",
              " 'match': 911,\n",
              " 'salt': 912,\n",
              " 'queen': 913,\n",
              " 'base': 914,\n",
              " 'earth': 915,\n",
              " 'funny': 916,\n",
              " 'crime': 917,\n",
              " 'notice': 918,\n",
              " 'system': 919,\n",
              " 'nice': 920,\n",
              " 'remove': 921,\n",
              " 'blame': 922,\n",
              " 'court': 923,\n",
              " 'internet': 924,\n",
              " 'fly': 925,\n",
              " 'general': 926,\n",
              " 'australia': 927,\n",
              " 'weekend': 928,\n",
              " 'wedding': 929,\n",
              " 'tear': 930,\n",
              " 'character': 931,\n",
              " 'matter': 932,\n",
              " 'community': 933,\n",
              " 'article': 934,\n",
              " 'estimate': 935,\n",
              " 'standard': 936,\n",
              " 'glad': 937,\n",
              " 'board': 938,\n",
              " 'libya': 939,\n",
              " 'ground': 940,\n",
              " 'crane': 941,\n",
              " 'threaten': 942,\n",
              " 'different': 943,\n",
              " 'reduce': 944,\n",
              " 'landing': 945,\n",
              " 'cable': 946,\n",
              " 'de': 947,\n",
              " 'taiwan': 948,\n",
              " 'interesting': 949,\n",
              " 'med': 950,\n",
              " 'message': 951,\n",
              " 'marian': 952,\n",
              " 'coast': 953,\n",
              " 'abandon': 954,\n",
              " 'crematoria': 955,\n",
              " 'offroad': 956,\n",
              " 'jonathan': 957,\n",
              " 'governor': 958,\n",
              " 'alabama': 959,\n",
              " 'recount': 960,\n",
              " 'canada': 961,\n",
              " 'metal': 962,\n",
              " 'visit': 963,\n",
              " '2013': 964,\n",
              " 'lane': 965,\n",
              " 'double': 966,\n",
              " 'financial': 967,\n",
              " 'dream': 968,\n",
              " 'o': 969,\n",
              " '17': 970,\n",
              " 'episode': 971,\n",
              " '24': 972,\n",
              " 'version': 973,\n",
              " 'mod': 974,\n",
              " 'box': 975,\n",
              " 'sense': 976,\n",
              " 'window': 977,\n",
              " 'fail': 978,\n",
              " 'udhampur': 979,\n",
              " 'response': 980,\n",
              " 'complete': 981,\n",
              " 'louis': 982,\n",
              " 'original': 983,\n",
              " 'dc': 984,\n",
              " 'list': 985,\n",
              " 'technology': 986,\n",
              " 'hair': 987,\n",
              " 'loss': 988,\n",
              " 'e': 989,\n",
              " 'experience': 990,\n",
              " 'picture': 991,\n",
              " 'sun': 992,\n",
              " 'text': 993,\n",
              " 'glass': 994,\n",
              " 'hurt': 995,\n",
              " 'friday': 996,\n",
              " 'killer': 997,\n",
              " 'soldier': 998,\n",
              " 'mind': 999,\n",
              " 'faux': 1000,\n",
              " ...}"
            ]
          },
          "metadata": {},
          "execution_count": 39
        }
      ]
    },
    {
      "cell_type": "code",
      "metadata": {
        "colab": {
          "base_uri": "https://localhost:8080/"
        },
        "id": "M6lP_uCskc7_",
        "outputId": "84d075e5-7c7f-477e-fcad-6bc9e9ad4c38"
      },
      "source": [
        "vocab_size = len(tokenizer.word_index) + 1\n",
        "vocab_size"
      ],
      "execution_count": 40,
      "outputs": [
        {
          "output_type": "execute_result",
          "data": {
            "text/plain": [
              "15745"
            ]
          },
          "metadata": {},
          "execution_count": 40
        }
      ]
    },
    {
      "cell_type": "markdown",
      "metadata": {
        "id": "VgOETjLlvxji"
      },
      "source": [
        "## **Building the baseline simple RNN model**"
      ]
    },
    {
      "cell_type": "markdown",
      "metadata": {
        "id": "__SQPvG97d5A"
      },
      "source": [
        "##### **Finding the size of the longest sequence**"
      ]
    },
    {
      "cell_type": "code",
      "metadata": {
        "colab": {
          "base_uri": "https://localhost:8080/",
          "height": 598
        },
        "id": "HzRjDAflYE6I",
        "outputId": "873c2d4d-3827-4eb6-9852-968a0a63aaa2"
      },
      "source": [
        "tweet[\"number_encoded\"] = tweet[\"tweet_encoded\"].apply(lambda x: len(x))\n",
        "tweet.head()"
      ],
      "execution_count": 41,
      "outputs": [
        {
          "output_type": "execute_result",
          "data": {
            "text/html": [
              "<div>\n",
              "<style scoped>\n",
              "    .dataframe tbody tr th:only-of-type {\n",
              "        vertical-align: middle;\n",
              "    }\n",
              "\n",
              "    .dataframe tbody tr th {\n",
              "        vertical-align: top;\n",
              "    }\n",
              "\n",
              "    .dataframe thead th {\n",
              "        text-align: right;\n",
              "    }\n",
              "</style>\n",
              "<table border=\"1\" class=\"dataframe\">\n",
              "  <thead>\n",
              "    <tr style=\"text-align: right;\">\n",
              "      <th></th>\n",
              "      <th>text</th>\n",
              "      <th>target</th>\n",
              "      <th>char_counts</th>\n",
              "      <th>word_counts</th>\n",
              "      <th>avg_wordlength</th>\n",
              "      <th>stopwords_counts</th>\n",
              "      <th>hashtag_counts</th>\n",
              "      <th>mentions_counts</th>\n",
              "      <th>digits_counts</th>\n",
              "      <th>uppercase_counts</th>\n",
              "      <th>text_wostop</th>\n",
              "      <th>tweet_encoded</th>\n",
              "      <th>tweet_word</th>\n",
              "      <th>number_encoded</th>\n",
              "    </tr>\n",
              "  </thead>\n",
              "  <tbody>\n",
              "    <tr>\n",
              "      <th>0</th>\n",
              "      <td>our deeds are the reason of this earthquake ma...</td>\n",
              "      <td>1</td>\n",
              "      <td>57</td>\n",
              "      <td>13</td>\n",
              "      <td>4.384615</td>\n",
              "      <td>6</td>\n",
              "      <td>1</td>\n",
              "      <td>0</td>\n",
              "      <td>0</td>\n",
              "      <td>1</td>\n",
              "      <td>deed reason earthquake allah forgive</td>\n",
              "      <td>[3654, 419, 173, 1362, 1926]</td>\n",
              "      <td>36</td>\n",
              "      <td>5</td>\n",
              "    </tr>\n",
              "    <tr>\n",
              "      <th>1</th>\n",
              "      <td>forest fire near la ronge sask canada</td>\n",
              "      <td>1</td>\n",
              "      <td>32</td>\n",
              "      <td>7</td>\n",
              "      <td>4.571429</td>\n",
              "      <td>0</td>\n",
              "      <td>0</td>\n",
              "      <td>0</td>\n",
              "      <td>1</td>\n",
              "      <td>0</td>\n",
              "      <td>forest fire near la ronge sask canada</td>\n",
              "      <td>[120, 2, 163, 491, 5504, 5505, 961]</td>\n",
              "      <td>37</td>\n",
              "      <td>7</td>\n",
              "    </tr>\n",
              "    <tr>\n",
              "      <th>2</th>\n",
              "      <td>all residents asked to shelter in place are be...</td>\n",
              "      <td>1</td>\n",
              "      <td>112</td>\n",
              "      <td>22</td>\n",
              "      <td>5.090909</td>\n",
              "      <td>9</td>\n",
              "      <td>0</td>\n",
              "      <td>0</td>\n",
              "      <td>1</td>\n",
              "      <td>0</td>\n",
              "      <td>resident ask shelter place notify officer evac...</td>\n",
              "      <td>[1363, 420, 1677, 322, 5506, 294, 186, 1677, 3...</td>\n",
              "      <td>79</td>\n",
              "      <td>11</td>\n",
              "    </tr>\n",
              "    <tr>\n",
              "      <th>3</th>\n",
              "      <td>130 people receive wildfires evacuation orders...</td>\n",
              "      <td>1</td>\n",
              "      <td>57</td>\n",
              "      <td>8</td>\n",
              "      <td>7.125000</td>\n",
              "      <td>1</td>\n",
              "      <td>1</td>\n",
              "      <td>0</td>\n",
              "      <td>1</td>\n",
              "      <td>0</td>\n",
              "      <td>130 people receive wildfire evacuation order c...</td>\n",
              "      <td>[2306, 4, 2307, 70, 186, 295, 33]</td>\n",
              "      <td>55</td>\n",
              "      <td>7</td>\n",
              "    </tr>\n",
              "    <tr>\n",
              "      <th>4</th>\n",
              "      <td>just got sent this photo from ruby alaska as s...</td>\n",
              "      <td>1</td>\n",
              "      <td>72</td>\n",
              "      <td>16</td>\n",
              "      <td>4.500000</td>\n",
              "      <td>6</td>\n",
              "      <td>2</td>\n",
              "      <td>0</td>\n",
              "      <td>0</td>\n",
              "      <td>0</td>\n",
              "      <td>send photo ruby alaska smoke wildfire pour school</td>\n",
              "      <td>[179, 121, 5507, 1678, 174, 70, 2308, 112]</td>\n",
              "      <td>49</td>\n",
              "      <td>8</td>\n",
              "    </tr>\n",
              "  </tbody>\n",
              "</table>\n",
              "</div>"
            ],
            "text/plain": [
              "                                                text  ...  number_encoded\n",
              "0  our deeds are the reason of this earthquake ma...  ...               5\n",
              "1              forest fire near la ronge sask canada  ...               7\n",
              "2  all residents asked to shelter in place are be...  ...              11\n",
              "3  130 people receive wildfires evacuation orders...  ...               7\n",
              "4  just got sent this photo from ruby alaska as s...  ...               8\n",
              "\n",
              "[5 rows x 14 columns]"
            ]
          },
          "metadata": {},
          "execution_count": 41
        }
      ]
    },
    {
      "cell_type": "code",
      "metadata": {
        "colab": {
          "base_uri": "https://localhost:8080/"
        },
        "id": "vI4RXm6pa-Wf",
        "outputId": "cf7a4a2a-d03e-493c-c5ee-44a9e0be9f44"
      },
      "source": [
        "tweet.number_encoded.max()"
      ],
      "execution_count": 42,
      "outputs": [
        {
          "output_type": "execute_result",
          "data": {
            "text/plain": [
              "24"
            ]
          },
          "metadata": {},
          "execution_count": 42
        }
      ]
    },
    {
      "cell_type": "markdown",
      "metadata": {
        "id": "_GV1R6AdbZm6"
      },
      "source": [
        "##### **Padding the sequences so that all the tweets are of equal lengths**"
      ]
    },
    {
      "cell_type": "code",
      "metadata": {
        "id": "MuSMxXgl6xT8"
      },
      "source": [
        "tweets_pad = tf.keras.preprocessing.sequence.pad_sequences(tweet.tweet_encoded, maxlen=24, padding=\"post\")"
      ],
      "execution_count": 43,
      "outputs": []
    },
    {
      "cell_type": "code",
      "metadata": {
        "colab": {
          "base_uri": "https://localhost:8080/"
        },
        "id": "-jcslgRG5iKN",
        "outputId": "a6d39f0a-33f8-41f2-a48e-e80abc712913"
      },
      "source": [
        "tweets_pad[7000]"
      ],
      "execution_count": 44,
      "outputs": [
        {
          "output_type": "execute_result",
          "data": {
            "text/plain": [
              "array([   22,   586,  5438,   586,  5438, 15040,  1612,   293, 15041,\n",
              "           0,     0,     0,     0,     0,     0,     0,     0,     0,\n",
              "           0,     0,     0,     0,     0,     0], dtype=int32)"
            ]
          },
          "metadata": {},
          "execution_count": 44
        }
      ]
    },
    {
      "cell_type": "markdown",
      "metadata": {
        "id": "H2dJlglN7pM-"
      },
      "source": [
        "##### **Getting the slices of the array in the form of Python objects**"
      ]
    },
    {
      "cell_type": "code",
      "metadata": {
        "id": "bxiB90_x7TNu"
      },
      "source": [
        "full_ds = tf.data.Dataset.from_tensor_slices((tweets_pad, tweet.target))"
      ],
      "execution_count": 45,
      "outputs": []
    },
    {
      "cell_type": "markdown",
      "metadata": {
        "id": "mxkbhrnrwmQM"
      },
      "source": [
        "##### **Train test split**"
      ]
    },
    {
      "cell_type": "code",
      "metadata": {
        "id": "xuicHxTqs3uk"
      },
      "source": [
        "TAKE_SIZE = int(0.8*tweet.shape[0])\n",
        "\n",
        "train_data = full_ds.take(TAKE_SIZE).shuffle(TAKE_SIZE)\n",
        "train_data = train_data.batch(64)\n",
        "\n",
        "test_data = full_ds.skip(TAKE_SIZE)\n",
        "test_data = test_data.batch(64)"
      ],
      "execution_count": 46,
      "outputs": []
    },
    {
      "cell_type": "markdown",
      "metadata": {
        "id": "u2pDyOaZwquU"
      },
      "source": [
        "##### **Looking at a batch of data**"
      ]
    },
    {
      "cell_type": "code",
      "metadata": {
        "colab": {
          "base_uri": "https://localhost:8080/"
        },
        "id": "xpD9NiFe9F1A",
        "outputId": "af220b39-ac79-439c-f4b9-7a4ea6e806f0"
      },
      "source": [
        "for text in train_data.take(1):\n",
        "  print(text)"
      ],
      "execution_count": 47,
      "outputs": [
        {
          "output_type": "stream",
          "name": "stdout",
          "text": [
            "(<tf.Tensor: shape=(64, 24), dtype=int32, numpy=\n",
            "array([[13545,  2293,   311, ...,     0,     0,     0],\n",
            "       [  121, 12951, 12952, ...,     0,     0,     0],\n",
            "       [  550,    75,  3259, ...,     0,     0,     0],\n",
            "       ...,\n",
            "       [12285,  1604,   110, ...,     0,     0,     0],\n",
            "       [ 7963,  7964,   135, ...,     0,     0,     0],\n",
            "       [  337,    11,   677, ...,     0,     0,     0]], dtype=int32)>, <tf.Tensor: shape=(64,), dtype=int64, numpy=\n",
            "array([0, 0, 1, 0, 0, 0, 0, 1, 0, 0, 0, 0, 0, 1, 1, 0, 1, 0, 0, 1, 0, 1,\n",
            "       0, 1, 1, 1, 0, 0, 0, 1, 1, 0, 1, 1, 0, 1, 0, 0, 0, 0, 0, 0, 1, 0,\n",
            "       1, 1, 0, 0, 1, 1, 1, 0, 1, 0, 1, 0, 0, 0, 1, 1, 0, 1, 0, 0])>)\n"
          ]
        }
      ]
    },
    {
      "cell_type": "code",
      "metadata": {
        "colab": {
          "base_uri": "https://localhost:8080/"
        },
        "id": "s9uJVdboPJi8",
        "outputId": "5e1def77-38c8-4b7f-cd5c-09a7b10e78b9"
      },
      "source": [
        "text[0].shape"
      ],
      "execution_count": 48,
      "outputs": [
        {
          "output_type": "execute_result",
          "data": {
            "text/plain": [
              "TensorShape([64, 24])"
            ]
          },
          "metadata": {},
          "execution_count": 48
        }
      ]
    },
    {
      "cell_type": "code",
      "metadata": {
        "id": "m9z8auJYs37T"
      },
      "source": [
        "from tensorflow.keras.layers import Embedding, SimpleRNN, Dense, GRU, LSTM\n",
        "\n",
        "model = tf.keras.Sequential([\n",
        "                  # Word Embedding layer           \n",
        "                  Embedding(vocab_size, 64, name=\"embedding\"),\n",
        "                  SimpleRNN(units=64, return_sequences=True),\n",
        "                  SimpleRNN(units=32, return_sequences=False),\n",
        "                  Dense(16, activation=\"relu\"),\n",
        "                  Dense(8, activation=\"relu\"),\n",
        "                  Dense(1, activation=\"sigmoid\")\n",
        "])"
      ],
      "execution_count": 50,
      "outputs": []
    },
    {
      "cell_type": "markdown",
      "metadata": {
        "id": "qnCvyoeIztvt"
      },
      "source": [
        "##### **Compiling the model**"
      ]
    },
    {
      "cell_type": "code",
      "metadata": {
        "id": "R2ct3tB5s3-V"
      },
      "source": [
        "model.compile(loss=\"binary_crossentropy\", optimizer=\"adam\", metrics = [\"accuracy\"])"
      ],
      "execution_count": 51,
      "outputs": []
    },
    {
      "cell_type": "markdown",
      "metadata": {
        "id": "dYfv0MP70Edu"
      },
      "source": [
        "\n",
        "##### **Looking at a summary of the model**"
      ]
    },
    {
      "cell_type": "code",
      "metadata": {
        "colab": {
          "base_uri": "https://localhost:8080/"
        },
        "id": "d9tZVecH_4--",
        "outputId": "003e3a97-81ce-42b8-aa3f-cddc2a09c7d4"
      },
      "source": [
        "model.summary()"
      ],
      "execution_count": 52,
      "outputs": [
        {
          "output_type": "stream",
          "name": "stdout",
          "text": [
            "Model: \"sequential\"\n",
            "_________________________________________________________________\n",
            " Layer (type)                Output Shape              Param #   \n",
            "=================================================================\n",
            " embedding (Embedding)       (None, None, 64)          1007680   \n",
            "                                                                 \n",
            " simple_rnn (SimpleRNN)      (None, None, 64)          8256      \n",
            "                                                                 \n",
            " simple_rnn_1 (SimpleRNN)    (None, 32)                3104      \n",
            "                                                                 \n",
            " dense (Dense)               (None, 16)                528       \n",
            "                                                                 \n",
            " dense_1 (Dense)             (None, 8)                 136       \n",
            "                                                                 \n",
            " dense_2 (Dense)             (None, 1)                 9         \n",
            "                                                                 \n",
            "=================================================================\n",
            "Total params: 1,019,713\n",
            "Trainable params: 1,019,713\n",
            "Non-trainable params: 0\n",
            "_________________________________________________________________\n"
          ]
        }
      ]
    },
    {
      "cell_type": "markdown",
      "metadata": {
        "id": "7SqKQWpWzvxW"
      },
      "source": [
        "##### **Training the model**"
      ]
    },
    {
      "cell_type": "code",
      "metadata": {
        "colab": {
          "base_uri": "https://localhost:8080/"
        },
        "id": "AC0B2sHZumDA",
        "outputId": "161ab66c-6ef3-41fc-c1a9-05dcf4cb2044"
      },
      "source": [
        "model.fit(train_data,\n",
        "          epochs=20, \n",
        "          validation_data=test_data\n",
        "          )"
      ],
      "execution_count": 53,
      "outputs": [
        {
          "output_type": "stream",
          "name": "stdout",
          "text": [
            "Epoch 1/20\n",
            "96/96 [==============================] - 12s 80ms/step - loss: 0.6027 - accuracy: 0.6783 - val_loss: 0.5315 - val_accuracy: 0.7406\n",
            "Epoch 2/20\n",
            "96/96 [==============================] - 7s 76ms/step - loss: 0.2970 - accuracy: 0.8836 - val_loss: 0.6538 - val_accuracy: 0.7098\n",
            "Epoch 3/20\n",
            "96/96 [==============================] - 8s 80ms/step - loss: 0.1324 - accuracy: 0.9550 - val_loss: 0.7160 - val_accuracy: 0.7026\n",
            "Epoch 4/20\n",
            "96/96 [==============================] - 8s 84ms/step - loss: 0.0802 - accuracy: 0.9693 - val_loss: 0.8788 - val_accuracy: 0.6789\n",
            "Epoch 5/20\n",
            "96/96 [==============================] - 7s 77ms/step - loss: 0.0629 - accuracy: 0.9739 - val_loss: 0.8106 - val_accuracy: 0.7190\n",
            "Epoch 6/20\n",
            "96/96 [==============================] - 8s 79ms/step - loss: 0.0528 - accuracy: 0.9775 - val_loss: 0.8939 - val_accuracy: 0.7118\n",
            "Epoch 7/20\n",
            "96/96 [==============================] - 7s 77ms/step - loss: 0.0445 - accuracy: 0.9801 - val_loss: 1.0747 - val_accuracy: 0.6980\n",
            "Epoch 8/20\n",
            "96/96 [==============================] - 7s 77ms/step - loss: 0.0409 - accuracy: 0.9806 - val_loss: 0.9539 - val_accuracy: 0.7144\n",
            "Epoch 9/20\n",
            "96/96 [==============================] - 7s 77ms/step - loss: 0.0378 - accuracy: 0.9811 - val_loss: 1.1282 - val_accuracy: 0.7032\n",
            "Epoch 10/20\n",
            "96/96 [==============================] - 8s 82ms/step - loss: 0.0361 - accuracy: 0.9819 - val_loss: 1.0652 - val_accuracy: 0.6835\n",
            "Epoch 11/20\n",
            "96/96 [==============================] - 7s 76ms/step - loss: 0.0377 - accuracy: 0.9801 - val_loss: 1.1840 - val_accuracy: 0.6553\n",
            "Epoch 12/20\n",
            "96/96 [==============================] - 8s 81ms/step - loss: 0.0350 - accuracy: 0.9824 - val_loss: 1.2767 - val_accuracy: 0.6684\n",
            "Epoch 13/20\n",
            "96/96 [==============================] - 7s 77ms/step - loss: 0.0340 - accuracy: 0.9832 - val_loss: 1.1730 - val_accuracy: 0.6573\n",
            "Epoch 14/20\n",
            "96/96 [==============================] - 8s 78ms/step - loss: 0.0336 - accuracy: 0.9834 - val_loss: 1.1800 - val_accuracy: 0.7058\n",
            "Epoch 15/20\n",
            "96/96 [==============================] - 7s 75ms/step - loss: 0.0330 - accuracy: 0.9832 - val_loss: 1.2099 - val_accuracy: 0.6796\n",
            "Epoch 16/20\n",
            "96/96 [==============================] - 7s 76ms/step - loss: 0.0325 - accuracy: 0.9836 - val_loss: 1.1342 - val_accuracy: 0.6724\n",
            "Epoch 17/20\n",
            "96/96 [==============================] - 8s 84ms/step - loss: 0.0296 - accuracy: 0.9857 - val_loss: 1.1377 - val_accuracy: 0.6855\n",
            "Epoch 18/20\n",
            "96/96 [==============================] - 7s 76ms/step - loss: 0.0295 - accuracy: 0.9841 - val_loss: 1.2909 - val_accuracy: 0.6724\n",
            "Epoch 19/20\n",
            "96/96 [==============================] - 8s 82ms/step - loss: 0.0304 - accuracy: 0.9847 - val_loss: 1.3296 - val_accuracy: 0.6730\n",
            "Epoch 20/20\n",
            "96/96 [==============================] - 8s 78ms/step - loss: 0.0298 - accuracy: 0.9847 - val_loss: 1.3249 - val_accuracy: 0.7098\n"
          ]
        },
        {
          "output_type": "execute_result",
          "data": {
            "text/plain": [
              "<keras.callbacks.History at 0x7ff5f9682310>"
            ]
          },
          "metadata": {},
          "execution_count": 53
        }
      ]
    },
    {
      "cell_type": "markdown",
      "metadata": {
        "id": "DZWiRSkNcHtD"
      },
      "source": [
        "##### **Plotting a graph showing the loss in relation to the number of epochs**"
      ]
    },
    {
      "cell_type": "code",
      "metadata": {
        "id": "rZcMuV4YcH7b"
      },
      "source": [
        "model_loss = pd.DataFrame(model.history.history)"
      ],
      "execution_count": 54,
      "outputs": []
    },
    {
      "cell_type": "code",
      "metadata": {
        "colab": {
          "base_uri": "https://localhost:8080/",
          "height": 142
        },
        "id": "15kOvWruofxb",
        "outputId": "518e4c57-dd8d-490a-9bff-0943ca2e3ec6"
      },
      "source": [
        "model_loss.head(3)"
      ],
      "execution_count": 55,
      "outputs": [
        {
          "output_type": "execute_result",
          "data": {
            "text/html": [
              "<div>\n",
              "<style scoped>\n",
              "    .dataframe tbody tr th:only-of-type {\n",
              "        vertical-align: middle;\n",
              "    }\n",
              "\n",
              "    .dataframe tbody tr th {\n",
              "        vertical-align: top;\n",
              "    }\n",
              "\n",
              "    .dataframe thead th {\n",
              "        text-align: right;\n",
              "    }\n",
              "</style>\n",
              "<table border=\"1\" class=\"dataframe\">\n",
              "  <thead>\n",
              "    <tr style=\"text-align: right;\">\n",
              "      <th></th>\n",
              "      <th>loss</th>\n",
              "      <th>accuracy</th>\n",
              "      <th>val_loss</th>\n",
              "      <th>val_accuracy</th>\n",
              "    </tr>\n",
              "  </thead>\n",
              "  <tbody>\n",
              "    <tr>\n",
              "      <th>0</th>\n",
              "      <td>0.602684</td>\n",
              "      <td>0.678272</td>\n",
              "      <td>0.531471</td>\n",
              "      <td>0.740643</td>\n",
              "    </tr>\n",
              "    <tr>\n",
              "      <th>1</th>\n",
              "      <td>0.297028</td>\n",
              "      <td>0.883561</td>\n",
              "      <td>0.653757</td>\n",
              "      <td>0.709783</td>\n",
              "    </tr>\n",
              "    <tr>\n",
              "      <th>2</th>\n",
              "      <td>0.132426</td>\n",
              "      <td>0.955001</td>\n",
              "      <td>0.716014</td>\n",
              "      <td>0.702561</td>\n",
              "    </tr>\n",
              "  </tbody>\n",
              "</table>\n",
              "</div>"
            ],
            "text/plain": [
              "       loss  accuracy  val_loss  val_accuracy\n",
              "0  0.602684  0.678272  0.531471      0.740643\n",
              "1  0.297028  0.883561  0.653757      0.709783\n",
              "2  0.132426  0.955001  0.716014      0.702561"
            ]
          },
          "metadata": {},
          "execution_count": 55
        }
      ]
    },
    {
      "cell_type": "code",
      "metadata": {
        "id": "eFf8E1V6o578"
      },
      "source": [
        "loss = model_loss[[\"loss\",\"val_loss\"]]\n",
        "accuracy = model_loss[[\"accuracy\",\"val_accuracy\"]]"
      ],
      "execution_count": 56,
      "outputs": []
    },
    {
      "cell_type": "code",
      "metadata": {
        "colab": {
          "base_uri": "https://localhost:8080/",
          "height": 282
        },
        "id": "pJPC8_1OcXv_",
        "outputId": "c1ceed40-fe81-43bc-f259-072c5fdf3b6a"
      },
      "source": [
        "loss.plot()"
      ],
      "execution_count": 58,
      "outputs": [
        {
          "output_type": "execute_result",
          "data": {
            "text/plain": [
              "<matplotlib.axes._subplots.AxesSubplot at 0x7ff5ddeaed10>"
            ]
          },
          "metadata": {},
          "execution_count": 58
        },
        {
          "output_type": "display_data",
          "data": {
            "image/png": "[encoded data removed]",
            "text/plain": [
              "<Figure size 432x288 with 1 Axes>"
            ]
          },
          "metadata": {
            "needs_background": "light"
          }
        }
      ]
    },
    {
      "cell_type": "markdown",
      "metadata": {
        "id": "DYCu05LgvLfx"
      },
      "source": [
        "##### **Plotting a graph showing the accuracy in relation to the number of epochs**"
      ]
    },
    {
      "cell_type": "code",
      "metadata": {
        "colab": {
          "base_uri": "https://localhost:8080/",
          "height": 285
        },
        "id": "9IyGIcuIu_d5",
        "outputId": "462d973e-9646-4309-9db5-4564e9af2a71"
      },
      "source": [
        "accuracy.plot()"
      ],
      "execution_count": 59,
      "outputs": [
        {
          "output_type": "execute_result",
          "data": {
            "text/plain": [
              "<matplotlib.axes._subplots.AxesSubplot at 0x7ff5dde38110>"
            ]
          },
          "metadata": {},
          "execution_count": 59
        },
        {
          "output_type": "display_data",
          "data": {
            "image/png": "[encoded data removed]",
            "text/plain": [
              "<Figure size 432x288 with 1 Axes>"
            ]
          },
          "metadata": {
            "needs_background": "light"
          }
        }
      ]
    },
    {
      "cell_type": "markdown",
      "metadata": {
        "id": "tXSBYgcvt-VD"
      },
      "source": [
        "##### *The model starts to overfit after the second epoch*"
      ]
    },
    {
      "cell_type": "markdown",
      "metadata": {
        "id": "YHE3-8x49x7E"
      },
      "source": [
        "##### **Trying to predict if a tweet is a disater tweet or not**"
      ]
    },
    {
      "cell_type": "code",
      "metadata": {
        "id": "8UW-4UjCumF3",
        "colab": {
          "base_uri": "https://localhost:8080/"
        },
        "outputId": "78abf7ae-ccc0-496e-e67d-7a1a26d1fd20"
      },
      "source": [
        "sentence = \"This is an earthquake\"\n",
        "sentence_tokenize = tokenizer.texts_to_sequences(sentence)\n",
        "sentence_pad = tf.keras.preprocessing.sequence.pad_sequences(sentence_tokenize, padding=\"post\")\n",
        "model.predict(sentence_pad)"
      ],
      "execution_count": 60,
      "outputs": [
        {
          "output_type": "execute_result",
          "data": {
            "text/plain": [
              "array([[0.5768381 ],\n",
              "       [0.44635427],\n",
              "       [0.57901216],\n",
              "       [0.55251133],\n",
              "       [0.57901216],\n",
              "       [0.57901216],\n",
              "       [0.55251133],\n",
              "       [0.57901216],\n",
              "       [0.57901216],\n",
              "       [0.57901216],\n",
              "       [0.57901216],\n",
              "       [0.60324603],\n",
              "       [0.57901216],\n",
              "       [0.6213189 ],\n",
              "       [0.5768381 ],\n",
              "       [0.44635427],\n",
              "       [0.5957713 ],\n",
              "       [0.58767575],\n",
              "       [0.57901216],\n",
              "       [0.6194138 ],\n",
              "       [0.60324603]], dtype=float32)"
            ]
          },
          "metadata": {},
          "execution_count": 60
        }
      ]
    },
    {
      "cell_type": "markdown",
      "metadata": {
        "id": "P19PFUxXyVvG"
      },
      "source": [
        "## **Building a second model : replacing the Simple RNN layers by Gated Recurrent Unit (GRU) layers**"
      ]
    },
    {
      "cell_type": "code",
      "metadata": {
        "id": "k3NUM3VgumLW"
      },
      "source": [
        "from tensorflow.keras.layers import Embedding, SimpleRNN, Dense, GRU, LSTM\n",
        "\n",
        "model_gru = tf.keras.Sequential([\n",
        "                  Embedding(vocab_size, 64, name=\"embedding\"),\n",
        "                  GRU(units=64, return_sequences=True),\n",
        "                  GRU(units=32, return_sequences=False),\n",
        "                  Dense(16, activation=\"relu\"),\n",
        "                  Dense(8, activation=\"relu\"),\n",
        "                  Dense(1, activation=\"sigmoid\")\n",
        "])"
      ],
      "execution_count": 66,
      "outputs": []
    },
    {
      "cell_type": "markdown",
      "metadata": {
        "id": "NhqCTNZWzjPk"
      },
      "source": [
        "##### **Compiling the model**"
      ]
    },
    {
      "cell_type": "code",
      "metadata": {
        "id": "d8bcbs0JumTe"
      },
      "source": [
        "model_gru.compile(loss=\"binary_crossentropy\", optimizer=\"adam\", metrics = [\"accuracy\"])"
      ],
      "execution_count": 67,
      "outputs": []
    },
    {
      "cell_type": "markdown",
      "metadata": {
        "id": "Ow5W6a1i1Dw7"
      },
      "source": [
        "##### **Stopping training when a monitored quantity - val_loss in this case - does not improve anymore**"
      ]
    },
    {
      "cell_type": "code",
      "metadata": {
        "id": "aAlCZM6R1EA5"
      },
      "source": [
        "from tensorflow.keras.callbacks import EarlyStopping\n",
        "early_stop = EarlyStopping(monitor=\"val_loss\", mode=\"min\", verbose=1, patience=25)"
      ],
      "execution_count": 68,
      "outputs": []
    },
    {
      "cell_type": "markdown",
      "metadata": {
        "id": "G_c95h0N0vPH"
      },
      "source": [
        "##### **Looking at a summary of the model**"
      ]
    },
    {
      "cell_type": "code",
      "metadata": {
        "colab": {
          "base_uri": "https://localhost:8080/"
        },
        "id": "SN0UQ4ef0vc4",
        "outputId": "0d628c98-51ff-4c85-9f4b-52671117d9cc"
      },
      "source": [
        "model_gru.summary()"
      ],
      "execution_count": 69,
      "outputs": [
        {
          "output_type": "stream",
          "name": "stdout",
          "text": [
            "Model: \"sequential_2\"\n",
            "_________________________________________________________________\n",
            " Layer (type)                Output Shape              Param #   \n",
            "=================================================================\n",
            " embedding (Embedding)       (None, None, 64)          1007680   \n",
            "                                                                 \n",
            " gru_2 (GRU)                 (None, None, 64)          24960     \n",
            "                                                                 \n",
            " gru_3 (GRU)                 (None, 32)                9408      \n",
            "                                                                 \n",
            " dense_6 (Dense)             (None, 16)                528       \n",
            "                                                                 \n",
            " dense_7 (Dense)             (None, 8)                 136       \n",
            "                                                                 \n",
            " dense_8 (Dense)             (None, 1)                 9         \n",
            "                                                                 \n",
            "=================================================================\n",
            "Total params: 1,042,721\n",
            "Trainable params: 1,042,721\n",
            "Non-trainable params: 0\n",
            "_________________________________________________________________\n"
          ]
        }
      ]
    },
    {
      "cell_type": "markdown",
      "metadata": {
        "id": "MGFvGM0q0miw"
      },
      "source": [
        "##### **Training the model**"
      ]
    },
    {
      "cell_type": "code",
      "metadata": {
        "id": "RlShmP77umWR",
        "colab": {
          "base_uri": "https://localhost:8080/"
        },
        "outputId": "20135984-fceb-4f8e-d351-e9b6b7439972"
      },
      "source": [
        "model_gru.fit(train_data,\n",
        "          epochs=200, \n",
        "          validation_data=test_data,\n",
        "          callbacks=[early_stop]\n",
        "          )"
      ],
      "execution_count": 70,
      "outputs": [
        {
          "output_type": "stream",
          "name": "stdout",
          "text": [
            "Epoch 1/200\n",
            "96/96 [==============================] - 6s 27ms/step - loss: 0.6823 - accuracy: 0.5776 - val_loss: 0.6927 - val_accuracy: 0.5345\n",
            "Epoch 2/200\n",
            "96/96 [==============================] - 2s 19ms/step - loss: 0.5575 - accuracy: 0.7154 - val_loss: 0.4682 - val_accuracy: 0.7919\n",
            "Epoch 3/200\n",
            "96/96 [==============================] - 2s 19ms/step - loss: 0.3112 - accuracy: 0.8814 - val_loss: 0.5141 - val_accuracy: 0.7932\n",
            "Epoch 4/200\n",
            "96/96 [==============================] - 2s 18ms/step - loss: 0.1881 - accuracy: 0.9368 - val_loss: 0.5772 - val_accuracy: 0.7282\n",
            "Epoch 5/200\n",
            "96/96 [==============================] - 2s 18ms/step - loss: 0.1267 - accuracy: 0.9604 - val_loss: 0.7908 - val_accuracy: 0.7328\n",
            "Epoch 6/200\n",
            "96/96 [==============================] - 2s 18ms/step - loss: 0.1019 - accuracy: 0.9706 - val_loss: 0.7490 - val_accuracy: 0.7439\n",
            "Epoch 7/200\n",
            "96/96 [==============================] - 2s 18ms/step - loss: 0.0819 - accuracy: 0.9760 - val_loss: 0.6680 - val_accuracy: 0.7636\n",
            "Epoch 8/200\n",
            "96/96 [==============================] - 2s 18ms/step - loss: 0.0740 - accuracy: 0.9782 - val_loss: 0.7235 - val_accuracy: 0.7531\n",
            "Epoch 9/200\n",
            "96/96 [==============================] - 2s 18ms/step - loss: 0.0809 - accuracy: 0.9782 - val_loss: 0.7537 - val_accuracy: 0.7597\n",
            "Epoch 10/200\n",
            "96/96 [==============================] - 2s 19ms/step - loss: 0.0639 - accuracy: 0.9790 - val_loss: 0.7575 - val_accuracy: 0.7400\n",
            "Epoch 11/200\n",
            "96/96 [==============================] - 2s 18ms/step - loss: 0.0555 - accuracy: 0.9800 - val_loss: 0.9378 - val_accuracy: 0.7439\n",
            "Epoch 12/200\n",
            "96/96 [==============================] - 2s 19ms/step - loss: 0.0458 - accuracy: 0.9805 - val_loss: 0.9863 - val_accuracy: 0.7426\n",
            "Epoch 13/200\n",
            "96/96 [==============================] - 2s 18ms/step - loss: 0.0408 - accuracy: 0.9823 - val_loss: 0.9849 - val_accuracy: 0.7505\n",
            "Epoch 14/200\n",
            "96/96 [==============================] - 2s 19ms/step - loss: 0.0344 - accuracy: 0.9834 - val_loss: 1.2730 - val_accuracy: 0.7479\n",
            "Epoch 15/200\n",
            "96/96 [==============================] - 2s 18ms/step - loss: 0.0365 - accuracy: 0.9821 - val_loss: 1.2566 - val_accuracy: 0.7511\n",
            "Epoch 16/200\n",
            "96/96 [==============================] - 2s 19ms/step - loss: 0.0341 - accuracy: 0.9831 - val_loss: 1.1340 - val_accuracy: 0.7551\n",
            "Epoch 17/200\n",
            "96/96 [==============================] - 2s 18ms/step - loss: 0.0378 - accuracy: 0.9828 - val_loss: 1.1785 - val_accuracy: 0.7479\n",
            "Epoch 18/200\n",
            "96/96 [==============================] - 2s 18ms/step - loss: 0.0356 - accuracy: 0.9837 - val_loss: 1.1270 - val_accuracy: 0.7393\n",
            "Epoch 19/200\n",
            "96/96 [==============================] - 2s 18ms/step - loss: 0.0300 - accuracy: 0.9842 - val_loss: 1.2761 - val_accuracy: 0.7544\n",
            "Epoch 20/200\n",
            "96/96 [==============================] - 2s 18ms/step - loss: 0.0299 - accuracy: 0.9849 - val_loss: 1.5793 - val_accuracy: 0.7400\n",
            "Epoch 21/200\n",
            "96/96 [==============================] - 2s 18ms/step - loss: 0.0350 - accuracy: 0.9831 - val_loss: 1.2531 - val_accuracy: 0.7413\n",
            "Epoch 22/200\n",
            "96/96 [==============================] - 2s 19ms/step - loss: 0.0333 - accuracy: 0.9826 - val_loss: 1.5738 - val_accuracy: 0.7144\n",
            "Epoch 23/200\n",
            "96/96 [==============================] - 2s 19ms/step - loss: 0.0364 - accuracy: 0.9826 - val_loss: 1.2557 - val_accuracy: 0.7334\n",
            "Epoch 24/200\n",
            "96/96 [==============================] - 2s 19ms/step - loss: 0.0323 - accuracy: 0.9831 - val_loss: 1.5449 - val_accuracy: 0.7374\n",
            "Epoch 25/200\n",
            "96/96 [==============================] - 2s 18ms/step - loss: 0.0311 - accuracy: 0.9832 - val_loss: 1.2531 - val_accuracy: 0.7400\n",
            "Epoch 26/200\n",
            "96/96 [==============================] - 2s 21ms/step - loss: 0.0328 - accuracy: 0.9834 - val_loss: 1.4496 - val_accuracy: 0.7315\n",
            "Epoch 27/200\n",
            "96/96 [==============================] - 2s 18ms/step - loss: 0.0284 - accuracy: 0.9851 - val_loss: 1.3882 - val_accuracy: 0.7328\n",
            "Epoch 00027: early stopping\n"
          ]
        },
        {
          "output_type": "execute_result",
          "data": {
            "text/plain": [
              "<keras.callbacks.History at 0x7ff5dd017c50>"
            ]
          },
          "metadata": {},
          "execution_count": 70
        }
      ]
    },
    {
      "cell_type": "markdown",
      "metadata": {
        "id": "9fCaE2pj1utq"
      },
      "source": [
        "##### **Plotting a graph showing the loss in relation to the number of epochs**"
      ]
    },
    {
      "cell_type": "code",
      "metadata": {
        "id": "kOnPFeFLgtR3"
      },
      "source": [
        "model_loss = pd.DataFrame(model_gru.history.history)\n",
        "loss_gru = model_loss[[\"loss\",\"val_loss\"]]\n",
        "accuracy_gru = model_loss[[\"accuracy\",\"val_accuracy\"]]"
      ],
      "execution_count": 71,
      "outputs": []
    },
    {
      "cell_type": "code",
      "metadata": {
        "colab": {
          "base_uri": "https://localhost:8080/",
          "height": 282
        },
        "id": "O0aCYtZ92LQ_",
        "outputId": "d552bf54-0938-4a3d-e353-01de17095e39"
      },
      "source": [
        "loss_gru.plot()"
      ],
      "execution_count": 72,
      "outputs": [
        {
          "output_type": "execute_result",
          "data": {
            "text/plain": [
              "<matplotlib.axes._subplots.AxesSubplot at 0x7ff5b292ced0>"
            ]
          },
          "metadata": {},
          "execution_count": 72
        },
        {
          "output_type": "display_data",
          "data": {
            "image/png": "[encoded data removed]",
            "text/plain": [
              "<Figure size 432x288 with 1 Axes>"
            ]
          },
          "metadata": {
            "needs_background": "light"
          }
        }
      ]
    },
    {
      "cell_type": "markdown",
      "metadata": {
        "id": "i1m0R6w_1yMi"
      },
      "source": [
        "##### **Plotting a graph showing the accuracy in relation to the number of epochs**"
      ]
    },
    {
      "cell_type": "code",
      "metadata": {
        "id": "PML9cT84gt-Q",
        "colab": {
          "base_uri": "https://localhost:8080/",
          "height": 283
        },
        "outputId": "a762c1a8-4fb0-4728-e1ea-a1fdeadb72c9"
      },
      "source": [
        "accuracy_gru.plot()"
      ],
      "execution_count": 73,
      "outputs": [
        {
          "output_type": "execute_result",
          "data": {
            "text/plain": [
              "<matplotlib.axes._subplots.AxesSubplot at 0x7ff5b5936f10>"
            ]
          },
          "metadata": {},
          "execution_count": 73
        },
        {
          "output_type": "display_data",
          "data": {
            "image/png": "[encoded data removed]",
            "text/plain": [
              "<Figure size 432x288 with 1 Axes>"
            ]
          },
          "metadata": {
            "needs_background": "light"
          }
        }
      ]
    },
    {
      "cell_type": "markdown",
      "metadata": {
        "id": "RB_21dpP99Tk"
      },
      "source": [
        "##### *Once more, the model starts to overfit after the third epoch, implying that the Gated recurrent unit is not helping the model with the overfitting problem. However, the accuracy is much better with GRU (0.7932) than with simple RNN (0.7098).*"
      ]
    },
    {
      "cell_type": "markdown",
      "metadata": {
        "id": "rOGeL_d89Z-p"
      },
      "source": [
        "##### **Trying to predict if a tweet is a disater tweet or not**"
      ]
    },
    {
      "cell_type": "code",
      "metadata": {
        "id": "4ISuBJRLUu4G",
        "colab": {
          "base_uri": "https://localhost:8080/"
        },
        "outputId": "542468e6-2e88-412a-9d87-7bfb18237d32"
      },
      "source": [
        "sentence = \"This is an earthquake\"\n",
        "sentence_tokenize = tokenizer.texts_to_sequences(sentence)\n",
        "sentence_pad = tf.keras.preprocessing.sequence.pad_sequences(sentence_tokenize, padding=\"post\")\n",
        "model_gru.predict(sentence_pad)"
      ],
      "execution_count": 74,
      "outputs": [
        {
          "output_type": "execute_result",
          "data": {
            "text/plain": [
              "array([[0.52611023],\n",
              "       [0.46242073],\n",
              "       [0.468751  ],\n",
              "       [0.43305215],\n",
              "       [0.468751  ],\n",
              "       [0.468751  ],\n",
              "       [0.43305215],\n",
              "       [0.468751  ],\n",
              "       [0.468751  ],\n",
              "       [0.468751  ],\n",
              "       [0.468751  ],\n",
              "       [0.41497752],\n",
              "       [0.468751  ],\n",
              "       [0.3914472 ],\n",
              "       [0.52611023],\n",
              "       [0.46242073],\n",
              "       [0.45697778],\n",
              "       [0.46837136],\n",
              "       [0.468751  ],\n",
              "       [0.45962307],\n",
              "       [0.41497752]], dtype=float32)"
            ]
          },
          "metadata": {},
          "execution_count": 74
        }
      ]
    },
    {
      "cell_type": "markdown",
      "metadata": {
        "id": "65U8vOM37Dvo"
      },
      "source": [
        "## **Building a third model : replacing the Simple RNN layers by Long short-term memory (LSTM) layers**"
      ]
    },
    {
      "cell_type": "code",
      "metadata": {
        "id": "uORMBKjH8TlE"
      },
      "source": [
        "from tensorflow.keras.layers import Embedding, SimpleRNN, Dense, GRU, LSTM\n",
        "\n",
        "model_lstm = tf.keras.Sequential([\n",
        "                  Embedding(vocab_size, 64, name=\"embedding\"),\n",
        "                  LSTM(units=64, return_sequences=True),\n",
        "                  LSTM(units=32, return_sequences=False),\n",
        "                  Dense(16, activation=\"relu\"),\n",
        "                  Dense(8, activation=\"relu\"),\n",
        "                  Dense(1, activation=\"sigmoid\")\n",
        "])"
      ],
      "execution_count": 75,
      "outputs": []
    },
    {
      "cell_type": "markdown",
      "metadata": {
        "id": "mvIiDjfj74vu"
      },
      "source": [
        "##### **Compiling the model**"
      ]
    },
    {
      "cell_type": "code",
      "metadata": {
        "id": "XOMtMGBZFavs"
      },
      "source": [
        "model_lstm.compile(loss=\"binary_crossentropy\", optimizer=\"adam\", metrics = [\"accuracy\"])"
      ],
      "execution_count": 76,
      "outputs": []
    },
    {
      "cell_type": "markdown",
      "metadata": {
        "id": "8murCqS48Gwl"
      },
      "source": [
        "##### **Stopping training when a monitored quantity - val_loss in this case - does not improve anymore**"
      ]
    },
    {
      "cell_type": "code",
      "metadata": {
        "id": "b2IZM23T0T4r"
      },
      "source": [
        "early_stop_lstm = EarlyStopping(monitor=\"val_loss\", mode=\"min\", verbose=1, patience=25)"
      ],
      "execution_count": 77,
      "outputs": []
    },
    {
      "cell_type": "markdown",
      "metadata": {
        "id": "l99vU1lO8HkQ"
      },
      "source": [
        "##### **Looking at a summary of the model**"
      ]
    },
    {
      "cell_type": "code",
      "metadata": {
        "id": "QVxm5z58ZOas",
        "colab": {
          "base_uri": "https://localhost:8080/"
        },
        "outputId": "4a64f129-0783-4051-e0a8-ea50697089f2"
      },
      "source": [
        "model_lstm.summary()"
      ],
      "execution_count": 78,
      "outputs": [
        {
          "output_type": "stream",
          "name": "stdout",
          "text": [
            "Model: \"sequential_3\"\n",
            "_________________________________________________________________\n",
            " Layer (type)                Output Shape              Param #   \n",
            "=================================================================\n",
            " embedding (Embedding)       (None, None, 64)          1007680   \n",
            "                                                                 \n",
            " lstm (LSTM)                 (None, None, 64)          33024     \n",
            "                                                                 \n",
            " lstm_1 (LSTM)               (None, 32)                12416     \n",
            "                                                                 \n",
            " dense_9 (Dense)             (None, 16)                528       \n",
            "                                                                 \n",
            " dense_10 (Dense)            (None, 8)                 136       \n",
            "                                                                 \n",
            " dense_11 (Dense)            (None, 1)                 9         \n",
            "                                                                 \n",
            "=================================================================\n",
            "Total params: 1,053,793\n",
            "Trainable params: 1,053,793\n",
            "Non-trainable params: 0\n",
            "_________________________________________________________________\n"
          ]
        }
      ]
    },
    {
      "cell_type": "markdown",
      "metadata": {
        "id": "0hsYipJd8leG"
      },
      "source": [
        "##### **Training the model**"
      ]
    },
    {
      "cell_type": "code",
      "metadata": {
        "id": "glFS5azeOmRr",
        "colab": {
          "base_uri": "https://localhost:8080/"
        },
        "outputId": "1037e47b-379a-4a44-9083-f481b882df87"
      },
      "source": [
        "model_lstm.fit(train_data,\n",
        "          epochs=200, \n",
        "          validation_data=test_data,\n",
        "          callbacks=[early_stop_lstm]\n",
        "          )"
      ],
      "execution_count": 79,
      "outputs": [
        {
          "output_type": "stream",
          "name": "stdout",
          "text": [
            "Epoch 1/200\n",
            "96/96 [==============================] - 7s 29ms/step - loss: 0.6064 - accuracy: 0.6681 - val_loss: 0.5095 - val_accuracy: 0.7571\n",
            "Epoch 2/200\n",
            "96/96 [==============================] - 2s 19ms/step - loss: 0.3406 - accuracy: 0.8729 - val_loss: 0.4841 - val_accuracy: 0.7787\n",
            "Epoch 3/200\n",
            "96/96 [==============================] - 2s 19ms/step - loss: 0.1948 - accuracy: 0.9364 - val_loss: 0.5668 - val_accuracy: 0.7538\n",
            "Epoch 4/200\n",
            "96/96 [==============================] - 2s 19ms/step - loss: 0.1268 - accuracy: 0.9622 - val_loss: 0.7083 - val_accuracy: 0.7492\n",
            "Epoch 5/200\n",
            "96/96 [==============================] - 2s 19ms/step - loss: 0.1041 - accuracy: 0.9699 - val_loss: 0.6495 - val_accuracy: 0.7603\n",
            "Epoch 6/200\n",
            "96/96 [==============================] - 2s 19ms/step - loss: 0.0869 - accuracy: 0.9757 - val_loss: 0.8525 - val_accuracy: 0.7544\n",
            "Epoch 7/200\n",
            "96/96 [==============================] - 2s 19ms/step - loss: 0.0774 - accuracy: 0.9764 - val_loss: 0.7575 - val_accuracy: 0.7433\n",
            "Epoch 8/200\n",
            "96/96 [==============================] - 2s 18ms/step - loss: 0.0722 - accuracy: 0.9765 - val_loss: 0.9664 - val_accuracy: 0.7400\n",
            "Epoch 9/200\n",
            "96/96 [==============================] - 2s 18ms/step - loss: 0.0573 - accuracy: 0.9800 - val_loss: 1.0238 - val_accuracy: 0.7498\n",
            "Epoch 10/200\n",
            "96/96 [==============================] - 2s 19ms/step - loss: 0.0509 - accuracy: 0.9805 - val_loss: 1.1991 - val_accuracy: 0.7006\n",
            "Epoch 11/200\n",
            "96/96 [==============================] - 2s 19ms/step - loss: 0.0463 - accuracy: 0.9808 - val_loss: 1.0507 - val_accuracy: 0.7282\n",
            "Epoch 12/200\n",
            "96/96 [==============================] - 2s 19ms/step - loss: 0.0442 - accuracy: 0.9806 - val_loss: 1.4087 - val_accuracy: 0.7104\n",
            "Epoch 13/200\n",
            "96/96 [==============================] - 2s 19ms/step - loss: 0.0417 - accuracy: 0.9826 - val_loss: 0.8872 - val_accuracy: 0.7315\n",
            "Epoch 14/200\n",
            "96/96 [==============================] - 2s 19ms/step - loss: 0.0464 - accuracy: 0.9796 - val_loss: 1.2023 - val_accuracy: 0.7177\n",
            "Epoch 15/200\n",
            "96/96 [==============================] - 2s 19ms/step - loss: 0.0429 - accuracy: 0.9818 - val_loss: 1.2099 - val_accuracy: 0.7170\n",
            "Epoch 16/200\n",
            "96/96 [==============================] - 2s 19ms/step - loss: 0.0359 - accuracy: 0.9831 - val_loss: 1.4358 - val_accuracy: 0.7203\n",
            "Epoch 17/200\n",
            "96/96 [==============================] - 2s 19ms/step - loss: 0.0342 - accuracy: 0.9834 - val_loss: 1.4538 - val_accuracy: 0.7209\n",
            "Epoch 18/200\n",
            "96/96 [==============================] - 2s 19ms/step - loss: 0.0336 - accuracy: 0.9836 - val_loss: 1.4469 - val_accuracy: 0.7104\n",
            "Epoch 19/200\n",
            "96/96 [==============================] - 2s 19ms/step - loss: 0.0309 - accuracy: 0.9844 - val_loss: 1.4671 - val_accuracy: 0.7157\n",
            "Epoch 20/200\n",
            "96/96 [==============================] - 2s 19ms/step - loss: 0.0372 - accuracy: 0.9819 - val_loss: 1.5709 - val_accuracy: 0.7104\n",
            "Epoch 21/200\n",
            "96/96 [==============================] - 2s 19ms/step - loss: 0.0357 - accuracy: 0.9823 - val_loss: 1.5503 - val_accuracy: 0.7052\n",
            "Epoch 22/200\n",
            "96/96 [==============================] - 2s 19ms/step - loss: 0.0365 - accuracy: 0.9803 - val_loss: 1.3283 - val_accuracy: 0.7065\n",
            "Epoch 23/200\n",
            "96/96 [==============================] - 2s 19ms/step - loss: 0.0421 - accuracy: 0.9819 - val_loss: 1.2751 - val_accuracy: 0.7019\n",
            "Epoch 24/200\n",
            "96/96 [==============================] - 2s 19ms/step - loss: 0.0385 - accuracy: 0.9811 - val_loss: 1.4908 - val_accuracy: 0.6986\n",
            "Epoch 25/200\n",
            "96/96 [==============================] - 2s 19ms/step - loss: 0.0337 - accuracy: 0.9826 - val_loss: 1.3834 - val_accuracy: 0.7039\n",
            "Epoch 26/200\n",
            "96/96 [==============================] - 2s 19ms/step - loss: 0.0398 - accuracy: 0.9808 - val_loss: 1.5293 - val_accuracy: 0.7144\n",
            "Epoch 27/200\n",
            "96/96 [==============================] - 2s 19ms/step - loss: 0.1117 - accuracy: 0.9706 - val_loss: 1.1533 - val_accuracy: 0.7163\n",
            "Epoch 00027: early stopping\n"
          ]
        },
        {
          "output_type": "execute_result",
          "data": {
            "text/plain": [
              "<keras.callbacks.History at 0x7ff5dbe07d90>"
            ]
          },
          "metadata": {},
          "execution_count": 79
        }
      ]
    },
    {
      "cell_type": "markdown",
      "metadata": {
        "id": "NWyXtBTl8zLo"
      },
      "source": [
        "##### **Plotting a graph showing the loss in relation to the number of epochs**"
      ]
    },
    {
      "cell_type": "code",
      "metadata": {
        "id": "jo0wjhALi6w-"
      },
      "source": [
        "model_loss = pd.DataFrame(model_lstm.history.history)\n",
        "loss_lstm = model_loss[[\"loss\",\"val_loss\"]]\n",
        "accuracy_lstm = model_loss[[\"accuracy\",\"val_accuracy\"]]"
      ],
      "execution_count": 80,
      "outputs": []
    },
    {
      "cell_type": "code",
      "metadata": {
        "id": "UU_P0Yoei60M",
        "colab": {
          "base_uri": "https://localhost:8080/",
          "height": 282
        },
        "outputId": "a714d254-beae-4b1c-e1df-aae6ae086811"
      },
      "source": [
        "loss_lstm.plot()"
      ],
      "execution_count": 81,
      "outputs": [
        {
          "output_type": "execute_result",
          "data": {
            "text/plain": [
              "<matplotlib.axes._subplots.AxesSubplot at 0x7ff5dbec6e10>"
            ]
          },
          "metadata": {},
          "execution_count": 81
        },
        {
          "output_type": "display_data",
          "data": {
            "image/png": "[encoded data removed]",
            "text/plain": [
              "<Figure size 432x288 with 1 Axes>"
            ]
          },
          "metadata": {
            "needs_background": "light"
          }
        }
      ]
    },
    {
      "cell_type": "markdown",
      "metadata": {
        "id": "B1U4bP068_30"
      },
      "source": [
        "##### **Plotting a graph showing the accuracy in relation to the number of epochs**"
      ]
    },
    {
      "cell_type": "code",
      "metadata": {
        "id": "EH8Bf9jUdTs6",
        "colab": {
          "base_uri": "https://localhost:8080/",
          "height": 286
        },
        "outputId": "8f32f9ee-38a6-45f5-c9a0-a2aa566e1dc5"
      },
      "source": [
        "accuracy_lstm.plot()"
      ],
      "execution_count": 82,
      "outputs": [
        {
          "output_type": "execute_result",
          "data": {
            "text/plain": [
              "<matplotlib.axes._subplots.AxesSubplot at 0x7ff5dbf88cd0>"
            ]
          },
          "metadata": {},
          "execution_count": 82
        },
        {
          "output_type": "display_data",
          "data": {
            "image/png": "[encoded data removed]",
            "text/plain": [
              "<Figure size 432x288 with 1 Axes>"
            ]
          },
          "metadata": {
            "needs_background": "light"
          }
        }
      ]
    },
    {
      "cell_type": "markdown",
      "metadata": {
        "id": "Mui6gGQ5-px7"
      },
      "source": [
        "##### *This time, the model starts to overfit after the second epoch. The Long short-term memory is not helping much  with the overfitting problem. Furthermore, the accuracy reached with the LSTM (0.7787) is worse than with the simple RNN (0.7098) and the GRU (0.7932).**"
      ]
    },
    {
      "cell_type": "markdown",
      "metadata": {
        "id": "nALULaj_9k4S"
      },
      "source": [
        "##### **Trying to predict if a tweet is a disater tweet or not**"
      ]
    },
    {
      "cell_type": "code",
      "metadata": {
        "colab": {
          "base_uri": "https://localhost:8080/"
        },
        "id": "aKqF-1kA9lFk",
        "outputId": "80df6d14-0bea-41ba-c41a-403c97376e1b"
      },
      "source": [
        "sentence = \"This is an earthquake\"\n",
        "sentence_tokenize = tokenizer.texts_to_sequences(sentence)\n",
        "sentence_pad = tf.keras.preprocessing.sequence.pad_sequences(sentence_tokenize, padding=\"post\")\n",
        "model_gru.predict(sentence_pad)"
      ],
      "execution_count": 83,
      "outputs": [
        {
          "output_type": "execute_result",
          "data": {
            "text/plain": [
              "array([[0.52611023],\n",
              "       [0.46242073],\n",
              "       [0.468751  ],\n",
              "       [0.43305215],\n",
              "       [0.468751  ],\n",
              "       [0.468751  ],\n",
              "       [0.43305215],\n",
              "       [0.468751  ],\n",
              "       [0.468751  ],\n",
              "       [0.468751  ],\n",
              "       [0.468751  ],\n",
              "       [0.41497752],\n",
              "       [0.468751  ],\n",
              "       [0.3914472 ],\n",
              "       [0.52611023],\n",
              "       [0.46242073],\n",
              "       [0.45697778],\n",
              "       [0.46837136],\n",
              "       [0.468751  ],\n",
              "       [0.45962307],\n",
              "       [0.41497752]], dtype=float32)"
            ]
          },
          "metadata": {},
          "execution_count": 83
        }
      ]
    },
    {
      "cell_type": "markdown",
      "metadata": {
        "id": "ya6WMBbaC76U"
      },
      "source": [
        "# **Summary and metrics of the three models tested**"
      ]
    },
    {
      "cell_type": "code",
      "metadata": {
        "id": "rVlwd4VOC8PW"
      },
      "source": [
        "summary = [[\"Simple recurrent neural network\", \"0.6538 - 0.7098\"],\n",
        "           [\"Gated recurrent unit\", \"0.5141 - 0.7932\"],\n",
        "           [\"Long short-term memory\", \"0.4841 - 0.7787\"]]\n",
        "\n",
        "summary = pd.DataFrame(summary, index=[0, 1, 2], columns=[\"Model description\", \"Best validation loss/validation accuracy pair\"])"
      ],
      "execution_count": 85,
      "outputs": []
    },
    {
      "cell_type": "code",
      "metadata": {
        "colab": {
          "base_uri": "https://localhost:8080/",
          "height": 142
        },
        "id": "OMnaTV5tFlXf",
        "outputId": "a2cd1738-3c6f-4aa3-93a7-cc70213c2ea2"
      },
      "source": [
        "summary"
      ],
      "execution_count": 86,
      "outputs": [
        {
          "output_type": "execute_result",
          "data": {
            "text/html": [
              "<div>\n",
              "<style scoped>\n",
              "    .dataframe tbody tr th:only-of-type {\n",
              "        vertical-align: middle;\n",
              "    }\n",
              "\n",
              "    .dataframe tbody tr th {\n",
              "        vertical-align: top;\n",
              "    }\n",
              "\n",
              "    .dataframe thead th {\n",
              "        text-align: right;\n",
              "    }\n",
              "</style>\n",
              "<table border=\"1\" class=\"dataframe\">\n",
              "  <thead>\n",
              "    <tr style=\"text-align: right;\">\n",
              "      <th></th>\n",
              "      <th>Model description</th>\n",
              "      <th>Best validation loss/validation accuracy pair</th>\n",
              "    </tr>\n",
              "  </thead>\n",
              "  <tbody>\n",
              "    <tr>\n",
              "      <th>0</th>\n",
              "      <td>Simple recurrent neural network</td>\n",
              "      <td>0.6538 - 0.7098</td>\n",
              "    </tr>\n",
              "    <tr>\n",
              "      <th>1</th>\n",
              "      <td>Gated recurrent unit</td>\n",
              "      <td>0.5141 - 0.7932</td>\n",
              "    </tr>\n",
              "    <tr>\n",
              "      <th>2</th>\n",
              "      <td>Long short-term memory</td>\n",
              "      <td>0.4841 - 0.7787</td>\n",
              "    </tr>\n",
              "  </tbody>\n",
              "</table>\n",
              "</div>"
            ],
            "text/plain": [
              "                 Model description Best validation loss/validation accuracy pair\n",
              "0  Simple recurrent neural network                               0.6538 - 0.7098\n",
              "1             Gated recurrent unit                               0.5141 - 0.7932\n",
              "2           Long short-term memory                               0.4841 - 0.7787"
            ]
          },
          "metadata": {},
          "execution_count": 86
        }
      ]
    },
    {
      "cell_type": "markdown",
      "metadata": {
        "id": "gb71oLOrGKk4"
      },
      "source": [
        "# **Conclusion**"
      ]
    },
    {
      "cell_type": "markdown",
      "metadata": {
        "id": "mRe_RabNGOso"
      },
      "source": [
        "##### The GRU is the model which gives the best performance amongst the three models tested with the tweets dataset.\n",
        "##### It is encouraging to have more or less good results for a first experience with natural language processing. Nevertheless, I am not satisfied with my personal comprehension of this complex subject. I will continue to practice again and again till I get more familiar with the different steps of the process."
      ]
    },
    {
      "cell_type": "code",
      "metadata": {
        "id": "AotRiKZAFsZU"
      },
      "source": [
        ""
      ],
      "execution_count": null,
      "outputs": []
    }
  ]
}